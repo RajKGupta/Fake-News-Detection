{
  "nbformat": 4,
  "nbformat_minor": 0,
  "metadata": {
    "kernelspec": {
      "name": "python3",
      "display_name": "Python 3"
    },
    "colab": {
      "name": "Raj Intern Fast.AI AWD_LSTM.ipynb",
      "version": "0.3.2",
      "provenance": [],
      "collapsed_sections": [],
      "toc_visible": true
    },
    "accelerator": "GPU"
  },
  "cells": [
    {
      "cell_type": "markdown",
      "metadata": {
        "id": "gEiYxl00H4PC",
        "colab_type": "text"
      },
      "source": [
        "# Fake News Detection using LSTM"
      ]
    },
    {
      "cell_type": "markdown",
      "metadata": {
        "id": "V8_0p4O1O8mQ",
        "colab_type": "text"
      },
      "source": [
        "Declaration: this approach is motivated by the FastAI course and I have used the library methods \n",
        "Steps followed:\n",
        "\n",
        "Following steps are perforemd while preparing the data\n",
        "\n",
        "\n",
        "1.   Downloading the data and loading the data in pandas dataframe\n",
        "2.   Identification of missing values and replacing numerical values with median and the text values with NA\n",
        "3.  Preparing the binary class label\n",
        "4.  Using the FastAI approach first we will prepare a language model and then use transfer learning to train a classifier model\n",
        "5  Accuracy Binary - ~64%\n",
        "6  Accuracy 6 way - ~30%\n",
        "\n",
        "\n"
      ]
    },
    {
      "cell_type": "code",
      "metadata": {
        "id": "aKnXOB7SH4PD",
        "colab_type": "code",
        "colab": {}
      },
      "source": [
        "%reload_ext autoreload\n",
        "%autoreload 2\n",
        "%matplotlib inline"
      ],
      "execution_count": 0,
      "outputs": []
    },
    {
      "cell_type": "code",
      "metadata": {
        "id": "deuxfYPOH4PG",
        "colab_type": "code",
        "colab": {}
      },
      "source": [
        "from fastai.text import *"
      ],
      "execution_count": 0,
      "outputs": []
    },
    {
      "cell_type": "markdown",
      "metadata": {
        "id": "HgQRiXV5H4PH",
        "colab_type": "text"
      },
      "source": [
        "## Preparing the data"
      ]
    },
    {
      "cell_type": "markdown",
      "metadata": {
        "id": "f2jigSPcMYTZ",
        "colab_type": "text"
      },
      "source": [
        "### Import  Data"
      ]
    },
    {
      "cell_type": "code",
      "metadata": {
        "id": "UgELFv8ZJPJh",
        "colab_type": "code",
        "outputId": "c8abd783-1bb6-4e3c-b9f5-3513a7994321",
        "colab": {
          "base_uri": "https://localhost:8080/",
          "height": 204
        }
      },
      "source": [
        "!wget https://raw.githubusercontent.com/Tariq60/LIAR-PLUS/master/dataset/train2.tsv"
      ],
      "execution_count": 0,
      "outputs": [
        {
          "output_type": "stream",
          "text": [
            "--2019-08-10 09:26:27--  https://raw.githubusercontent.com/Tariq60/LIAR-PLUS/master/dataset/train2.tsv\n",
            "Resolving raw.githubusercontent.com (raw.githubusercontent.com)... 151.101.0.133, 151.101.64.133, 151.101.128.133, ...\n",
            "Connecting to raw.githubusercontent.com (raw.githubusercontent.com)|151.101.0.133|:443... connected.\n",
            "HTTP request sent, awaiting response... 200 OK\n",
            "Length: 6969628 (6.6M) [text/plain]\n",
            "Saving to: ‘train2.tsv.2’\n",
            "\n",
            "\rtrain2.tsv.2          0%[                    ]       0  --.-KB/s               \rtrain2.tsv.2         43%[=======>            ]   2.87M  14.4MB/s               \rtrain2.tsv.2        100%[===================>]   6.65M  29.2MB/s    in 0.2s    \n",
            "\n",
            "2019-08-10 09:26:27 (29.2 MB/s) - ‘train2.tsv.2’ saved [6969628/6969628]\n",
            "\n"
          ],
          "name": "stdout"
        }
      ]
    },
    {
      "cell_type": "code",
      "metadata": {
        "id": "__d2HcG3JTDz",
        "colab_type": "code",
        "outputId": "79d38c98-e5be-4f85-b27f-9cd7c7724bb7",
        "colab": {
          "base_uri": "https://localhost:8080/",
          "height": 204
        }
      },
      "source": [
        "!wget https://raw.githubusercontent.com/Tariq60/LIAR-PLUS/master/dataset/val2.tsv"
      ],
      "execution_count": 0,
      "outputs": [
        {
          "output_type": "stream",
          "text": [
            "--2019-08-10 09:26:29--  https://raw.githubusercontent.com/Tariq60/LIAR-PLUS/master/dataset/val2.tsv\n",
            "Resolving raw.githubusercontent.com (raw.githubusercontent.com)... 151.101.0.133, 151.101.64.133, 151.101.128.133, ...\n",
            "Connecting to raw.githubusercontent.com (raw.githubusercontent.com)|151.101.0.133|:443... connected.\n",
            "HTTP request sent, awaiting response... 200 OK\n",
            "Length: 863858 (844K) [text/plain]\n",
            "Saving to: ‘val2.tsv.2’\n",
            "\n",
            "\rval2.tsv.2            0%[                    ]       0  --.-KB/s               \rval2.tsv.2          100%[===================>] 843.61K  --.-KB/s    in 0.1s    \n",
            "\n",
            "2019-08-10 09:26:30 (5.54 MB/s) - ‘val2.tsv.2’ saved [863858/863858]\n",
            "\n"
          ],
          "name": "stdout"
        }
      ]
    },
    {
      "cell_type": "code",
      "metadata": {
        "id": "wZvmxqC4JVS4",
        "colab_type": "code",
        "outputId": "fe63a751-f9d6-4b6b-fd83-77275c6e505d",
        "colab": {
          "base_uri": "https://localhost:8080/",
          "height": 204
        }
      },
      "source": [
        "!wget https://raw.githubusercontent.com/Tariq60/LIAR-PLUS/master/dataset/test2.tsv"
      ],
      "execution_count": 0,
      "outputs": [
        {
          "output_type": "stream",
          "text": [
            "--2019-08-10 09:26:32--  https://raw.githubusercontent.com/Tariq60/LIAR-PLUS/master/dataset/test2.tsv\n",
            "Resolving raw.githubusercontent.com (raw.githubusercontent.com)... 151.101.0.133, 151.101.64.133, 151.101.128.133, ...\n",
            "Connecting to raw.githubusercontent.com (raw.githubusercontent.com)|151.101.0.133|:443... connected.\n",
            "HTTP request sent, awaiting response... 200 OK\n",
            "Length: 869788 (849K) [text/plain]\n",
            "Saving to: ‘test2.tsv.2’\n",
            "\n",
            "\rtest2.tsv.2           0%[                    ]       0  --.-KB/s               \rtest2.tsv.2         100%[===================>] 849.40K  --.-KB/s    in 0.1s    \n",
            "\n",
            "2019-08-10 09:26:33 (5.62 MB/s) - ‘test2.tsv.2’ saved [869788/869788]\n",
            "\n"
          ],
          "name": "stdout"
        }
      ]
    },
    {
      "cell_type": "code",
      "metadata": {
        "id": "uMSy19sxNg22",
        "colab_type": "code",
        "outputId": "9c453ed5-0d27-4e4d-9bf2-1ce9e4dd9372",
        "colab": {
          "base_uri": "https://localhost:8080/",
          "height": 204
        }
      },
      "source": [
        "!wget https://raw.githubusercontent.com/Tariq60/LIAR-PLUS/master/forbidden_words.txt"
      ],
      "execution_count": 0,
      "outputs": [
        {
          "output_type": "stream",
          "text": [
            "--2019-08-10 09:26:35--  https://raw.githubusercontent.com/Tariq60/LIAR-PLUS/master/forbidden_words.txt\n",
            "Resolving raw.githubusercontent.com (raw.githubusercontent.com)... 151.101.0.133, 151.101.64.133, 151.101.128.133, ...\n",
            "Connecting to raw.githubusercontent.com (raw.githubusercontent.com)|151.101.0.133|:443... connected.\n",
            "HTTP request sent, awaiting response... 200 OK\n",
            "Length: 259 [text/plain]\n",
            "Saving to: ‘forbidden_words.txt.2’\n",
            "\n",
            "\rforbidden_words.txt   0%[                    ]       0  --.-KB/s               \rforbidden_words.txt 100%[===================>]     259  --.-KB/s    in 0s      \n",
            "\n",
            "2019-08-10 09:26:35 (66.5 MB/s) - ‘forbidden_words.txt.2’ saved [259/259]\n",
            "\n"
          ],
          "name": "stdout"
        }
      ]
    },
    {
      "cell_type": "code",
      "metadata": {
        "id": "6zFkekU5Nzut",
        "colab_type": "code",
        "outputId": "552afb4a-9ae7-448a-cae7-bf71adc334a8",
        "colab": {
          "base_uri": "https://localhost:8080/",
          "height": 493
        }
      },
      "source": [
        "with open(\"forbidden_words.txt\") as f: # Print forbidden words\n",
        "  print(f.read())"
      ],
      "execution_count": 0,
      "outputs": [
        {
          "output_type": "stream",
          "text": [
            "misleading\n",
            "truth\n",
            "inaccurate\n",
            "evidence\n",
            "wrong\n",
            "incorrect\n",
            "true\n",
            "fake\n",
            "absurd\n",
            "ridiculous\n",
            "ridiculously\n",
            "mistake\n",
            "exaggerates\n",
            "barely true\n",
            "barely-true\n",
            "mostly false\n",
            "barely\n",
            "mostly\n",
            "claim\n",
            "true\n",
            "false\n",
            "half-true\n",
            "half true\n",
            "truth\n",
            "mostly-ture\n",
            "mostly true\n",
            "pants-on-fire\n",
            "pants on fire\n"
          ],
          "name": "stdout"
        }
      ]
    },
    {
      "cell_type": "code",
      "metadata": {
        "id": "FPQ7roDDJdKe",
        "colab_type": "code",
        "colab": {}
      },
      "source": [
        "df_train = pd.read_csv(\"train2.tsv\", sep=\"\\t\", header=None)"
      ],
      "execution_count": 0,
      "outputs": []
    },
    {
      "cell_type": "code",
      "metadata": {
        "id": "ocpvFIAgJgNP",
        "colab_type": "code",
        "colab": {}
      },
      "source": [
        "df_valid = pd.read_csv(\"val2.tsv\", sep=\"\\t\", header=None)"
      ],
      "execution_count": 0,
      "outputs": []
    },
    {
      "cell_type": "code",
      "metadata": {
        "id": "McSYbCEKJgjT",
        "colab_type": "code",
        "colab": {}
      },
      "source": [
        "df_test = pd.read_csv(\"test2.tsv\", sep=\"\\t\", header=None)"
      ],
      "execution_count": 0,
      "outputs": []
    },
    {
      "cell_type": "code",
      "metadata": {
        "id": "_WgOf1Nb-58S",
        "colab_type": "code",
        "outputId": "d2db7e5f-3f60-4f8e-ebb6-904425d33acc",
        "colab": {
          "base_uri": "https://localhost:8080/",
          "height": 34
        }
      },
      "source": [
        "df_train[3].values[:1]"
      ],
      "execution_count": 0,
      "outputs": [
        {
          "output_type": "execute_result",
          "data": {
            "text/plain": [
              "array(['Says the Annies List political group supports third-trimester abortions on demand.'], dtype=object)"
            ]
          },
          "metadata": {
            "tags": []
          },
          "execution_count": 14
        }
      ]
    },
    {
      "cell_type": "code",
      "metadata": {
        "id": "uguIrPOd0J8o",
        "colab_type": "code",
        "outputId": "f7a4f328-d5fe-4a10-9e1c-80f7e19d52ef",
        "colab": {
          "base_uri": "https://localhost:8080/",
          "height": 666
        }
      },
      "source": [
        "df_train.head()"
      ],
      "execution_count": 0,
      "outputs": [
        {
          "output_type": "execute_result",
          "data": {
            "text/html": [
              "<div>\n",
              "<style scoped>\n",
              "    .dataframe tbody tr th:only-of-type {\n",
              "        vertical-align: middle;\n",
              "    }\n",
              "\n",
              "    .dataframe tbody tr th {\n",
              "        vertical-align: top;\n",
              "    }\n",
              "\n",
              "    .dataframe thead th {\n",
              "        text-align: right;\n",
              "    }\n",
              "</style>\n",
              "<table border=\"1\" class=\"dataframe\">\n",
              "  <thead>\n",
              "    <tr style=\"text-align: right;\">\n",
              "      <th></th>\n",
              "      <th>0</th>\n",
              "      <th>1</th>\n",
              "      <th>2</th>\n",
              "      <th>3</th>\n",
              "      <th>4</th>\n",
              "      <th>5</th>\n",
              "      <th>6</th>\n",
              "      <th>7</th>\n",
              "      <th>8</th>\n",
              "      <th>9</th>\n",
              "      <th>10</th>\n",
              "      <th>11</th>\n",
              "      <th>12</th>\n",
              "      <th>13</th>\n",
              "      <th>14</th>\n",
              "      <th>15</th>\n",
              "    </tr>\n",
              "  </thead>\n",
              "  <tbody>\n",
              "    <tr>\n",
              "      <th>0</th>\n",
              "      <td>0</td>\n",
              "      <td>2635.json</td>\n",
              "      <td>false</td>\n",
              "      <td>Says the Annies List political group supports ...</td>\n",
              "      <td>abortion</td>\n",
              "      <td>dwayne-bohac</td>\n",
              "      <td>State representative</td>\n",
              "      <td>Texas</td>\n",
              "      <td>republican</td>\n",
              "      <td>0.0</td>\n",
              "      <td>1.0</td>\n",
              "      <td>0.0</td>\n",
              "      <td>0.0</td>\n",
              "      <td>0.0</td>\n",
              "      <td>a mailer</td>\n",
              "      <td>That's a premise that he fails to back up. Ann...</td>\n",
              "    </tr>\n",
              "    <tr>\n",
              "      <th>1</th>\n",
              "      <td>1</td>\n",
              "      <td>10540.json</td>\n",
              "      <td>half-true</td>\n",
              "      <td>When did the decline of coal start? It started...</td>\n",
              "      <td>energy,history,job-accomplishments</td>\n",
              "      <td>scott-surovell</td>\n",
              "      <td>State delegate</td>\n",
              "      <td>Virginia</td>\n",
              "      <td>democrat</td>\n",
              "      <td>0.0</td>\n",
              "      <td>0.0</td>\n",
              "      <td>1.0</td>\n",
              "      <td>1.0</td>\n",
              "      <td>0.0</td>\n",
              "      <td>a floor speech.</td>\n",
              "      <td>Surovell said the decline of coal \"started whe...</td>\n",
              "    </tr>\n",
              "    <tr>\n",
              "      <th>2</th>\n",
              "      <td>2</td>\n",
              "      <td>324.json</td>\n",
              "      <td>mostly-true</td>\n",
              "      <td>Hillary Clinton agrees with John McCain \"by vo...</td>\n",
              "      <td>foreign-policy</td>\n",
              "      <td>barack-obama</td>\n",
              "      <td>President</td>\n",
              "      <td>Illinois</td>\n",
              "      <td>democrat</td>\n",
              "      <td>70.0</td>\n",
              "      <td>71.0</td>\n",
              "      <td>160.0</td>\n",
              "      <td>163.0</td>\n",
              "      <td>9.0</td>\n",
              "      <td>Denver</td>\n",
              "      <td>Obama said he would have voted against the ame...</td>\n",
              "    </tr>\n",
              "    <tr>\n",
              "      <th>3</th>\n",
              "      <td>3</td>\n",
              "      <td>1123.json</td>\n",
              "      <td>false</td>\n",
              "      <td>Health care reform legislation is likely to ma...</td>\n",
              "      <td>health-care</td>\n",
              "      <td>blog-posting</td>\n",
              "      <td>NaN</td>\n",
              "      <td>NaN</td>\n",
              "      <td>none</td>\n",
              "      <td>7.0</td>\n",
              "      <td>19.0</td>\n",
              "      <td>3.0</td>\n",
              "      <td>5.0</td>\n",
              "      <td>44.0</td>\n",
              "      <td>a news release</td>\n",
              "      <td>The release may have a point that Mikulskis co...</td>\n",
              "    </tr>\n",
              "    <tr>\n",
              "      <th>4</th>\n",
              "      <td>4</td>\n",
              "      <td>9028.json</td>\n",
              "      <td>half-true</td>\n",
              "      <td>The economic turnaround started at the end of ...</td>\n",
              "      <td>economy,jobs</td>\n",
              "      <td>charlie-crist</td>\n",
              "      <td>NaN</td>\n",
              "      <td>Florida</td>\n",
              "      <td>democrat</td>\n",
              "      <td>15.0</td>\n",
              "      <td>9.0</td>\n",
              "      <td>20.0</td>\n",
              "      <td>19.0</td>\n",
              "      <td>2.0</td>\n",
              "      <td>an interview on CNN</td>\n",
              "      <td>Crist said that the economic \"turnaround start...</td>\n",
              "    </tr>\n",
              "  </tbody>\n",
              "</table>\n",
              "</div>"
            ],
            "text/plain": [
              "   0   ...                                                 15\n",
              "0   0  ...  That's a premise that he fails to back up. Ann...\n",
              "1   1  ...  Surovell said the decline of coal \"started whe...\n",
              "2   2  ...  Obama said he would have voted against the ame...\n",
              "3   3  ...  The release may have a point that Mikulskis co...\n",
              "4   4  ...  Crist said that the economic \"turnaround start...\n",
              "\n",
              "[5 rows x 16 columns]"
            ]
          },
          "metadata": {
            "tags": []
          },
          "execution_count": 12
        }
      ]
    },
    {
      "cell_type": "markdown",
      "metadata": {
        "id": "qRIZSXz2Miem",
        "colab_type": "text"
      },
      "source": [
        "### Clean Data"
      ]
    },
    {
      "cell_type": "code",
      "metadata": {
        "id": "WOFW9W8yZq1n",
        "colab_type": "code",
        "colab": {}
      },
      "source": [
        "df_cols = ['label', 'statement', 'subject', 'speaker', 'speaker\\'s_job', 'state', 'party_affiliation', \n",
        "           'barely_true', 'false', 'half_true', 'mostly_true', 'pants_on_fire', 'context', 'justification']\n",
        "# col 8 - 12 are historical counts for person"
      ],
      "execution_count": 0,
      "outputs": []
    },
    {
      "cell_type": "code",
      "metadata": {
        "id": "gi4iyB0WJlqK",
        "colab_type": "code",
        "colab": {}
      },
      "source": [
        "df_train = df_train.drop(columns=[0, 1]) ; df_train.columns = df_cols"
      ],
      "execution_count": 0,
      "outputs": []
    },
    {
      "cell_type": "code",
      "metadata": {
        "id": "eoxzQsQTMm0h",
        "colab_type": "code",
        "colab": {}
      },
      "source": [
        "df_valid = df_valid.drop(columns=[0, 1]) ; df_valid.columns = df_cols"
      ],
      "execution_count": 0,
      "outputs": []
    },
    {
      "cell_type": "code",
      "metadata": {
        "id": "kU_1LyUaMq1T",
        "colab_type": "code",
        "colab": {}
      },
      "source": [
        "df_test = df_test.drop(columns=[0, 1]) ; df_test.columns = df_cols"
      ],
      "execution_count": 0,
      "outputs": []
    },
    {
      "cell_type": "code",
      "metadata": {
        "id": "nm0ktnGiK1s7",
        "colab_type": "code",
        "colab": {}
      },
      "source": [
        "df_train['subject'].fillna(\"NA\", inplace = True)\n",
        "df_valid['subject'].fillna(\"NA\", inplace = True)\n",
        "df_test['subject'].fillna(\"NA\", inplace = True)\n",
        "\n",
        "df_train['speaker'].fillna(\"NA\", inplace = True)\n",
        "df_valid['speaker'].fillna(\"NA\", inplace = True)\n",
        "df_test['speaker'].fillna(\"NA\", inplace = True)\n",
        "\n",
        "df_train['speaker\\'s_job'].fillna(\"NA\", inplace = True)\n",
        "df_valid['speaker\\'s_job'].fillna(\"NA\", inplace = True)\n",
        "df_test['speaker\\'s_job'].fillna(\"NA\", inplace = True)\n",
        "\n",
        "df_train['party_affiliation'].fillna(\"NA\", inplace = True)\n",
        "df_valid['party_affiliation'].fillna(\"NA\", inplace = True)\n",
        "df_test['party_affiliation'].fillna(\"NA\", inplace = True)\n",
        "\n",
        "df_train['context'].fillna(\"NA\", inplace = True)\n",
        "df_valid['context'].fillna(\"NA\", inplace = True)\n",
        "df_test['context'].fillna(\"NA\", inplace = True)\n",
        "\n",
        "df_train['state'].fillna(\"NA\", inplace = True)\n",
        "df_valid['state'].fillna(\"NA\", inplace = True)\n",
        "df_test['state'].fillna(\"NA\", inplace = True)\n",
        "\n",
        "\n",
        "df_train['justification'].fillna(\"NA\", inplace = True)\n",
        "df_valid['justification'].fillna(\"NA\", inplace = True)\n",
        "df_test['justification'].fillna(\"NA\", inplace = True)\n",
        "\n",
        "df_train['barely_true'].fillna(df_train['barely_true'].median(), inplace = True)\n",
        "df_valid['barely_true'].fillna(df_train['barely_true'].median(), inplace = True)\n",
        "df_test['barely_true'].fillna(df_train['barely_true'].median(), inplace = True)\n",
        "\n",
        "\n",
        "df_train['barely_true'].fillna(df_train['barely_true'].median(), inplace = True)\n",
        "df_valid['barely_true'].fillna(df_train['barely_true'].median(), inplace = True)\n",
        "df_test['barely_true'].fillna(df_train['barely_true'].median(), inplace = True)\n",
        "\n",
        "\n",
        "df_train['false'].fillna(df_train['false'].median(), inplace = True)\n",
        "df_valid['false'].fillna(df_train['false'].median(), inplace = True)\n",
        "df_test['false'].fillna(df_train['false'].median(), inplace = True)\n",
        "\n",
        "df_train['half_true'].fillna(df_train['half_true'].median(), inplace = True)\n",
        "df_valid['half_true'].fillna(df_train['half_true'].median(), inplace = True)\n",
        "df_test['half_true'].fillna(df_train['half_true'].median(), inplace = True)\n",
        "\n",
        "df_train['mostly_true'].fillna(df_train['mostly_true'].median(), inplace = True)\n",
        "df_valid['mostly_true'].fillna(df_train['mostly_true'].median(), inplace = True)\n",
        "df_test['mostly_true'].fillna(df_train['mostly_true'].median(), inplace = True)\n",
        "\n",
        "df_train['pants_on_fire'].fillna(df_train['pants_on_fire'].median(), inplace = True)\n",
        "df_valid['pants_on_fire'].fillna(df_train['pants_on_fire'].median(), inplace = True)\n",
        "df_test['pants_on_fire'].fillna(df_train['pants_on_fire'].median(), inplace = True)\n",
        "\n",
        "df_train['reputation'] = df_train['false']*-2 + df_train['barely_true']*-1+df_train['pants_on_fire']*-3 + df_train['half_true'] + df_train['mostly_true']*2  \n",
        "df_valid['reputation'] = df_valid['false']*-2 + df_valid['barely_true']*-1+df_valid['pants_on_fire']*-3 + df_valid['half_true'] + df_valid['mostly_true']*2\n",
        "df_test['reputation'] = df_test['false']*-2 + df_test['barely_true']*-1+df_test['pants_on_fire']*-3 + df_test['half_true'] + df_test['mostly_true']*2\n",
        "\n",
        "\n"
      ],
      "execution_count": 0,
      "outputs": []
    },
    {
      "cell_type": "code",
      "metadata": {
        "id": "gVzpmHnhJlPQ",
        "colab_type": "code",
        "outputId": "18fd4b2e-14be-4da5-f8dc-d735b90678c5",
        "colab": {
          "base_uri": "https://localhost:8080/",
          "height": 383
        }
      },
      "source": [
        "df_train[:3]"
      ],
      "execution_count": 0,
      "outputs": [
        {
          "output_type": "execute_result",
          "data": {
            "text/html": [
              "<div>\n",
              "<style scoped>\n",
              "    .dataframe tbody tr th:only-of-type {\n",
              "        vertical-align: middle;\n",
              "    }\n",
              "\n",
              "    .dataframe tbody tr th {\n",
              "        vertical-align: top;\n",
              "    }\n",
              "\n",
              "    .dataframe thead th {\n",
              "        text-align: right;\n",
              "    }\n",
              "</style>\n",
              "<table border=\"1\" class=\"dataframe\">\n",
              "  <thead>\n",
              "    <tr style=\"text-align: right;\">\n",
              "      <th></th>\n",
              "      <th>label</th>\n",
              "      <th>statement</th>\n",
              "      <th>subject</th>\n",
              "      <th>speaker</th>\n",
              "      <th>speaker's_job</th>\n",
              "      <th>state</th>\n",
              "      <th>party_affiliation</th>\n",
              "      <th>barely_true</th>\n",
              "      <th>false</th>\n",
              "      <th>half_true</th>\n",
              "      <th>mostly_true</th>\n",
              "      <th>pants_on_fire</th>\n",
              "      <th>context</th>\n",
              "      <th>justification</th>\n",
              "      <th>reputation</th>\n",
              "    </tr>\n",
              "  </thead>\n",
              "  <tbody>\n",
              "    <tr>\n",
              "      <th>0</th>\n",
              "      <td>false</td>\n",
              "      <td>Says the Annies List political group supports ...</td>\n",
              "      <td>abortion</td>\n",
              "      <td>dwayne-bohac</td>\n",
              "      <td>State representative</td>\n",
              "      <td>Texas</td>\n",
              "      <td>republican</td>\n",
              "      <td>0.0</td>\n",
              "      <td>1.0</td>\n",
              "      <td>0.0</td>\n",
              "      <td>0.0</td>\n",
              "      <td>0.0</td>\n",
              "      <td>a mailer</td>\n",
              "      <td>That's a premise that he fails to back up. Ann...</td>\n",
              "      <td>-2.0</td>\n",
              "    </tr>\n",
              "    <tr>\n",
              "      <th>1</th>\n",
              "      <td>half-true</td>\n",
              "      <td>When did the decline of coal start? It started...</td>\n",
              "      <td>energy,history,job-accomplishments</td>\n",
              "      <td>scott-surovell</td>\n",
              "      <td>State delegate</td>\n",
              "      <td>Virginia</td>\n",
              "      <td>democrat</td>\n",
              "      <td>0.0</td>\n",
              "      <td>0.0</td>\n",
              "      <td>1.0</td>\n",
              "      <td>1.0</td>\n",
              "      <td>0.0</td>\n",
              "      <td>a floor speech.</td>\n",
              "      <td>Surovell said the decline of coal \"started whe...</td>\n",
              "      <td>3.0</td>\n",
              "    </tr>\n",
              "    <tr>\n",
              "      <th>2</th>\n",
              "      <td>mostly-true</td>\n",
              "      <td>Hillary Clinton agrees with John McCain \"by vo...</td>\n",
              "      <td>foreign-policy</td>\n",
              "      <td>barack-obama</td>\n",
              "      <td>President</td>\n",
              "      <td>Illinois</td>\n",
              "      <td>democrat</td>\n",
              "      <td>70.0</td>\n",
              "      <td>71.0</td>\n",
              "      <td>160.0</td>\n",
              "      <td>163.0</td>\n",
              "      <td>9.0</td>\n",
              "      <td>Denver</td>\n",
              "      <td>Obama said he would have voted against the ame...</td>\n",
              "      <td>247.0</td>\n",
              "    </tr>\n",
              "  </tbody>\n",
              "</table>\n",
              "</div>"
            ],
            "text/plain": [
              "         label  ... reputation\n",
              "0        false  ...       -2.0\n",
              "1    half-true  ...        3.0\n",
              "2  mostly-true  ...      247.0\n",
              "\n",
              "[3 rows x 15 columns]"
            ]
          },
          "metadata": {
            "tags": []
          },
          "execution_count": 19
        }
      ]
    },
    {
      "cell_type": "code",
      "metadata": {
        "id": "atD491z6UfAb",
        "colab_type": "code",
        "outputId": "c34af9f8-5926-451b-e2c7-1b46e4a0f9e3",
        "colab": {
          "base_uri": "https://localhost:8080/",
          "height": 289
        }
      },
      "source": [
        "len(df_train) - df_train.count()"
      ],
      "execution_count": 0,
      "outputs": [
        {
          "output_type": "execute_result",
          "data": {
            "text/plain": [
              "label                0\n",
              "statement            0\n",
              "subject              0\n",
              "speaker              0\n",
              "speaker's_job        0\n",
              "state                0\n",
              "party_affiliation    0\n",
              "barely_true          0\n",
              "false                0\n",
              "half_true            0\n",
              "mostly_true          0\n",
              "pants_on_fire        0\n",
              "context              0\n",
              "justification        0\n",
              "reputation           0\n",
              "dtype: int64"
            ]
          },
          "metadata": {
            "tags": []
          },
          "execution_count": 19
        }
      ]
    },
    {
      "cell_type": "code",
      "metadata": {
        "id": "FLC1lyPTUuX3",
        "colab_type": "code",
        "outputId": "cf66c596-fea8-4e08-8c8b-2db4cd0f5cbc",
        "colab": {
          "base_uri": "https://localhost:8080/",
          "height": 289
        }
      },
      "source": [
        "len(df_valid) - df_valid.count()"
      ],
      "execution_count": 0,
      "outputs": [
        {
          "output_type": "execute_result",
          "data": {
            "text/plain": [
              "label                0\n",
              "statement            0\n",
              "subject              0\n",
              "speaker              0\n",
              "speaker's_job        0\n",
              "state                0\n",
              "party_affiliation    0\n",
              "barely_true          0\n",
              "false                0\n",
              "half_true            0\n",
              "mostly_true          0\n",
              "pants_on_fire        0\n",
              "context              0\n",
              "justification        0\n",
              "reputation           0\n",
              "dtype: int64"
            ]
          },
          "metadata": {
            "tags": []
          },
          "execution_count": 20
        }
      ]
    },
    {
      "cell_type": "code",
      "metadata": {
        "id": "N99OJyC_Uy9H",
        "colab_type": "code",
        "outputId": "4d54a610-06d9-4a69-f466-4ecf6309e2b9",
        "colab": {
          "base_uri": "https://localhost:8080/",
          "height": 289
        }
      },
      "source": [
        "len(df_test) - df_test.count()"
      ],
      "execution_count": 0,
      "outputs": [
        {
          "output_type": "execute_result",
          "data": {
            "text/plain": [
              "label                0\n",
              "statement            0\n",
              "subject              0\n",
              "speaker              0\n",
              "speaker's_job        0\n",
              "state                0\n",
              "party_affiliation    0\n",
              "barely_true          0\n",
              "false                0\n",
              "half_true            0\n",
              "mostly_true          0\n",
              "pants_on_fire        0\n",
              "context              0\n",
              "justification        0\n",
              "reputation           0\n",
              "dtype: int64"
            ]
          },
          "metadata": {
            "tags": []
          },
          "execution_count": 21
        }
      ]
    },
    {
      "cell_type": "code",
      "metadata": {
        "id": "YtF5y44iJl96",
        "colab_type": "code",
        "outputId": "f01a4dd9-57f6-4a71-f654-12ec25f6e4c8",
        "colab": {
          "base_uri": "https://localhost:8080/",
          "height": 185
        }
      },
      "source": [
        "df_valid[:1]"
      ],
      "execution_count": 0,
      "outputs": [
        {
          "output_type": "execute_result",
          "data": {
            "text/html": [
              "<div>\n",
              "<style scoped>\n",
              "    .dataframe tbody tr th:only-of-type {\n",
              "        vertical-align: middle;\n",
              "    }\n",
              "\n",
              "    .dataframe tbody tr th {\n",
              "        vertical-align: top;\n",
              "    }\n",
              "\n",
              "    .dataframe thead th {\n",
              "        text-align: right;\n",
              "    }\n",
              "</style>\n",
              "<table border=\"1\" class=\"dataframe\">\n",
              "  <thead>\n",
              "    <tr style=\"text-align: right;\">\n",
              "      <th></th>\n",
              "      <th>label</th>\n",
              "      <th>statement</th>\n",
              "      <th>subject</th>\n",
              "      <th>speaker</th>\n",
              "      <th>speaker's_job</th>\n",
              "      <th>state</th>\n",
              "      <th>party_affiliation</th>\n",
              "      <th>barely_true</th>\n",
              "      <th>false</th>\n",
              "      <th>half_true</th>\n",
              "      <th>mostly_true</th>\n",
              "      <th>pants_on_fire</th>\n",
              "      <th>context</th>\n",
              "      <th>justification</th>\n",
              "      <th>reputation</th>\n",
              "    </tr>\n",
              "  </thead>\n",
              "  <tbody>\n",
              "    <tr>\n",
              "      <th>0</th>\n",
              "      <td>barely-true</td>\n",
              "      <td>We have less Americans working now than in the...</td>\n",
              "      <td>economy,jobs</td>\n",
              "      <td>vicky-hartzler</td>\n",
              "      <td>U.S. Representative</td>\n",
              "      <td>Missouri</td>\n",
              "      <td>republican</td>\n",
              "      <td>1</td>\n",
              "      <td>0</td>\n",
              "      <td>1</td>\n",
              "      <td>0</td>\n",
              "      <td>0</td>\n",
              "      <td>an interview with ABC17 News</td>\n",
              "      <td>However, Hartzler was talking about the entire...</td>\n",
              "      <td>0</td>\n",
              "    </tr>\n",
              "  </tbody>\n",
              "</table>\n",
              "</div>"
            ],
            "text/plain": [
              "         label  ... reputation\n",
              "0  barely-true  ...          0\n",
              "\n",
              "[1 rows x 15 columns]"
            ]
          },
          "metadata": {
            "tags": []
          },
          "execution_count": 22
        }
      ]
    },
    {
      "cell_type": "code",
      "metadata": {
        "id": "dOl69G2NNGDH",
        "colab_type": "code",
        "outputId": "886ab030-e1e2-4d49-9fc1-1e24d519e38d",
        "colab": {
          "base_uri": "https://localhost:8080/",
          "height": 185
        }
      },
      "source": [
        "df_test[:1]"
      ],
      "execution_count": 0,
      "outputs": [
        {
          "output_type": "execute_result",
          "data": {
            "text/html": [
              "<div>\n",
              "<style scoped>\n",
              "    .dataframe tbody tr th:only-of-type {\n",
              "        vertical-align: middle;\n",
              "    }\n",
              "\n",
              "    .dataframe tbody tr th {\n",
              "        vertical-align: top;\n",
              "    }\n",
              "\n",
              "    .dataframe thead th {\n",
              "        text-align: right;\n",
              "    }\n",
              "</style>\n",
              "<table border=\"1\" class=\"dataframe\">\n",
              "  <thead>\n",
              "    <tr style=\"text-align: right;\">\n",
              "      <th></th>\n",
              "      <th>label</th>\n",
              "      <th>statement</th>\n",
              "      <th>subject</th>\n",
              "      <th>speaker</th>\n",
              "      <th>speaker's_job</th>\n",
              "      <th>state</th>\n",
              "      <th>party_affiliation</th>\n",
              "      <th>barely_true</th>\n",
              "      <th>false</th>\n",
              "      <th>half_true</th>\n",
              "      <th>mostly_true</th>\n",
              "      <th>pants_on_fire</th>\n",
              "      <th>context</th>\n",
              "      <th>justification</th>\n",
              "      <th>reputation</th>\n",
              "    </tr>\n",
              "  </thead>\n",
              "  <tbody>\n",
              "    <tr>\n",
              "      <th>0</th>\n",
              "      <td>true</td>\n",
              "      <td>Building a wall on the U.S.-Mexico border will...</td>\n",
              "      <td>immigration</td>\n",
              "      <td>rick-perry</td>\n",
              "      <td>Governor</td>\n",
              "      <td>Texas</td>\n",
              "      <td>republican</td>\n",
              "      <td>30</td>\n",
              "      <td>30</td>\n",
              "      <td>42</td>\n",
              "      <td>23</td>\n",
              "      <td>18</td>\n",
              "      <td>Radio interview</td>\n",
              "      <td>Meantime, engineering experts agree the wall w...</td>\n",
              "      <td>-56</td>\n",
              "    </tr>\n",
              "  </tbody>\n",
              "</table>\n",
              "</div>"
            ],
            "text/plain": [
              "  label  ... reputation\n",
              "0  true  ...        -56\n",
              "\n",
              "[1 rows x 15 columns]"
            ]
          },
          "metadata": {
            "tags": []
          },
          "execution_count": 23
        }
      ]
    },
    {
      "cell_type": "markdown",
      "metadata": {
        "id": "PEBMInEHbo-i",
        "colab_type": "text"
      },
      "source": [
        "#### Add Column for Binary Classification"
      ]
    },
    {
      "cell_type": "code",
      "metadata": {
        "id": "5tVz0203bn_g",
        "colab_type": "code",
        "colab": {}
      },
      "source": [
        "df_train['label_binary'] = [True if x in ['true','mostly-true','half-true'] else False for x in df_train['label']] \n",
        "df_valid['label_binary'] = [True if x in ['true','mostly-true','half-true'] else False for x in df_valid['label']] \n",
        "df_test['label_binary'] = [True if x in ['true','mostly-true','half-true'] else False for x in df_test['label']] "
      ],
      "execution_count": 0,
      "outputs": []
    },
    {
      "cell_type": "markdown",
      "metadata": {
        "id": "eqKL8MNMH4Pm",
        "colab_type": "text"
      },
      "source": [
        "## Language model"
      ]
    },
    {
      "cell_type": "markdown",
      "metadata": {
        "id": "Rv8EykRFccbm",
        "colab_type": "text"
      },
      "source": [
        "### Prepare Data"
      ]
    },
    {
      "cell_type": "code",
      "metadata": {
        "id": "8jjto6PAH4Pn",
        "colab_type": "code",
        "colab": {}
      },
      "source": [
        "bs=32"
      ],
      "execution_count": 0,
      "outputs": []
    },
    {
      "cell_type": "code",
      "metadata": {
        "id": "G366uL_lF4qS",
        "colab_type": "code",
        "colab": {}
      },
      "source": [
        "data_lm1 = TextLMDataBunch.from_df(path='./',train_df=df_train,valid_df=df_valid,test_df=df_test,\n",
        "                                   text_cols=['speaker\\'s_job','statement','subject','speaker','state','party_affiliation','justification','context']\n",
        "                                  ,max_vocab=60000, min_freq=1, mark_fields=True, include_bos=True, include_eos=True,label_cols='label', bs=bs)"
      ],
      "execution_count": 0,
      "outputs": []
    },
    {
      "cell_type": "code",
      "metadata": {
        "id": "4RMOBdCpVfjc",
        "colab_type": "code",
        "outputId": "444d6b30-7c45-4442-9529-a6deb866fa93",
        "colab": {
          "base_uri": "https://localhost:8080/",
          "height": 411
        }
      },
      "source": [
        "data_lm1.show_batch"
      ],
      "execution_count": 0,
      "outputs": [
        {
          "output_type": "execute_result",
          "data": {
            "text/plain": [
              "<bound method DataBunch.show_batch of TextLMDataBunch;\n",
              "\n",
              "Train: LabelList (10240 items)\n",
              "x: LMTextList\n",
              "xxbos xxfld 1 xxmaj state representative xxfld 2 xxmaj says the xxmaj annies xxmaj list political group supports third - trimester abortions on demand . xxfld 3 abortion xxfld 4 dwayne - bohac xxfld 5 xxmaj texas xxfld 6 republican xxfld 7 xxmaj that 's a premise that he fails to back up . xxmaj annie 's xxmaj list makes no bones about being comfortable with candidates who oppose further restrictions on late - term abortions . xxmaj then again , this year its backing two xxmaj house candidates who voted for more limits . xxfld 8 a mailer xxeos,xxbos xxfld 1 xxmaj state delegate xxfld 2 xxmaj when did the decline of coal start ? xxmaj it started when natural gas took off that started to begin in ( xxmaj president xxmaj george xxup w. ) xxmaj bushs administration . xxfld 3 energy , history , job - accomplishments xxfld 4 scott - surovell xxfld 5 xxmaj virginia xxfld 6 democrat xxfld 7 xxmaj surovell said the decline of coal \" started when natural gas took off xxmaj that started to begin in xxmaj president ( xxmaj george xxup w. ) xxmaj bushs administration . \" xxmaj no doubt , natural gas has been gaining ground on coal in generating electricity . xxmaj the trend started in the 1990s but clearly gained speed during the xxmaj bush administration when the production of natural gas -- a competitor of coal -- picked up . xxmaj but analysts give little credit or blame to xxmaj bush for that trend . xxmaj they note that other factors , such as technological innovation , entrepreneurship and policies of previous administrations , had more to do with laying the groundwork for the natural gas boom . xxfld 8 a floor speech . xxeos,xxbos xxfld 1 xxmaj president xxfld 2 xxmaj hillary xxmaj clinton agrees with xxmaj john mccain \" by voting to give xxmaj george xxmaj bush the benefit of the doubt on xxmaj iran . \" xxfld 3 foreign - policy xxfld 4 barack - obama xxfld 5 xxmaj illinois xxfld 6 democrat xxfld 7 xxmaj obama said he would have voted against the amendment if he had been present . xxmaj so though xxmaj clinton may have \" agreed \" with mccain on the issue , they did not technically vote the same way on it . xxmaj to say that voting for xxmaj kyl - xxmaj lieberman is \" giving xxmaj george xxmaj bush the benefit of the doubt on xxmaj iran \" remains a contentious issue . xxmaj but xxmaj obama 's main point is that xxmaj clinton and mccain were on the same side , and that is correct . xxfld 8 xxmaj denver xxeos,xxbos xxfld 1 xxup na xxfld 2 xxmaj health care reform legislation is likely to mandate free sex change surgeries . xxfld 3 health - care xxfld 4 blog - posting xxfld 5 xxup na xxfld 6 none xxfld 7 xxmaj the release may have a point that xxmaj mikulskis comment could open the door to \" medically necessary \" coverage which conceivably may include sex - change operations . xxmaj but it 's unclear whether her amendment will remain in the legislation , and there 's nothing specific in the legislation on sex - change procedures and nothing else solid that indicates such coverage will be provided . xxmaj the news release cherry - picked a few fleeting references to gender and sexual orientation in completely unrelated contexts to argue that proposed health care legislation would mandate free sex - change surgeries ( and allow them for illegal aliens , no less ) . xxfld 8 a news release xxeos,xxbos xxfld 1 xxup na xxfld 2 xxmaj the economic turnaround started at the end of my term . xxfld 3 economy , jobs xxfld 4 charlie - crist xxfld 5 xxmaj florida xxfld 6 democrat xxfld 7 xxmaj crist said that the economic \" turnaround started at the end of my term . \" xxmaj during xxmaj crists last year in office , xxmaj floridas economy experienced notable gains in personal income and industrial production , and more marginal improvements in the unemployment rate and in payroll employment . xxmaj but xxup gdp did nt grow again until xxmaj scott took office . xxmaj economists say xxmaj crist deserves some credit for the economic turnaround because he accepted federal stimulus dollars , but they add that any state is inevitably buffeted by national and international trends far beyond their control . xxfld 8 an interview on xxup cnn xxeos\n",
              "y: LMLabelList\n",
              ",,,,\n",
              "Path: .;\n",
              "\n",
              "Valid: LabelList (1284 items)\n",
              "x: LMTextList\n",
              "xxbos xxfld 1 xxup u.s. xxmaj representative xxfld 2 xxmaj we have less xxmaj americans working now than in the 70s . xxfld 3 economy , jobs xxfld 4 vicky - hartzler xxfld 5 xxmaj missouri xxfld 6 republican xxfld 7 xxmaj however , xxmaj hartzler was talking about the entire decade of the 70s . xxmaj the first eight years of the decade , 1970 through 1977 , have a lower employment - population ratio and a lower labor force participation rate than 2015 . xxfld 8 an interview with xxup xxunk xxmaj news xxeos,xxbos xxfld 1 xxup na xxfld 2 xxmaj when xxmaj obama was sworn into office , he xxup did xxup not use the xxmaj holy xxmaj bible , but instead the xxmaj xxunk ( xxmaj their xxunk to our xxmaj bible , but very different beliefs ) . xxfld 3 obama - birth - certificate , religion xxfld 4 chain - email xxfld 5 xxup na xxfld 6 none xxfld 7 xxmaj xxunk used a xxmaj koran that once belonged to xxmaj thomas xxmaj jefferson , borrowing the rare book from the xxmaj library of xxmaj congress . xxmaj it goes without saying that xxmaj xxunk is not xxmaj obama . xxup update : xxmaj barack xxmaj obama resigned from xxmaj trinity xxmaj united xxmaj church of xxmaj christ on xxmaj may 31 , 2008 , after church pastor xxmaj jeremiah xxup a. xxmaj wright xxmaj jr. made controversial remarks about xxup u. xxup s. foreign policy and other matters . xxfld 8 xxup na xxeos,xxbos xxfld 1 xxup u.s. representative xxfld 2 xxmaj says xxmaj having organizations xxunk as being social welfare organizations and then being involved in the political combat xxunk back to why the statute a hundred years ago said that they were prohibited . xxfld 3 campaign - finance , congress , taxes xxfld 4 earl - blumenauer xxfld 5 xxmaj oregon xxfld 6 democrat xxfld 7 xxmaj however , we have two professors who say the law is silent on political activity -- even if one of them sees an implicit prohibition -- and a plain reading of the law that states no explicit ban . xxmaj blumenauer said that \" the statute a hundred years ago said that they were prohibited . \" xxmaj there was no prohibition in the 1913 xxmaj act . xxmaj the 1913 xxmaj act was silent on political activity , for whatever reasons . xxfld 8 a xxup u.s. xxmaj ways and xxmaj means hearing xxeos,xxbos xxfld 1 xxmaj member of the xxmaj state xxmaj board of xxmaj higher xxmaj education xxfld 2 xxmaj says nearly half of xxmaj oregons children are poor . xxfld 3 poverty xxfld 4 jim - francesconi xxfld 5 xxmaj oregon xxfld 6 none xxfld 7 xxmaj in fact , if you use federal definitions for poverty , about a quarter are poor and another quarter are low - income . xxmaj but experts tell us that families that are described as low - income still struggle to meet their basic needs and , for all xxunk and purposes , qualify as poor . xxmaj be that as it may , xxmaj francesconi was referencing a report that used the federal definitions . xxmaj as such , his statement leaves out important details and we , too , think it would have been better to say \" poor and low income . xxfld 8 an opinion article xxeos,xxbos xxfld 1 xxmaj president xxfld 2 xxmaj on attacks by xxmaj republicans that various programs in the economic stimulus plan are not xxunk , \" xxmaj if you add all that stuff up , it accounts for less than 1 percent of the overall package . \" xxfld 3 economy , stimulus xxfld 4 barack - obama xxfld 5 xxmaj illinois xxfld 6 democrat xxfld 7 xxmaj obama 's point is that some perspective is in order , that legislators are xxunk over a relatively small portion of the spending . xxmaj and yes , if he 's talking about some of the most publicized projects , he 's right . xxmaj in fact , many xxmaj republicans have said large percentages of the stimulus plan would not stimulate the economy and would waste taxpayer money . xxfld 8 interview with xxup cbs xxmaj news xxeos\n",
              "y: LMLabelList\n",
              ",,,,\n",
              "Path: .;\n",
              "\n",
              "Test: LabelList (1267 items)\n",
              "x: LMTextList\n",
              "xxbos xxfld 1 xxmaj governor xxfld 2 xxmaj building a wall on the u.s.-mexico border will take literally years . xxfld 3 immigration xxfld 4 rick - perry xxfld 5 xxmaj texas xxfld 6 republican xxfld 7 xxmaj meantime , engineering experts agree the wall would most likely take years to complete . xxmaj keep in mind , too , it took more than six years to build roughly 700 miles of fence and barriers along the roughly xxunk xxup u. xxup s. -mexico border . xxfld 8 xxmaj radio interview xxeos,xxbos xxfld 1 xxmaj state representative xxfld 2 xxmaj wisconsin is on pace to double the number of layoffs this year . xxfld 3 jobs xxfld 4 katrina - shankland xxfld 5 xxmaj wisconsin xxfld 6 democrat xxfld 7 xxmaj she cited xxunk notices received by the state . xxmaj but those are nt actual layoffs . xxmaj in the time frame she cited the states added about xxunk jobs . xxfld 8 a news conference xxeos,xxbos xxfld 1 xxmaj president - xxmaj elect xxfld 2 xxmaj says xxmaj john mccain has done nothing to help the vets . xxfld 3 military , veterans , voting - record xxfld 4 donald - trump xxfld 5 xxmaj new xxmaj york xxfld 6 republican xxfld 7 xxmaj trump said that mccain \" has done nothing to help the vets . \" xxmaj while many veterans groups have had their differences with mccain over the years over specific legislation and his general approach to veterans issues , that s not the same as saying he s done \" nothing \" for veterans . xxmaj in fact , just within the past two years , mccain has sponsored and helped enact several major provisions to help veterans . xxmaj he also devotes a significant portion of his office staff to offer veterans on xxunk . xxfld 8 comments on xxup abc 's xxmaj this xxmaj week . xxeos,xxbos xxfld 1 consultant xxfld 2 xxmaj suzanne xxmaj bonamici supports a plan that will cut choice for xxmaj medicare xxmaj advantage seniors . xxfld 3 medicare , message - machine-2012,campaign - advertising xxfld 4 rob - cornilles xxfld 5 xxmaj oregon xxfld 6 republican xxfld 7 xxmaj but spending still goes up . xxmaj in addition , many outside factors can affect the cost and range of benefits , making it impossible to know how xxmaj medicare xxmaj advantage might change . xxmaj while the statement from xxmaj cornilles is partially accurate , it is taken out of context and ignores important details on a politically volatile subject . xxfld 8 a radio show xxeos,xxbos xxfld 1 xxup na xxfld 2 xxmaj when asked by a reporter whether he s at the center of a criminal scheme to violate campaign laws , xxmaj gov. xxmaj scott xxmaj walker xxunk yes . xxfld 3 campaign - finance , legal - issues , campaign - advertising xxfld 4 state - democratic - party - wisconsin xxfld 5 xxmaj wisconsin xxfld 6 democrat xxfld 7 xxmaj our rating a xxmaj democratic xxmaj party web video making the rounds on social media shows a grim - faced xxmaj gov. xxmaj scott xxmaj walker appearing to bob his head yes to a reporters question about whether he was at the center of a \" criminal scheme \" to evade campaign finance laws . xxmaj in real life , the governor answered an emphatic \" no \" -- not surprising given he s been denying any wrongdoing since new documents were released in the xxmaj john xxmaj doe investigation . xxfld 8 a web video xxeos\n",
              "y: EmptyLabelList\n",
              ",,,,\n",
              "Path: .>"
            ]
          },
          "metadata": {
            "tags": []
          },
          "execution_count": 15
        }
      ]
    },
    {
      "cell_type": "code",
      "metadata": {
        "id": "sAD5kVUhVOCE",
        "colab_type": "code",
        "outputId": "2cc3b85c-d839-47bc-efe3-db1769da38f8",
        "colab": {
          "base_uri": "https://localhost:8080/",
          "height": 34
        }
      },
      "source": [
        "len(data_lm1.vocab.itos)"
      ],
      "execution_count": 0,
      "outputs": [
        {
          "output_type": "execute_result",
          "data": {
            "text/plain": [
              "27776"
            ]
          },
          "metadata": {
            "tags": []
          },
          "execution_count": 28
        }
      ]
    },
    {
      "cell_type": "code",
      "metadata": {
        "id": "W2ssC_itATuo",
        "colab_type": "code",
        "outputId": "8d9ad79d-9727-48f0-d3a4-3306a55e7786",
        "colab": {
          "base_uri": "https://localhost:8080/",
          "height": 54
        }
      },
      "source": [
        "data_lm1.train_ds[0][0]"
      ],
      "execution_count": 0,
      "outputs": [
        {
          "output_type": "execute_result",
          "data": {
            "text/plain": [
              "Text xxbos xxfld 1 xxmaj state representative xxfld 2 xxmaj says the xxmaj annies xxmaj list political group supports third - trimester abortions on demand . xxfld 3 abortion xxfld 4 dwayne - bohac xxfld 5 xxmaj texas xxfld 6 republican xxfld 7 xxmaj that 's a premise that he fails to back up . xxmaj annie 's xxmaj list makes no bones about being comfortable with candidates who oppose further restrictions on late - term abortions . xxmaj then again , this year its backing two xxmaj house candidates who voted for more limits . xxfld 8 a mailer xxeos"
            ]
          },
          "metadata": {
            "tags": []
          },
          "execution_count": 32
        }
      ]
    },
    {
      "cell_type": "code",
      "metadata": {
        "id": "92MGJRIweYKV",
        "colab_type": "code",
        "colab": {}
      },
      "source": [
        "data_lm1.save('data_lm.pkl')"
      ],
      "execution_count": 0,
      "outputs": []
    },
    {
      "cell_type": "code",
      "metadata": {
        "id": "iPsP6Q9fXKn3",
        "colab_type": "code",
        "outputId": "0fdeb3ab-b8c2-4d94-8a4b-3ac09960ec10",
        "colab": {
          "base_uri": "https://localhost:8080/",
          "height": 122
        }
      },
      "source": [
        "from google.colab import drive\n",
        "drive.mount('/content/gdrive')"
      ],
      "execution_count": 3,
      "outputs": [
        {
          "output_type": "stream",
          "text": [
            "Go to this URL in a browser: https://accounts.google.com/o/oauth2/auth?client_id=947318989803-6bn6qk8qdgf4n4g3pfee6491hc0brc4i.apps.googleusercontent.com&redirect_uri=urn%3Aietf%3Awg%3Aoauth%3A2.0%3Aoob&scope=email%20https%3A%2F%2Fwww.googleapis.com%2Fauth%2Fdocs.test%20https%3A%2F%2Fwww.googleapis.com%2Fauth%2Fdrive%20https%3A%2F%2Fwww.googleapis.com%2Fauth%2Fdrive.photos.readonly%20https%3A%2F%2Fwww.googleapis.com%2Fauth%2Fpeopleapi.readonly&response_type=code\n",
            "\n",
            "Enter your authorization code:\n",
            "··········\n",
            "Mounted at /content/gdrive\n"
          ],
          "name": "stdout"
        }
      ]
    },
    {
      "cell_type": "code",
      "metadata": {
        "id": "uOdJhaYNYg_l",
        "colab_type": "code",
        "colab": {}
      },
      "source": [
        "root_path = 'gdrive/My Drive/ML_Practice/AWD_LSTM/'"
      ],
      "execution_count": 0,
      "outputs": []
    },
    {
      "cell_type": "code",
      "metadata": {
        "id": "dRH9I21SY2mN",
        "colab_type": "code",
        "colab": {}
      },
      "source": [
        "data_lm1.save(f'{root_path}data_lm.pkl')"
      ],
      "execution_count": 0,
      "outputs": []
    },
    {
      "cell_type": "code",
      "metadata": {
        "id": "eFFaY3JSH4P3",
        "colab_type": "code",
        "colab": {}
      },
      "source": [
        "data_lm = load_data(path=root_path, file='data_lm.pkl', bs=bs)"
      ],
      "execution_count": 0,
      "outputs": []
    },
    {
      "cell_type": "code",
      "metadata": {
        "id": "9SJZHMiwH4P5",
        "colab_type": "code",
        "outputId": "eb8723ad-5cb7-4ea7-8cdf-5928d073c306",
        "colab": {
          "base_uri": "https://localhost:8080/",
          "height": 374
        }
      },
      "source": [
        "data_lm.show_batch()"
      ],
      "execution_count": 0,
      "outputs": [
        {
          "output_type": "display_data",
          "data": {
            "text/html": [
              "<table border=\"1\" class=\"dataframe\">\n",
              "  <thead>\n",
              "    <tr style=\"text-align: right;\">\n",
              "      <th>idx</th>\n",
              "      <th>text</th>\n",
              "    </tr>\n",
              "  </thead>\n",
              "  <tbody>\n",
              "    <tr>\n",
              "      <td>0</td>\n",
              "      <td>restrictions on late - term abortions . xxmaj then again , this year its backing two xxmaj house candidates who voted for more limits . xxfld 8 a mailer xxeos xxbos xxfld 1 xxmaj state delegate xxfld 2 xxmaj when did the decline of coal start ? xxmaj it started when natural gas took off that started to begin in ( xxmaj president xxmaj george xxup w. ) xxmaj bushs</td>\n",
              "    </tr>\n",
              "    <tr>\n",
              "      <td>1</td>\n",
              "      <td>statement is accurate , as it properly notes that the negotiated bond sale process resulted in $ 770,000 in fees for xxmaj bank of xxmaj america and xxmaj merrill xxmaj lynch , without trying to tie the money directly to xxmaj sink . xxmaj scott is n't nearly as careful in his xxup tv ad . xxmaj sink did n't funnel $ 770,000 to xxmaj bank of xxmaj america .</td>\n",
              "    </tr>\n",
              "    <tr>\n",
              "      <td>2</td>\n",
              "      <td>coast xxmaj guard to patrol two lakes on the u.s.-mexico border . xxfld 3 crime , immigration xxfld 4 louie - gohmert xxfld 5 xxmaj texas xxfld 6 republican xxfld 7 xxmaj gonzalez said the xxmaj coast xxmaj guard already comes to the lake \" once in a while . . . not very often \" because , he speculated , of budgetary limits . xxmaj our sense : xxmaj</td>\n",
              "    </tr>\n",
              "    <tr>\n",
              "      <td>3</td>\n",
              "      <td>has already shuffled their administration . xxfld 8 a television ad xxeos xxbos xxfld 1 xxmaj liberal advocacy group xxfld 2 xxmaj the xxmaj paul xxmaj ryan budget proposal would privatize xxmaj medicare . xxfld 3 federal - budget , health - care , medicare xxfld 4 agenda - project xxfld 5 xxmaj new xxmaj york xxfld 6 none xxfld 7 xxmaj but \" privatization \" does not have to</td>\n",
              "    </tr>\n",
              "    <tr>\n",
              "      <td>4</td>\n",
              "      <td>xxfld 6 talk - show - host xxfld 7 xxmaj kaufman told usthat her reference to \" the cow \" was about xxmaj maddow -- the xxup msnbc commentator who played the clip of xxmaj kaufman . \" i endearingly call her xxmaj rachel xxmaj mad - cow , \" xxmaj kaufman said . xxmaj we found several news articles quoting xxmaj obama as saying exactly that and he 's</td>\n",
              "    </tr>\n",
              "  </tbody>\n",
              "</table>"
            ],
            "text/plain": [
              "<IPython.core.display.HTML object>"
            ]
          },
          "metadata": {
            "tags": []
          }
        }
      ]
    },
    {
      "cell_type": "markdown",
      "metadata": {
        "id": "YND-_Y3yH4P7",
        "colab_type": "text"
      },
      "source": [
        "We can then put this in a learner object very easily with a model loaded with the pretrained weights. They'll be downloaded the first time you'll execute the following line and stored in `~/.fastai/models/` (or elsewhere if you specified different paths in your config file)."
      ]
    },
    {
      "cell_type": "markdown",
      "metadata": {
        "id": "_aYuVRqHcW9k",
        "colab_type": "text"
      },
      "source": [
        "### Train Language Model"
      ]
    },
    {
      "cell_type": "code",
      "metadata": {
        "id": "9oKftRiTH4P8",
        "colab_type": "code",
        "colab": {}
      },
      "source": [
        "learn = language_model_learner(data_lm, AWD_LSTM, drop_mult=0.3)"
      ],
      "execution_count": 0,
      "outputs": []
    },
    {
      "cell_type": "code",
      "metadata": {
        "id": "qOwK2flaH4P-",
        "colab_type": "code",
        "outputId": "28386879-1173-42f0-f7e6-a2122a007fb7",
        "colab": {
          "base_uri": "https://localhost:8080/",
          "height": 34
        }
      },
      "source": [
        "learn.lr_find()"
      ],
      "execution_count": 0,
      "outputs": [
        {
          "output_type": "display_data",
          "data": {
            "text/html": [
              ""
            ],
            "text/plain": [
              "<IPython.core.display.HTML object>"
            ]
          },
          "metadata": {
            "tags": []
          }
        },
        {
          "output_type": "stream",
          "text": [
            "LR Finder is complete, type {learner_name}.recorder.plot() to see the graph.\n"
          ],
          "name": "stdout"
        }
      ]
    },
    {
      "cell_type": "code",
      "metadata": {
        "id": "V-C7WwQmH4QA",
        "colab_type": "code",
        "outputId": "07332bbc-c09e-44cf-9fdd-c17f4983e2fe",
        "colab": {
          "base_uri": "https://localhost:8080/",
          "height": 283
        }
      },
      "source": [
        "learn.recorder.plot()"
      ],
      "execution_count": 0,
      "outputs": [
        {
          "output_type": "display_data",
          "data": {
            "image/png": "[encoded data removed]",
            "text/plain": [
              "<Figure size 432x288 with 1 Axes>"
            ]
          },
          "metadata": {
            "tags": []
          }
        }
      ]
    },
    {
      "cell_type": "code",
      "metadata": {
        "id": "EARdp8tzH4QC",
        "colab_type": "code",
        "outputId": "4a82f7a5-c903-4682-8460-c555dce3ed47",
        "colab": {
          "base_uri": "https://localhost:8080/",
          "height": 142
        }
      },
      "source": [
        "learn.fit_one_cycle(3, 1e-2, moms=(0.8,0.7)) #Overfitting for 15 epochs changed to 3"
      ],
      "execution_count": 0,
      "outputs": [
        {
          "output_type": "display_data",
          "data": {
            "text/html": [
              "<table border=\"1\" class=\"dataframe\">\n",
              "  <thead>\n",
              "    <tr style=\"text-align: left;\">\n",
              "      <th>epoch</th>\n",
              "      <th>train_loss</th>\n",
              "      <th>valid_loss</th>\n",
              "      <th>accuracy</th>\n",
              "      <th>time</th>\n",
              "    </tr>\n",
              "  </thead>\n",
              "  <tbody>\n",
              "    <tr>\n",
              "      <td>0</td>\n",
              "      <td>3.679009</td>\n",
              "      <td>3.193678</td>\n",
              "      <td>0.416223</td>\n",
              "      <td>01:33</td>\n",
              "    </tr>\n",
              "    <tr>\n",
              "      <td>1</td>\n",
              "      <td>3.028853</td>\n",
              "      <td>3.048145</td>\n",
              "      <td>0.434388</td>\n",
              "      <td>01:33</td>\n",
              "    </tr>\n",
              "    <tr>\n",
              "      <td>2</td>\n",
              "      <td>2.762697</td>\n",
              "      <td>3.026173</td>\n",
              "      <td>0.438554</td>\n",
              "      <td>01:32</td>\n",
              "    </tr>\n",
              "  </tbody>\n",
              "</table>"
            ],
            "text/plain": [
              "<IPython.core.display.HTML object>"
            ]
          },
          "metadata": {
            "tags": []
          }
        }
      ]
    },
    {
      "cell_type": "code",
      "metadata": {
        "id": "0lwiA9mrH4QE",
        "colab_type": "code",
        "colab": {}
      },
      "source": [
        "learn.save('fit_head')"
      ],
      "execution_count": 0,
      "outputs": []
    },
    {
      "cell_type": "code",
      "metadata": {
        "id": "eqptQ01GH4QG",
        "colab_type": "code",
        "outputId": "51fc1b50-b580-4e4d-c10c-e63bb5d3feaf",
        "colab": {
          "base_uri": "https://localhost:8080/",
          "height": 1000
        }
      },
      "source": [
        "learn.load('fit_head')"
      ],
      "execution_count": 0,
      "outputs": [
        {
          "output_type": "execute_result",
          "data": {
            "text/plain": [
              "LanguageLearner(data=TextLMDataBunch;\n",
              "\n",
              "Train: LabelList (10240 items)\n",
              "x: LMTextList\n",
              "xxbos xxfld 1 xxmaj state representative xxfld 2 xxmaj says the xxmaj annies xxmaj list political group supports third - trimester abortions on demand . xxfld 3 abortion xxfld 4 dwayne - bohac xxfld 5 xxmaj texas xxfld 6 republican xxfld 7 xxmaj that 's a premise that he fails to back up . xxmaj annie 's xxmaj list makes no bones about being comfortable with candidates who oppose further restrictions on late - term abortions . xxmaj then again , this year its backing two xxmaj house candidates who voted for more limits . xxfld 8 a mailer xxeos,xxbos xxfld 1 xxmaj state delegate xxfld 2 xxmaj when did the decline of coal start ? xxmaj it started when natural gas took off that started to begin in ( xxmaj president xxmaj george xxup w. ) xxmaj bushs administration . xxfld 3 energy , history , job - accomplishments xxfld 4 scott - surovell xxfld 5 xxmaj virginia xxfld 6 democrat xxfld 7 xxmaj surovell said the decline of coal \" started when natural gas took off xxmaj that started to begin in xxmaj president ( xxmaj george xxup w. ) xxmaj bushs administration . \" xxmaj no doubt , natural gas has been gaining ground on coal in generating electricity . xxmaj the trend started in the 1990s but clearly gained speed during the xxmaj bush administration when the production of natural gas -- a competitor of coal -- picked up . xxmaj but analysts give little credit or blame to xxmaj bush for that trend . xxmaj they note that other factors , such as technological innovation , entrepreneurship and policies of previous administrations , had more to do with laying the groundwork for the natural gas boom . xxfld 8 a floor speech . xxeos,xxbos xxfld 1 xxmaj president xxfld 2 xxmaj hillary xxmaj clinton agrees with xxmaj john mccain \" by voting to give xxmaj george xxmaj bush the benefit of the doubt on xxmaj iran . \" xxfld 3 foreign - policy xxfld 4 barack - obama xxfld 5 xxmaj illinois xxfld 6 democrat xxfld 7 xxmaj obama said he would have voted against the amendment if he had been present . xxmaj so though xxmaj clinton may have \" agreed \" with mccain on the issue , they did not technically vote the same way on it . xxmaj to say that voting for xxmaj kyl - xxmaj lieberman is \" giving xxmaj george xxmaj bush the benefit of the doubt on xxmaj iran \" remains a contentious issue . xxmaj but xxmaj obama 's main point is that xxmaj clinton and mccain were on the same side , and that is correct . xxfld 8 xxmaj denver xxeos,xxbos xxfld 1 xxup na xxfld 2 xxmaj health care reform legislation is likely to mandate free sex change surgeries . xxfld 3 health - care xxfld 4 blog - posting xxfld 5 xxup na xxfld 6 none xxfld 7 xxmaj the release may have a point that xxmaj mikulskis comment could open the door to \" medically necessary \" coverage which conceivably may include sex - change operations . xxmaj but it 's unclear whether her amendment will remain in the legislation , and there 's nothing specific in the legislation on sex - change procedures and nothing else solid that indicates such coverage will be provided . xxmaj the news release cherry - picked a few fleeting references to gender and sexual orientation in completely unrelated contexts to argue that proposed health care legislation would mandate free sex - change surgeries ( and allow them for illegal aliens , no less ) . xxfld 8 a news release xxeos,xxbos xxfld 1 xxup na xxfld 2 xxmaj the economic turnaround started at the end of my term . xxfld 3 economy , jobs xxfld 4 charlie - crist xxfld 5 xxmaj florida xxfld 6 democrat xxfld 7 xxmaj crist said that the economic \" turnaround started at the end of my term . \" xxmaj during xxmaj crists last year in office , xxmaj floridas economy experienced notable gains in personal income and industrial production , and more marginal improvements in the unemployment rate and in payroll employment . xxmaj but xxup gdp did nt grow again until xxmaj scott took office . xxmaj economists say xxmaj crist deserves some credit for the economic turnaround because he accepted federal stimulus dollars , but they add that any state is inevitably buffeted by national and international trends far beyond their control . xxfld 8 an interview on xxup cnn xxeos\n",
              "y: LMLabelList\n",
              ",,,,\n",
              "Path: .;\n",
              "\n",
              "Valid: LabelList (1284 items)\n",
              "x: LMTextList\n",
              "xxbos xxfld 1 xxup u.s. xxmaj representative xxfld 2 xxmaj we have less xxmaj americans working now than in the 70s . xxfld 3 economy , jobs xxfld 4 vicky - hartzler xxfld 5 xxmaj missouri xxfld 6 republican xxfld 7 xxmaj however , xxmaj hartzler was talking about the entire decade of the 70s . xxmaj the first eight years of the decade , 1970 through 1977 , have a lower employment - population ratio and a lower labor force participation rate than 2015 . xxfld 8 an interview with xxup xxunk xxmaj news xxeos,xxbos xxfld 1 xxup na xxfld 2 xxmaj when xxmaj obama was sworn into office , he xxup did xxup not use the xxmaj holy xxmaj bible , but instead the xxmaj xxunk ( xxmaj their xxunk to our xxmaj bible , but very different beliefs ) . xxfld 3 obama - birth - certificate , religion xxfld 4 chain - email xxfld 5 xxup na xxfld 6 none xxfld 7 xxmaj xxunk used a xxmaj koran that once belonged to xxmaj thomas xxmaj jefferson , borrowing the rare book from the xxmaj library of xxmaj congress . xxmaj it goes without saying that xxmaj xxunk is not xxmaj obama . xxup update : xxmaj barack xxmaj obama resigned from xxmaj trinity xxmaj united xxmaj church of xxmaj christ on xxmaj may 31 , 2008 , after church pastor xxmaj jeremiah xxup a. xxmaj wright xxmaj jr. made controversial remarks about xxup u. xxup s. foreign policy and other matters . xxfld 8 xxup na xxeos,xxbos xxfld 1 xxup u.s. representative xxfld 2 xxmaj says xxmaj having organizations xxunk as being social welfare organizations and then being involved in the political combat xxunk back to why the statute a hundred years ago said that they were prohibited . xxfld 3 campaign - finance , congress , taxes xxfld 4 earl - blumenauer xxfld 5 xxmaj oregon xxfld 6 democrat xxfld 7 xxmaj however , we have two professors who say the law is silent on political activity -- even if one of them sees an implicit prohibition -- and a plain reading of the law that states no explicit ban . xxmaj blumenauer said that \" the statute a hundred years ago said that they were prohibited . \" xxmaj there was no prohibition in the 1913 xxmaj act . xxmaj the 1913 xxmaj act was silent on political activity , for whatever reasons . xxfld 8 a xxup u.s. xxmaj ways and xxmaj means hearing xxeos,xxbos xxfld 1 xxmaj member of the xxmaj state xxmaj board of xxmaj higher xxmaj education xxfld 2 xxmaj says nearly half of xxmaj oregons children are poor . xxfld 3 poverty xxfld 4 jim - francesconi xxfld 5 xxmaj oregon xxfld 6 none xxfld 7 xxmaj in fact , if you use federal definitions for poverty , about a quarter are poor and another quarter are low - income . xxmaj but experts tell us that families that are described as low - income still struggle to meet their basic needs and , for all xxunk and purposes , qualify as poor . xxmaj be that as it may , xxmaj francesconi was referencing a report that used the federal definitions . xxmaj as such , his statement leaves out important details and we , too , think it would have been better to say \" poor and low income . xxfld 8 an opinion article xxeos,xxbos xxfld 1 xxmaj president xxfld 2 xxmaj on attacks by xxmaj republicans that various programs in the economic stimulus plan are not xxunk , \" xxmaj if you add all that stuff up , it accounts for less than 1 percent of the overall package . \" xxfld 3 economy , stimulus xxfld 4 barack - obama xxfld 5 xxmaj illinois xxfld 6 democrat xxfld 7 xxmaj obama 's point is that some perspective is in order , that legislators are xxunk over a relatively small portion of the spending . xxmaj and yes , if he 's talking about some of the most publicized projects , he 's right . xxmaj in fact , many xxmaj republicans have said large percentages of the stimulus plan would not stimulate the economy and would waste taxpayer money . xxfld 8 interview with xxup cbs xxmaj news xxeos\n",
              "y: LMLabelList\n",
              ",,,,\n",
              "Path: .;\n",
              "\n",
              "Test: LabelList (1267 items)\n",
              "x: LMTextList\n",
              "xxbos xxfld 1 xxmaj governor xxfld 2 xxmaj building a wall on the u.s.-mexico border will take literally years . xxfld 3 immigration xxfld 4 rick - perry xxfld 5 xxmaj texas xxfld 6 republican xxfld 7 xxmaj meantime , engineering experts agree the wall would most likely take years to complete . xxmaj keep in mind , too , it took more than six years to build roughly 700 miles of fence and barriers along the roughly xxunk xxup u. xxup s. -mexico border . xxfld 8 xxmaj radio interview xxeos,xxbos xxfld 1 xxmaj state representative xxfld 2 xxmaj wisconsin is on pace to double the number of layoffs this year . xxfld 3 jobs xxfld 4 katrina - shankland xxfld 5 xxmaj wisconsin xxfld 6 democrat xxfld 7 xxmaj she cited xxunk notices received by the state . xxmaj but those are nt actual layoffs . xxmaj in the time frame she cited the states added about xxunk jobs . xxfld 8 a news conference xxeos,xxbos xxfld 1 xxmaj president - xxmaj elect xxfld 2 xxmaj says xxmaj john mccain has done nothing to help the vets . xxfld 3 military , veterans , voting - record xxfld 4 donald - trump xxfld 5 xxmaj new xxmaj york xxfld 6 republican xxfld 7 xxmaj trump said that mccain \" has done nothing to help the vets . \" xxmaj while many veterans groups have had their differences with mccain over the years over specific legislation and his general approach to veterans issues , that s not the same as saying he s done \" nothing \" for veterans . xxmaj in fact , just within the past two years , mccain has sponsored and helped enact several major provisions to help veterans . xxmaj he also devotes a significant portion of his office staff to offer veterans on xxunk . xxfld 8 comments on xxup abc 's xxmaj this xxmaj week . xxeos,xxbos xxfld 1 consultant xxfld 2 xxmaj suzanne xxmaj bonamici supports a plan that will cut choice for xxmaj medicare xxmaj advantage seniors . xxfld 3 medicare , message - machine-2012,campaign - advertising xxfld 4 rob - cornilles xxfld 5 xxmaj oregon xxfld 6 republican xxfld 7 xxmaj but spending still goes up . xxmaj in addition , many outside factors can affect the cost and range of benefits , making it impossible to know how xxmaj medicare xxmaj advantage might change . xxmaj while the statement from xxmaj cornilles is partially accurate , it is taken out of context and ignores important details on a politically volatile subject . xxfld 8 a radio show xxeos,xxbos xxfld 1 xxup na xxfld 2 xxmaj when asked by a reporter whether he s at the center of a criminal scheme to violate campaign laws , xxmaj gov. xxmaj scott xxmaj walker xxunk yes . xxfld 3 campaign - finance , legal - issues , campaign - advertising xxfld 4 state - democratic - party - wisconsin xxfld 5 xxmaj wisconsin xxfld 6 democrat xxfld 7 xxmaj our rating a xxmaj democratic xxmaj party web video making the rounds on social media shows a grim - faced xxmaj gov. xxmaj scott xxmaj walker appearing to bob his head yes to a reporters question about whether he was at the center of a \" criminal scheme \" to evade campaign finance laws . xxmaj in real life , the governor answered an emphatic \" no \" -- not surprising given he s been denying any wrongdoing since new documents were released in the xxmaj john xxmaj doe investigation . xxfld 8 a web video xxeos\n",
              "y: EmptyLabelList\n",
              ",,,,\n",
              "Path: ., model=SequentialRNN(\n",
              "  (0): AWD_LSTM(\n",
              "    (encoder): Embedding(27776, 400, padding_idx=1)\n",
              "    (encoder_dp): EmbeddingDropout(\n",
              "      (emb): Embedding(27776, 400, padding_idx=1)\n",
              "    )\n",
              "    (rnns): ModuleList(\n",
              "      (0): WeightDropout(\n",
              "        (module): LSTM(400, 1152, batch_first=True)\n",
              "      )\n",
              "      (1): WeightDropout(\n",
              "        (module): LSTM(1152, 1152, batch_first=True)\n",
              "      )\n",
              "      (2): WeightDropout(\n",
              "        (module): LSTM(1152, 400, batch_first=True)\n",
              "      )\n",
              "    )\n",
              "    (input_dp): RNNDropout()\n",
              "    (hidden_dps): ModuleList(\n",
              "      (0): RNNDropout()\n",
              "      (1): RNNDropout()\n",
              "      (2): RNNDropout()\n",
              "    )\n",
              "  )\n",
              "  (1): LinearDecoder(\n",
              "    (decoder): Linear(in_features=400, out_features=27776, bias=True)\n",
              "    (output_dp): RNNDropout()\n",
              "  )\n",
              "), opt_func=functools.partial(<class 'torch.optim.adam.Adam'>, betas=(0.9, 0.99)), loss_func=FlattenedLoss of CrossEntropyLoss(), metrics=[<function accuracy at 0x7f13713ee2f0>], true_wd=True, bn_wd=True, wd=0.01, train_bn=True, path=PosixPath('gdrive/My Drive/ML_Practice/AWD_LSTM'), model_dir='models', callback_fns=[functools.partial(<class 'fastai.basic_train.Recorder'>, add_time=True, silent=False)], callbacks=[RNNTrainer\n",
              "learn: LanguageLearner(data=TextLMDataBunch;\n",
              "\n",
              "Train: LabelList (10240 items)\n",
              "x: LMTextList\n",
              "xxbos xxfld 1 xxmaj state representative xxfld 2 xxmaj says the xxmaj annies xxmaj list political group supports third - trimester abortions on demand . xxfld 3 abortion xxfld 4 dwayne - bohac xxfld 5 xxmaj texas xxfld 6 republican xxfld 7 xxmaj that 's a premise that he fails to back up . xxmaj annie 's xxmaj list makes no bones about being comfortable with candidates who oppose further restrictions on late - term abortions . xxmaj then again , this year its backing two xxmaj house candidates who voted for more limits . xxfld 8 a mailer xxeos,xxbos xxfld 1 xxmaj state delegate xxfld 2 xxmaj when did the decline of coal start ? xxmaj it started when natural gas took off that started to begin in ( xxmaj president xxmaj george xxup w. ) xxmaj bushs administration . xxfld 3 energy , history , job - accomplishments xxfld 4 scott - surovell xxfld 5 xxmaj virginia xxfld 6 democrat xxfld 7 xxmaj surovell said the decline of coal \" started when natural gas took off xxmaj that started to begin in xxmaj president ( xxmaj george xxup w. ) xxmaj bushs administration . \" xxmaj no doubt , natural gas has been gaining ground on coal in generating electricity . xxmaj the trend started in the 1990s but clearly gained speed during the xxmaj bush administration when the production of natural gas -- a competitor of coal -- picked up . xxmaj but analysts give little credit or blame to xxmaj bush for that trend . xxmaj they note that other factors , such as technological innovation , entrepreneurship and policies of previous administrations , had more to do with laying the groundwork for the natural gas boom . xxfld 8 a floor speech . xxeos,xxbos xxfld 1 xxmaj president xxfld 2 xxmaj hillary xxmaj clinton agrees with xxmaj john mccain \" by voting to give xxmaj george xxmaj bush the benefit of the doubt on xxmaj iran . \" xxfld 3 foreign - policy xxfld 4 barack - obama xxfld 5 xxmaj illinois xxfld 6 democrat xxfld 7 xxmaj obama said he would have voted against the amendment if he had been present . xxmaj so though xxmaj clinton may have \" agreed \" with mccain on the issue , they did not technically vote the same way on it . xxmaj to say that voting for xxmaj kyl - xxmaj lieberman is \" giving xxmaj george xxmaj bush the benefit of the doubt on xxmaj iran \" remains a contentious issue . xxmaj but xxmaj obama 's main point is that xxmaj clinton and mccain were on the same side , and that is correct . xxfld 8 xxmaj denver xxeos,xxbos xxfld 1 xxup na xxfld 2 xxmaj health care reform legislation is likely to mandate free sex change surgeries . xxfld 3 health - care xxfld 4 blog - posting xxfld 5 xxup na xxfld 6 none xxfld 7 xxmaj the release may have a point that xxmaj mikulskis comment could open the door to \" medically necessary \" coverage which conceivably may include sex - change operations . xxmaj but it 's unclear whether her amendment will remain in the legislation , and there 's nothing specific in the legislation on sex - change procedures and nothing else solid that indicates such coverage will be provided . xxmaj the news release cherry - picked a few fleeting references to gender and sexual orientation in completely unrelated contexts to argue that proposed health care legislation would mandate free sex - change surgeries ( and allow them for illegal aliens , no less ) . xxfld 8 a news release xxeos,xxbos xxfld 1 xxup na xxfld 2 xxmaj the economic turnaround started at the end of my term . xxfld 3 economy , jobs xxfld 4 charlie - crist xxfld 5 xxmaj florida xxfld 6 democrat xxfld 7 xxmaj crist said that the economic \" turnaround started at the end of my term . \" xxmaj during xxmaj crists last year in office , xxmaj floridas economy experienced notable gains in personal income and industrial production , and more marginal improvements in the unemployment rate and in payroll employment . xxmaj but xxup gdp did nt grow again until xxmaj scott took office . xxmaj economists say xxmaj crist deserves some credit for the economic turnaround because he accepted federal stimulus dollars , but they add that any state is inevitably buffeted by national and international trends far beyond their control . xxfld 8 an interview on xxup cnn xxeos\n",
              "y: LMLabelList\n",
              ",,,,\n",
              "Path: .;\n",
              "\n",
              "Valid: LabelList (1284 items)\n",
              "x: LMTextList\n",
              "xxbos xxfld 1 xxup u.s. xxmaj representative xxfld 2 xxmaj we have less xxmaj americans working now than in the 70s . xxfld 3 economy , jobs xxfld 4 vicky - hartzler xxfld 5 xxmaj missouri xxfld 6 republican xxfld 7 xxmaj however , xxmaj hartzler was talking about the entire decade of the 70s . xxmaj the first eight years of the decade , 1970 through 1977 , have a lower employment - population ratio and a lower labor force participation rate than 2015 . xxfld 8 an interview with xxup xxunk xxmaj news xxeos,xxbos xxfld 1 xxup na xxfld 2 xxmaj when xxmaj obama was sworn into office , he xxup did xxup not use the xxmaj holy xxmaj bible , but instead the xxmaj xxunk ( xxmaj their xxunk to our xxmaj bible , but very different beliefs ) . xxfld 3 obama - birth - certificate , religion xxfld 4 chain - email xxfld 5 xxup na xxfld 6 none xxfld 7 xxmaj xxunk used a xxmaj koran that once belonged to xxmaj thomas xxmaj jefferson , borrowing the rare book from the xxmaj library of xxmaj congress . xxmaj it goes without saying that xxmaj xxunk is not xxmaj obama . xxup update : xxmaj barack xxmaj obama resigned from xxmaj trinity xxmaj united xxmaj church of xxmaj christ on xxmaj may 31 , 2008 , after church pastor xxmaj jeremiah xxup a. xxmaj wright xxmaj jr. made controversial remarks about xxup u. xxup s. foreign policy and other matters . xxfld 8 xxup na xxeos,xxbos xxfld 1 xxup u.s. representative xxfld 2 xxmaj says xxmaj having organizations xxunk as being social welfare organizations and then being involved in the political combat xxunk back to why the statute a hundred years ago said that they were prohibited . xxfld 3 campaign - finance , congress , taxes xxfld 4 earl - blumenauer xxfld 5 xxmaj oregon xxfld 6 democrat xxfld 7 xxmaj however , we have two professors who say the law is silent on political activity -- even if one of them sees an implicit prohibition -- and a plain reading of the law that states no explicit ban . xxmaj blumenauer said that \" the statute a hundred years ago said that they were prohibited . \" xxmaj there was no prohibition in the 1913 xxmaj act . xxmaj the 1913 xxmaj act was silent on political activity , for whatever reasons . xxfld 8 a xxup u.s. xxmaj ways and xxmaj means hearing xxeos,xxbos xxfld 1 xxmaj member of the xxmaj state xxmaj board of xxmaj higher xxmaj education xxfld 2 xxmaj says nearly half of xxmaj oregons children are poor . xxfld 3 poverty xxfld 4 jim - francesconi xxfld 5 xxmaj oregon xxfld 6 none xxfld 7 xxmaj in fact , if you use federal definitions for poverty , about a quarter are poor and another quarter are low - income . xxmaj but experts tell us that families that are described as low - income still struggle to meet their basic needs and , for all xxunk and purposes , qualify as poor . xxmaj be that as it may , xxmaj francesconi was referencing a report that used the federal definitions . xxmaj as such , his statement leaves out important details and we , too , think it would have been better to say \" poor and low income . xxfld 8 an opinion article xxeos,xxbos xxfld 1 xxmaj president xxfld 2 xxmaj on attacks by xxmaj republicans that various programs in the economic stimulus plan are not xxunk , \" xxmaj if you add all that stuff up , it accounts for less than 1 percent of the overall package . \" xxfld 3 economy , stimulus xxfld 4 barack - obama xxfld 5 xxmaj illinois xxfld 6 democrat xxfld 7 xxmaj obama 's point is that some perspective is in order , that legislators are xxunk over a relatively small portion of the spending . xxmaj and yes , if he 's talking about some of the most publicized projects , he 's right . xxmaj in fact , many xxmaj republicans have said large percentages of the stimulus plan would not stimulate the economy and would waste taxpayer money . xxfld 8 interview with xxup cbs xxmaj news xxeos\n",
              "y: LMLabelList\n",
              ",,,,\n",
              "Path: .;\n",
              "\n",
              "Test: LabelList (1267 items)\n",
              "x: LMTextList\n",
              "xxbos xxfld 1 xxmaj governor xxfld 2 xxmaj building a wall on the u.s.-mexico border will take literally years . xxfld 3 immigration xxfld 4 rick - perry xxfld 5 xxmaj texas xxfld 6 republican xxfld 7 xxmaj meantime , engineering experts agree the wall would most likely take years to complete . xxmaj keep in mind , too , it took more than six years to build roughly 700 miles of fence and barriers along the roughly xxunk xxup u. xxup s. -mexico border . xxfld 8 xxmaj radio interview xxeos,xxbos xxfld 1 xxmaj state representative xxfld 2 xxmaj wisconsin is on pace to double the number of layoffs this year . xxfld 3 jobs xxfld 4 katrina - shankland xxfld 5 xxmaj wisconsin xxfld 6 democrat xxfld 7 xxmaj she cited xxunk notices received by the state . xxmaj but those are nt actual layoffs . xxmaj in the time frame she cited the states added about xxunk jobs . xxfld 8 a news conference xxeos,xxbos xxfld 1 xxmaj president - xxmaj elect xxfld 2 xxmaj says xxmaj john mccain has done nothing to help the vets . xxfld 3 military , veterans , voting - record xxfld 4 donald - trump xxfld 5 xxmaj new xxmaj york xxfld 6 republican xxfld 7 xxmaj trump said that mccain \" has done nothing to help the vets . \" xxmaj while many veterans groups have had their differences with mccain over the years over specific legislation and his general approach to veterans issues , that s not the same as saying he s done \" nothing \" for veterans . xxmaj in fact , just within the past two years , mccain has sponsored and helped enact several major provisions to help veterans . xxmaj he also devotes a significant portion of his office staff to offer veterans on xxunk . xxfld 8 comments on xxup abc 's xxmaj this xxmaj week . xxeos,xxbos xxfld 1 consultant xxfld 2 xxmaj suzanne xxmaj bonamici supports a plan that will cut choice for xxmaj medicare xxmaj advantage seniors . xxfld 3 medicare , message - machine-2012,campaign - advertising xxfld 4 rob - cornilles xxfld 5 xxmaj oregon xxfld 6 republican xxfld 7 xxmaj but spending still goes up . xxmaj in addition , many outside factors can affect the cost and range of benefits , making it impossible to know how xxmaj medicare xxmaj advantage might change . xxmaj while the statement from xxmaj cornilles is partially accurate , it is taken out of context and ignores important details on a politically volatile subject . xxfld 8 a radio show xxeos,xxbos xxfld 1 xxup na xxfld 2 xxmaj when asked by a reporter whether he s at the center of a criminal scheme to violate campaign laws , xxmaj gov. xxmaj scott xxmaj walker xxunk yes . xxfld 3 campaign - finance , legal - issues , campaign - advertising xxfld 4 state - democratic - party - wisconsin xxfld 5 xxmaj wisconsin xxfld 6 democrat xxfld 7 xxmaj our rating a xxmaj democratic xxmaj party web video making the rounds on social media shows a grim - faced xxmaj gov. xxmaj scott xxmaj walker appearing to bob his head yes to a reporters question about whether he was at the center of a \" criminal scheme \" to evade campaign finance laws . xxmaj in real life , the governor answered an emphatic \" no \" -- not surprising given he s been denying any wrongdoing since new documents were released in the xxmaj john xxmaj doe investigation . xxfld 8 a web video xxeos\n",
              "y: EmptyLabelList\n",
              ",,,,\n",
              "Path: ., model=SequentialRNN(\n",
              "  (0): AWD_LSTM(\n",
              "    (encoder): Embedding(27776, 400, padding_idx=1)\n",
              "    (encoder_dp): EmbeddingDropout(\n",
              "      (emb): Embedding(27776, 400, padding_idx=1)\n",
              "    )\n",
              "    (rnns): ModuleList(\n",
              "      (0): WeightDropout(\n",
              "        (module): LSTM(400, 1152, batch_first=True)\n",
              "      )\n",
              "      (1): WeightDropout(\n",
              "        (module): LSTM(1152, 1152, batch_first=True)\n",
              "      )\n",
              "      (2): WeightDropout(\n",
              "        (module): LSTM(1152, 400, batch_first=True)\n",
              "      )\n",
              "    )\n",
              "    (input_dp): RNNDropout()\n",
              "    (hidden_dps): ModuleList(\n",
              "      (0): RNNDropout()\n",
              "      (1): RNNDropout()\n",
              "      (2): RNNDropout()\n",
              "    )\n",
              "  )\n",
              "  (1): LinearDecoder(\n",
              "    (decoder): Linear(in_features=400, out_features=27776, bias=True)\n",
              "    (output_dp): RNNDropout()\n",
              "  )\n",
              "), opt_func=functools.partial(<class 'torch.optim.adam.Adam'>, betas=(0.9, 0.99)), loss_func=FlattenedLoss of CrossEntropyLoss(), metrics=[<function accuracy at 0x7f13713ee2f0>], true_wd=True, bn_wd=True, wd=0.01, train_bn=True, path=PosixPath('gdrive/My Drive/ML_Practice/AWD_LSTM'), model_dir='models', callback_fns=[functools.partial(<class 'fastai.basic_train.Recorder'>, add_time=True, silent=False)], callbacks=[...], layer_groups=[Sequential(\n",
              "  (0): WeightDropout(\n",
              "    (module): LSTM(400, 1152, batch_first=True)\n",
              "  )\n",
              "  (1): RNNDropout()\n",
              "), Sequential(\n",
              "  (0): WeightDropout(\n",
              "    (module): LSTM(1152, 1152, batch_first=True)\n",
              "  )\n",
              "  (1): RNNDropout()\n",
              "), Sequential(\n",
              "  (0): WeightDropout(\n",
              "    (module): LSTM(1152, 400, batch_first=True)\n",
              "  )\n",
              "  (1): RNNDropout()\n",
              "), Sequential(\n",
              "  (0): Embedding(27776, 400, padding_idx=1)\n",
              "  (1): EmbeddingDropout(\n",
              "    (emb): Embedding(27776, 400, padding_idx=1)\n",
              "  )\n",
              "  (2): LinearDecoder(\n",
              "    (decoder): Linear(in_features=400, out_features=27776, bias=True)\n",
              "    (output_dp): RNNDropout()\n",
              "  )\n",
              ")], add_time=True, silent=False)\n",
              "alpha: 2.0\n",
              "beta: 1.0], layer_groups=[Sequential(\n",
              "  (0): WeightDropout(\n",
              "    (module): LSTM(400, 1152, batch_first=True)\n",
              "  )\n",
              "  (1): RNNDropout()\n",
              "), Sequential(\n",
              "  (0): WeightDropout(\n",
              "    (module): LSTM(1152, 1152, batch_first=True)\n",
              "  )\n",
              "  (1): RNNDropout()\n",
              "), Sequential(\n",
              "  (0): WeightDropout(\n",
              "    (module): LSTM(1152, 400, batch_first=True)\n",
              "  )\n",
              "  (1): RNNDropout()\n",
              "), Sequential(\n",
              "  (0): Embedding(27776, 400, padding_idx=1)\n",
              "  (1): EmbeddingDropout(\n",
              "    (emb): Embedding(27776, 400, padding_idx=1)\n",
              "  )\n",
              "  (2): LinearDecoder(\n",
              "    (decoder): Linear(in_features=400, out_features=27776, bias=True)\n",
              "    (output_dp): RNNDropout()\n",
              "  )\n",
              ")], add_time=True, silent=False)"
            ]
          },
          "metadata": {
            "tags": []
          },
          "execution_count": 47
        }
      ]
    },
    {
      "cell_type": "code",
      "metadata": {
        "id": "5q4j7btKlAvp",
        "colab_type": "code",
        "outputId": "fa0eeaa9-5dc6-4380-d7a9-5782df1b7573",
        "colab": {
          "base_uri": "https://localhost:8080/",
          "height": 34
        }
      },
      "source": [
        "learn.lr_find()"
      ],
      "execution_count": 0,
      "outputs": [
        {
          "output_type": "display_data",
          "data": {
            "text/html": [
              ""
            ],
            "text/plain": [
              "<IPython.core.display.HTML object>"
            ]
          },
          "metadata": {
            "tags": []
          }
        },
        {
          "output_type": "stream",
          "text": [
            "LR Finder is complete, type {learner_name}.recorder.plot() to see the graph.\n"
          ],
          "name": "stdout"
        }
      ]
    },
    {
      "cell_type": "code",
      "metadata": {
        "id": "Nb0V3QMjlFhW",
        "colab_type": "code",
        "outputId": "82af0d46-0f37-42a6-f7f4-36acaa035917",
        "colab": {
          "base_uri": "https://localhost:8080/",
          "height": 283
        }
      },
      "source": [
        "learn.recorder.plot()"
      ],
      "execution_count": 0,
      "outputs": [
        {
          "output_type": "display_data",
          "data": {
            "image/png": "[encoded data removed]",
            "text/plain": [
              "<Figure size 432x288 with 1 Axes>"
            ]
          },
          "metadata": {
            "tags": []
          }
        }
      ]
    },
    {
      "cell_type": "markdown",
      "metadata": {
        "id": "rqbyg_9zH4QI",
        "colab_type": "text"
      },
      "source": [
        "To complete the fine-tuning, we can then unfeeze and launch a new training."
      ]
    },
    {
      "cell_type": "code",
      "metadata": {
        "id": "RjYwUpPZk3R5",
        "colab_type": "code",
        "outputId": "b3e143ac-4652-4cff-dcb4-edac84387d8a",
        "colab": {
          "base_uri": "https://localhost:8080/",
          "height": 173
        }
      },
      "source": [
        "learn.unfreeze()\n",
        "learn.fit_one_cycle(4, 5e-4, moms=(0.8,0.7)) # changed to 4"
      ],
      "execution_count": 0,
      "outputs": [
        {
          "output_type": "display_data",
          "data": {
            "text/html": [
              "<table border=\"1\" class=\"dataframe\">\n",
              "  <thead>\n",
              "    <tr style=\"text-align: left;\">\n",
              "      <th>epoch</th>\n",
              "      <th>train_loss</th>\n",
              "      <th>valid_loss</th>\n",
              "      <th>accuracy</th>\n",
              "      <th>time</th>\n",
              "    </tr>\n",
              "  </thead>\n",
              "  <tbody>\n",
              "    <tr>\n",
              "      <td>0</td>\n",
              "      <td>2.600205</td>\n",
              "      <td>2.995782</td>\n",
              "      <td>0.444228</td>\n",
              "      <td>01:51</td>\n",
              "    </tr>\n",
              "    <tr>\n",
              "      <td>1</td>\n",
              "      <td>2.503977</td>\n",
              "      <td>2.969896</td>\n",
              "      <td>0.450315</td>\n",
              "      <td>01:51</td>\n",
              "    </tr>\n",
              "    <tr>\n",
              "      <td>2</td>\n",
              "      <td>2.389786</td>\n",
              "      <td>2.972131</td>\n",
              "      <td>0.452371</td>\n",
              "      <td>01:51</td>\n",
              "    </tr>\n",
              "    <tr>\n",
              "      <td>3</td>\n",
              "      <td>2.292538</td>\n",
              "      <td>2.978339</td>\n",
              "      <td>0.452928</td>\n",
              "      <td>01:50</td>\n",
              "    </tr>\n",
              "  </tbody>\n",
              "</table>"
            ],
            "text/plain": [
              "<IPython.core.display.HTML object>"
            ]
          },
          "metadata": {
            "tags": []
          }
        }
      ]
    },
    {
      "cell_type": "markdown",
      "metadata": {
        "id": "btavLpXNH4QP",
        "colab_type": "text"
      },
      "source": [
        "How good is our model? Well let's try to see what it predicts after a few given words."
      ]
    },
    {
      "cell_type": "code",
      "metadata": {
        "id": "5tQGTz_PedCX",
        "colab_type": "code",
        "colab": {}
      },
      "source": [
        "learn.save('fine_tuned')"
      ],
      "execution_count": 0,
      "outputs": []
    },
    {
      "cell_type": "code",
      "metadata": {
        "id": "Y_m3kx9xH4QQ",
        "colab_type": "code",
        "outputId": "c143b322-ca3e-43dd-e0ff-6b9d8def8fb0",
        "colab": {
          "base_uri": "https://localhost:8080/",
          "height": 1000
        }
      },
      "source": [
        "learn.load('fine_tuned')"
      ],
      "execution_count": 10,
      "outputs": [
        {
          "output_type": "execute_result",
          "data": {
            "text/plain": [
              "LanguageLearner(data=TextLMDataBunch;\n",
              "\n",
              "Train: LabelList (10240 items)\n",
              "x: LMTextList\n",
              "xxbos xxfld 1 xxmaj state representative xxfld 2 xxmaj says the xxmaj annies xxmaj list political group supports third - trimester abortions on demand . xxfld 3 abortion xxfld 4 dwayne - bohac xxfld 5 xxmaj texas xxfld 6 republican xxfld 7 xxmaj that 's a premise that he fails to back up . xxmaj annie 's xxmaj list makes no bones about being comfortable with candidates who oppose further restrictions on late - term abortions . xxmaj then again , this year its backing two xxmaj house candidates who voted for more limits . xxfld 8 a mailer xxeos,xxbos xxfld 1 xxmaj state delegate xxfld 2 xxmaj when did the decline of coal start ? xxmaj it started when natural gas took off that started to begin in ( xxmaj president xxmaj george xxup w. ) xxmaj bushs administration . xxfld 3 energy , history , job - accomplishments xxfld 4 scott - surovell xxfld 5 xxmaj virginia xxfld 6 democrat xxfld 7 xxmaj surovell said the decline of coal \" started when natural gas took off xxmaj that started to begin in xxmaj president ( xxmaj george xxup w. ) xxmaj bushs administration . \" xxmaj no doubt , natural gas has been gaining ground on coal in generating electricity . xxmaj the trend started in the 1990s but clearly gained speed during the xxmaj bush administration when the production of natural gas -- a competitor of coal -- picked up . xxmaj but analysts give little credit or blame to xxmaj bush for that trend . xxmaj they note that other factors , such as technological innovation , entrepreneurship and policies of previous administrations , had more to do with laying the groundwork for the natural gas boom . xxfld 8 a floor speech . xxeos,xxbos xxfld 1 xxmaj president xxfld 2 xxmaj hillary xxmaj clinton agrees with xxmaj john mccain \" by voting to give xxmaj george xxmaj bush the benefit of the doubt on xxmaj iran . \" xxfld 3 foreign - policy xxfld 4 barack - obama xxfld 5 xxmaj illinois xxfld 6 democrat xxfld 7 xxmaj obama said he would have voted against the amendment if he had been present . xxmaj so though xxmaj clinton may have \" agreed \" with mccain on the issue , they did not technically vote the same way on it . xxmaj to say that voting for xxmaj kyl - xxmaj lieberman is \" giving xxmaj george xxmaj bush the benefit of the doubt on xxmaj iran \" remains a contentious issue . xxmaj but xxmaj obama 's main point is that xxmaj clinton and mccain were on the same side , and that is correct . xxfld 8 xxmaj denver xxeos,xxbos xxfld 1 xxup na xxfld 2 xxmaj health care reform legislation is likely to mandate free sex change surgeries . xxfld 3 health - care xxfld 4 blog - posting xxfld 5 xxup na xxfld 6 none xxfld 7 xxmaj the release may have a point that xxmaj mikulskis comment could open the door to \" medically necessary \" coverage which conceivably may include sex - change operations . xxmaj but it 's unclear whether her amendment will remain in the legislation , and there 's nothing specific in the legislation on sex - change procedures and nothing else solid that indicates such coverage will be provided . xxmaj the news release cherry - picked a few fleeting references to gender and sexual orientation in completely unrelated contexts to argue that proposed health care legislation would mandate free sex - change surgeries ( and allow them for illegal aliens , no less ) . xxfld 8 a news release xxeos,xxbos xxfld 1 xxup na xxfld 2 xxmaj the economic turnaround started at the end of my term . xxfld 3 economy , jobs xxfld 4 charlie - crist xxfld 5 xxmaj florida xxfld 6 democrat xxfld 7 xxmaj crist said that the economic \" turnaround started at the end of my term . \" xxmaj during xxmaj crists last year in office , xxmaj floridas economy experienced notable gains in personal income and industrial production , and more marginal improvements in the unemployment rate and in payroll employment . xxmaj but xxup gdp did nt grow again until xxmaj scott took office . xxmaj economists say xxmaj crist deserves some credit for the economic turnaround because he accepted federal stimulus dollars , but they add that any state is inevitably buffeted by national and international trends far beyond their control . xxfld 8 an interview on xxup cnn xxeos\n",
              "y: LMLabelList\n",
              ",,,,\n",
              "Path: .;\n",
              "\n",
              "Valid: LabelList (1284 items)\n",
              "x: LMTextList\n",
              "xxbos xxfld 1 xxup u.s. xxmaj representative xxfld 2 xxmaj we have less xxmaj americans working now than in the 70s . xxfld 3 economy , jobs xxfld 4 vicky - hartzler xxfld 5 xxmaj missouri xxfld 6 republican xxfld 7 xxmaj however , xxmaj hartzler was talking about the entire decade of the 70s . xxmaj the first eight years of the decade , 1970 through 1977 , have a lower employment - population ratio and a lower labor force participation rate than 2015 . xxfld 8 an interview with xxup xxunk xxmaj news xxeos,xxbos xxfld 1 xxup na xxfld 2 xxmaj when xxmaj obama was sworn into office , he xxup did xxup not use the xxmaj holy xxmaj bible , but instead the xxmaj xxunk ( xxmaj their xxunk to our xxmaj bible , but very different beliefs ) . xxfld 3 obama - birth - certificate , religion xxfld 4 chain - email xxfld 5 xxup na xxfld 6 none xxfld 7 xxmaj xxunk used a xxmaj koran that once belonged to xxmaj thomas xxmaj jefferson , borrowing the rare book from the xxmaj library of xxmaj congress . xxmaj it goes without saying that xxmaj xxunk is not xxmaj obama . xxup update : xxmaj barack xxmaj obama resigned from xxmaj trinity xxmaj united xxmaj church of xxmaj christ on xxmaj may 31 , 2008 , after church pastor xxmaj jeremiah xxup a. xxmaj wright xxmaj jr. made controversial remarks about xxup u. xxup s. foreign policy and other matters . xxfld 8 xxup na xxeos,xxbos xxfld 1 xxup u.s. representative xxfld 2 xxmaj says xxmaj having organizations xxunk as being social welfare organizations and then being involved in the political combat xxunk back to why the statute a hundred years ago said that they were prohibited . xxfld 3 campaign - finance , congress , taxes xxfld 4 earl - blumenauer xxfld 5 xxmaj oregon xxfld 6 democrat xxfld 7 xxmaj however , we have two professors who say the law is silent on political activity -- even if one of them sees an implicit prohibition -- and a plain reading of the law that states no explicit ban . xxmaj blumenauer said that \" the statute a hundred years ago said that they were prohibited . \" xxmaj there was no prohibition in the 1913 xxmaj act . xxmaj the 1913 xxmaj act was silent on political activity , for whatever reasons . xxfld 8 a xxup u.s. xxmaj ways and xxmaj means hearing xxeos,xxbos xxfld 1 xxmaj member of the xxmaj state xxmaj board of xxmaj higher xxmaj education xxfld 2 xxmaj says nearly half of xxmaj oregons children are poor . xxfld 3 poverty xxfld 4 jim - francesconi xxfld 5 xxmaj oregon xxfld 6 none xxfld 7 xxmaj in fact , if you use federal definitions for poverty , about a quarter are poor and another quarter are low - income . xxmaj but experts tell us that families that are described as low - income still struggle to meet their basic needs and , for all xxunk and purposes , qualify as poor . xxmaj be that as it may , xxmaj francesconi was referencing a report that used the federal definitions . xxmaj as such , his statement leaves out important details and we , too , think it would have been better to say \" poor and low income . xxfld 8 an opinion article xxeos,xxbos xxfld 1 xxmaj president xxfld 2 xxmaj on attacks by xxmaj republicans that various programs in the economic stimulus plan are not xxunk , \" xxmaj if you add all that stuff up , it accounts for less than 1 percent of the overall package . \" xxfld 3 economy , stimulus xxfld 4 barack - obama xxfld 5 xxmaj illinois xxfld 6 democrat xxfld 7 xxmaj obama 's point is that some perspective is in order , that legislators are xxunk over a relatively small portion of the spending . xxmaj and yes , if he 's talking about some of the most publicized projects , he 's right . xxmaj in fact , many xxmaj republicans have said large percentages of the stimulus plan would not stimulate the economy and would waste taxpayer money . xxfld 8 interview with xxup cbs xxmaj news xxeos\n",
              "y: LMLabelList\n",
              ",,,,\n",
              "Path: .;\n",
              "\n",
              "Test: LabelList (1267 items)\n",
              "x: LMTextList\n",
              "xxbos xxfld 1 xxmaj governor xxfld 2 xxmaj building a wall on the u.s.-mexico border will take literally years . xxfld 3 immigration xxfld 4 rick - perry xxfld 5 xxmaj texas xxfld 6 republican xxfld 7 xxmaj meantime , engineering experts agree the wall would most likely take years to complete . xxmaj keep in mind , too , it took more than six years to build roughly 700 miles of fence and barriers along the roughly xxunk xxup u. xxup s. -mexico border . xxfld 8 xxmaj radio interview xxeos,xxbos xxfld 1 xxmaj state representative xxfld 2 xxmaj wisconsin is on pace to double the number of layoffs this year . xxfld 3 jobs xxfld 4 katrina - shankland xxfld 5 xxmaj wisconsin xxfld 6 democrat xxfld 7 xxmaj she cited xxunk notices received by the state . xxmaj but those are nt actual layoffs . xxmaj in the time frame she cited the states added about xxunk jobs . xxfld 8 a news conference xxeos,xxbos xxfld 1 xxmaj president - xxmaj elect xxfld 2 xxmaj says xxmaj john mccain has done nothing to help the vets . xxfld 3 military , veterans , voting - record xxfld 4 donald - trump xxfld 5 xxmaj new xxmaj york xxfld 6 republican xxfld 7 xxmaj trump said that mccain \" has done nothing to help the vets . \" xxmaj while many veterans groups have had their differences with mccain over the years over specific legislation and his general approach to veterans issues , that s not the same as saying he s done \" nothing \" for veterans . xxmaj in fact , just within the past two years , mccain has sponsored and helped enact several major provisions to help veterans . xxmaj he also devotes a significant portion of his office staff to offer veterans on xxunk . xxfld 8 comments on xxup abc 's xxmaj this xxmaj week . xxeos,xxbos xxfld 1 consultant xxfld 2 xxmaj suzanne xxmaj bonamici supports a plan that will cut choice for xxmaj medicare xxmaj advantage seniors . xxfld 3 medicare , message - machine-2012,campaign - advertising xxfld 4 rob - cornilles xxfld 5 xxmaj oregon xxfld 6 republican xxfld 7 xxmaj but spending still goes up . xxmaj in addition , many outside factors can affect the cost and range of benefits , making it impossible to know how xxmaj medicare xxmaj advantage might change . xxmaj while the statement from xxmaj cornilles is partially accurate , it is taken out of context and ignores important details on a politically volatile subject . xxfld 8 a radio show xxeos,xxbos xxfld 1 xxup na xxfld 2 xxmaj when asked by a reporter whether he s at the center of a criminal scheme to violate campaign laws , xxmaj gov. xxmaj scott xxmaj walker xxunk yes . xxfld 3 campaign - finance , legal - issues , campaign - advertising xxfld 4 state - democratic - party - wisconsin xxfld 5 xxmaj wisconsin xxfld 6 democrat xxfld 7 xxmaj our rating a xxmaj democratic xxmaj party web video making the rounds on social media shows a grim - faced xxmaj gov. xxmaj scott xxmaj walker appearing to bob his head yes to a reporters question about whether he was at the center of a \" criminal scheme \" to evade campaign finance laws . xxmaj in real life , the governor answered an emphatic \" no \" -- not surprising given he s been denying any wrongdoing since new documents were released in the xxmaj john xxmaj doe investigation . xxfld 8 a web video xxeos\n",
              "y: EmptyLabelList\n",
              ",,,,\n",
              "Path: ., model=SequentialRNN(\n",
              "  (0): AWD_LSTM(\n",
              "    (encoder): Embedding(27776, 400, padding_idx=1)\n",
              "    (encoder_dp): EmbeddingDropout(\n",
              "      (emb): Embedding(27776, 400, padding_idx=1)\n",
              "    )\n",
              "    (rnns): ModuleList(\n",
              "      (0): WeightDropout(\n",
              "        (module): LSTM(400, 1152, batch_first=True)\n",
              "      )\n",
              "      (1): WeightDropout(\n",
              "        (module): LSTM(1152, 1152, batch_first=True)\n",
              "      )\n",
              "      (2): WeightDropout(\n",
              "        (module): LSTM(1152, 400, batch_first=True)\n",
              "      )\n",
              "    )\n",
              "    (input_dp): RNNDropout()\n",
              "    (hidden_dps): ModuleList(\n",
              "      (0): RNNDropout()\n",
              "      (1): RNNDropout()\n",
              "      (2): RNNDropout()\n",
              "    )\n",
              "  )\n",
              "  (1): LinearDecoder(\n",
              "    (decoder): Linear(in_features=400, out_features=27776, bias=True)\n",
              "    (output_dp): RNNDropout()\n",
              "  )\n",
              "), opt_func=functools.partial(<class 'torch.optim.adam.Adam'>, betas=(0.9, 0.99)), loss_func=FlattenedLoss of CrossEntropyLoss(), metrics=[<function accuracy at 0x7f82d87b12f0>], true_wd=True, bn_wd=True, wd=0.01, train_bn=True, path=PosixPath('gdrive/My Drive/ML_Practice/AWD_LSTM'), model_dir='models', callback_fns=[functools.partial(<class 'fastai.basic_train.Recorder'>, add_time=True, silent=False)], callbacks=[RNNTrainer\n",
              "learn: LanguageLearner(data=TextLMDataBunch;\n",
              "\n",
              "Train: LabelList (10240 items)\n",
              "x: LMTextList\n",
              "xxbos xxfld 1 xxmaj state representative xxfld 2 xxmaj says the xxmaj annies xxmaj list political group supports third - trimester abortions on demand . xxfld 3 abortion xxfld 4 dwayne - bohac xxfld 5 xxmaj texas xxfld 6 republican xxfld 7 xxmaj that 's a premise that he fails to back up . xxmaj annie 's xxmaj list makes no bones about being comfortable with candidates who oppose further restrictions on late - term abortions . xxmaj then again , this year its backing two xxmaj house candidates who voted for more limits . xxfld 8 a mailer xxeos,xxbos xxfld 1 xxmaj state delegate xxfld 2 xxmaj when did the decline of coal start ? xxmaj it started when natural gas took off that started to begin in ( xxmaj president xxmaj george xxup w. ) xxmaj bushs administration . xxfld 3 energy , history , job - accomplishments xxfld 4 scott - surovell xxfld 5 xxmaj virginia xxfld 6 democrat xxfld 7 xxmaj surovell said the decline of coal \" started when natural gas took off xxmaj that started to begin in xxmaj president ( xxmaj george xxup w. ) xxmaj bushs administration . \" xxmaj no doubt , natural gas has been gaining ground on coal in generating electricity . xxmaj the trend started in the 1990s but clearly gained speed during the xxmaj bush administration when the production of natural gas -- a competitor of coal -- picked up . xxmaj but analysts give little credit or blame to xxmaj bush for that trend . xxmaj they note that other factors , such as technological innovation , entrepreneurship and policies of previous administrations , had more to do with laying the groundwork for the natural gas boom . xxfld 8 a floor speech . xxeos,xxbos xxfld 1 xxmaj president xxfld 2 xxmaj hillary xxmaj clinton agrees with xxmaj john mccain \" by voting to give xxmaj george xxmaj bush the benefit of the doubt on xxmaj iran . \" xxfld 3 foreign - policy xxfld 4 barack - obama xxfld 5 xxmaj illinois xxfld 6 democrat xxfld 7 xxmaj obama said he would have voted against the amendment if he had been present . xxmaj so though xxmaj clinton may have \" agreed \" with mccain on the issue , they did not technically vote the same way on it . xxmaj to say that voting for xxmaj kyl - xxmaj lieberman is \" giving xxmaj george xxmaj bush the benefit of the doubt on xxmaj iran \" remains a contentious issue . xxmaj but xxmaj obama 's main point is that xxmaj clinton and mccain were on the same side , and that is correct . xxfld 8 xxmaj denver xxeos,xxbos xxfld 1 xxup na xxfld 2 xxmaj health care reform legislation is likely to mandate free sex change surgeries . xxfld 3 health - care xxfld 4 blog - posting xxfld 5 xxup na xxfld 6 none xxfld 7 xxmaj the release may have a point that xxmaj mikulskis comment could open the door to \" medically necessary \" coverage which conceivably may include sex - change operations . xxmaj but it 's unclear whether her amendment will remain in the legislation , and there 's nothing specific in the legislation on sex - change procedures and nothing else solid that indicates such coverage will be provided . xxmaj the news release cherry - picked a few fleeting references to gender and sexual orientation in completely unrelated contexts to argue that proposed health care legislation would mandate free sex - change surgeries ( and allow them for illegal aliens , no less ) . xxfld 8 a news release xxeos,xxbos xxfld 1 xxup na xxfld 2 xxmaj the economic turnaround started at the end of my term . xxfld 3 economy , jobs xxfld 4 charlie - crist xxfld 5 xxmaj florida xxfld 6 democrat xxfld 7 xxmaj crist said that the economic \" turnaround started at the end of my term . \" xxmaj during xxmaj crists last year in office , xxmaj floridas economy experienced notable gains in personal income and industrial production , and more marginal improvements in the unemployment rate and in payroll employment . xxmaj but xxup gdp did nt grow again until xxmaj scott took office . xxmaj economists say xxmaj crist deserves some credit for the economic turnaround because he accepted federal stimulus dollars , but they add that any state is inevitably buffeted by national and international trends far beyond their control . xxfld 8 an interview on xxup cnn xxeos\n",
              "y: LMLabelList\n",
              ",,,,\n",
              "Path: .;\n",
              "\n",
              "Valid: LabelList (1284 items)\n",
              "x: LMTextList\n",
              "xxbos xxfld 1 xxup u.s. xxmaj representative xxfld 2 xxmaj we have less xxmaj americans working now than in the 70s . xxfld 3 economy , jobs xxfld 4 vicky - hartzler xxfld 5 xxmaj missouri xxfld 6 republican xxfld 7 xxmaj however , xxmaj hartzler was talking about the entire decade of the 70s . xxmaj the first eight years of the decade , 1970 through 1977 , have a lower employment - population ratio and a lower labor force participation rate than 2015 . xxfld 8 an interview with xxup xxunk xxmaj news xxeos,xxbos xxfld 1 xxup na xxfld 2 xxmaj when xxmaj obama was sworn into office , he xxup did xxup not use the xxmaj holy xxmaj bible , but instead the xxmaj xxunk ( xxmaj their xxunk to our xxmaj bible , but very different beliefs ) . xxfld 3 obama - birth - certificate , religion xxfld 4 chain - email xxfld 5 xxup na xxfld 6 none xxfld 7 xxmaj xxunk used a xxmaj koran that once belonged to xxmaj thomas xxmaj jefferson , borrowing the rare book from the xxmaj library of xxmaj congress . xxmaj it goes without saying that xxmaj xxunk is not xxmaj obama . xxup update : xxmaj barack xxmaj obama resigned from xxmaj trinity xxmaj united xxmaj church of xxmaj christ on xxmaj may 31 , 2008 , after church pastor xxmaj jeremiah xxup a. xxmaj wright xxmaj jr. made controversial remarks about xxup u. xxup s. foreign policy and other matters . xxfld 8 xxup na xxeos,xxbos xxfld 1 xxup u.s. representative xxfld 2 xxmaj says xxmaj having organizations xxunk as being social welfare organizations and then being involved in the political combat xxunk back to why the statute a hundred years ago said that they were prohibited . xxfld 3 campaign - finance , congress , taxes xxfld 4 earl - blumenauer xxfld 5 xxmaj oregon xxfld 6 democrat xxfld 7 xxmaj however , we have two professors who say the law is silent on political activity -- even if one of them sees an implicit prohibition -- and a plain reading of the law that states no explicit ban . xxmaj blumenauer said that \" the statute a hundred years ago said that they were prohibited . \" xxmaj there was no prohibition in the 1913 xxmaj act . xxmaj the 1913 xxmaj act was silent on political activity , for whatever reasons . xxfld 8 a xxup u.s. xxmaj ways and xxmaj means hearing xxeos,xxbos xxfld 1 xxmaj member of the xxmaj state xxmaj board of xxmaj higher xxmaj education xxfld 2 xxmaj says nearly half of xxmaj oregons children are poor . xxfld 3 poverty xxfld 4 jim - francesconi xxfld 5 xxmaj oregon xxfld 6 none xxfld 7 xxmaj in fact , if you use federal definitions for poverty , about a quarter are poor and another quarter are low - income . xxmaj but experts tell us that families that are described as low - income still struggle to meet their basic needs and , for all xxunk and purposes , qualify as poor . xxmaj be that as it may , xxmaj francesconi was referencing a report that used the federal definitions . xxmaj as such , his statement leaves out important details and we , too , think it would have been better to say \" poor and low income . xxfld 8 an opinion article xxeos,xxbos xxfld 1 xxmaj president xxfld 2 xxmaj on attacks by xxmaj republicans that various programs in the economic stimulus plan are not xxunk , \" xxmaj if you add all that stuff up , it accounts for less than 1 percent of the overall package . \" xxfld 3 economy , stimulus xxfld 4 barack - obama xxfld 5 xxmaj illinois xxfld 6 democrat xxfld 7 xxmaj obama 's point is that some perspective is in order , that legislators are xxunk over a relatively small portion of the spending . xxmaj and yes , if he 's talking about some of the most publicized projects , he 's right . xxmaj in fact , many xxmaj republicans have said large percentages of the stimulus plan would not stimulate the economy and would waste taxpayer money . xxfld 8 interview with xxup cbs xxmaj news xxeos\n",
              "y: LMLabelList\n",
              ",,,,\n",
              "Path: .;\n",
              "\n",
              "Test: LabelList (1267 items)\n",
              "x: LMTextList\n",
              "xxbos xxfld 1 xxmaj governor xxfld 2 xxmaj building a wall on the u.s.-mexico border will take literally years . xxfld 3 immigration xxfld 4 rick - perry xxfld 5 xxmaj texas xxfld 6 republican xxfld 7 xxmaj meantime , engineering experts agree the wall would most likely take years to complete . xxmaj keep in mind , too , it took more than six years to build roughly 700 miles of fence and barriers along the roughly xxunk xxup u. xxup s. -mexico border . xxfld 8 xxmaj radio interview xxeos,xxbos xxfld 1 xxmaj state representative xxfld 2 xxmaj wisconsin is on pace to double the number of layoffs this year . xxfld 3 jobs xxfld 4 katrina - shankland xxfld 5 xxmaj wisconsin xxfld 6 democrat xxfld 7 xxmaj she cited xxunk notices received by the state . xxmaj but those are nt actual layoffs . xxmaj in the time frame she cited the states added about xxunk jobs . xxfld 8 a news conference xxeos,xxbos xxfld 1 xxmaj president - xxmaj elect xxfld 2 xxmaj says xxmaj john mccain has done nothing to help the vets . xxfld 3 military , veterans , voting - record xxfld 4 donald - trump xxfld 5 xxmaj new xxmaj york xxfld 6 republican xxfld 7 xxmaj trump said that mccain \" has done nothing to help the vets . \" xxmaj while many veterans groups have had their differences with mccain over the years over specific legislation and his general approach to veterans issues , that s not the same as saying he s done \" nothing \" for veterans . xxmaj in fact , just within the past two years , mccain has sponsored and helped enact several major provisions to help veterans . xxmaj he also devotes a significant portion of his office staff to offer veterans on xxunk . xxfld 8 comments on xxup abc 's xxmaj this xxmaj week . xxeos,xxbos xxfld 1 consultant xxfld 2 xxmaj suzanne xxmaj bonamici supports a plan that will cut choice for xxmaj medicare xxmaj advantage seniors . xxfld 3 medicare , message - machine-2012,campaign - advertising xxfld 4 rob - cornilles xxfld 5 xxmaj oregon xxfld 6 republican xxfld 7 xxmaj but spending still goes up . xxmaj in addition , many outside factors can affect the cost and range of benefits , making it impossible to know how xxmaj medicare xxmaj advantage might change . xxmaj while the statement from xxmaj cornilles is partially accurate , it is taken out of context and ignores important details on a politically volatile subject . xxfld 8 a radio show xxeos,xxbos xxfld 1 xxup na xxfld 2 xxmaj when asked by a reporter whether he s at the center of a criminal scheme to violate campaign laws , xxmaj gov. xxmaj scott xxmaj walker xxunk yes . xxfld 3 campaign - finance , legal - issues , campaign - advertising xxfld 4 state - democratic - party - wisconsin xxfld 5 xxmaj wisconsin xxfld 6 democrat xxfld 7 xxmaj our rating a xxmaj democratic xxmaj party web video making the rounds on social media shows a grim - faced xxmaj gov. xxmaj scott xxmaj walker appearing to bob his head yes to a reporters question about whether he was at the center of a \" criminal scheme \" to evade campaign finance laws . xxmaj in real life , the governor answered an emphatic \" no \" -- not surprising given he s been denying any wrongdoing since new documents were released in the xxmaj john xxmaj doe investigation . xxfld 8 a web video xxeos\n",
              "y: EmptyLabelList\n",
              ",,,,\n",
              "Path: ., model=SequentialRNN(\n",
              "  (0): AWD_LSTM(\n",
              "    (encoder): Embedding(27776, 400, padding_idx=1)\n",
              "    (encoder_dp): EmbeddingDropout(\n",
              "      (emb): Embedding(27776, 400, padding_idx=1)\n",
              "    )\n",
              "    (rnns): ModuleList(\n",
              "      (0): WeightDropout(\n",
              "        (module): LSTM(400, 1152, batch_first=True)\n",
              "      )\n",
              "      (1): WeightDropout(\n",
              "        (module): LSTM(1152, 1152, batch_first=True)\n",
              "      )\n",
              "      (2): WeightDropout(\n",
              "        (module): LSTM(1152, 400, batch_first=True)\n",
              "      )\n",
              "    )\n",
              "    (input_dp): RNNDropout()\n",
              "    (hidden_dps): ModuleList(\n",
              "      (0): RNNDropout()\n",
              "      (1): RNNDropout()\n",
              "      (2): RNNDropout()\n",
              "    )\n",
              "  )\n",
              "  (1): LinearDecoder(\n",
              "    (decoder): Linear(in_features=400, out_features=27776, bias=True)\n",
              "    (output_dp): RNNDropout()\n",
              "  )\n",
              "), opt_func=functools.partial(<class 'torch.optim.adam.Adam'>, betas=(0.9, 0.99)), loss_func=FlattenedLoss of CrossEntropyLoss(), metrics=[<function accuracy at 0x7f82d87b12f0>], true_wd=True, bn_wd=True, wd=0.01, train_bn=True, path=PosixPath('gdrive/My Drive/ML_Practice/AWD_LSTM'), model_dir='models', callback_fns=[functools.partial(<class 'fastai.basic_train.Recorder'>, add_time=True, silent=False)], callbacks=[...], layer_groups=[Sequential(\n",
              "  (0): WeightDropout(\n",
              "    (module): LSTM(400, 1152, batch_first=True)\n",
              "  )\n",
              "  (1): RNNDropout()\n",
              "), Sequential(\n",
              "  (0): WeightDropout(\n",
              "    (module): LSTM(1152, 1152, batch_first=True)\n",
              "  )\n",
              "  (1): RNNDropout()\n",
              "), Sequential(\n",
              "  (0): WeightDropout(\n",
              "    (module): LSTM(1152, 400, batch_first=True)\n",
              "  )\n",
              "  (1): RNNDropout()\n",
              "), Sequential(\n",
              "  (0): Embedding(27776, 400, padding_idx=1)\n",
              "  (1): EmbeddingDropout(\n",
              "    (emb): Embedding(27776, 400, padding_idx=1)\n",
              "  )\n",
              "  (2): LinearDecoder(\n",
              "    (decoder): Linear(in_features=400, out_features=27776, bias=True)\n",
              "    (output_dp): RNNDropout()\n",
              "  )\n",
              ")], add_time=True, silent=False)\n",
              "alpha: 2.0\n",
              "beta: 1.0], layer_groups=[Sequential(\n",
              "  (0): WeightDropout(\n",
              "    (module): LSTM(400, 1152, batch_first=True)\n",
              "  )\n",
              "  (1): RNNDropout()\n",
              "), Sequential(\n",
              "  (0): WeightDropout(\n",
              "    (module): LSTM(1152, 1152, batch_first=True)\n",
              "  )\n",
              "  (1): RNNDropout()\n",
              "), Sequential(\n",
              "  (0): WeightDropout(\n",
              "    (module): LSTM(1152, 400, batch_first=True)\n",
              "  )\n",
              "  (1): RNNDropout()\n",
              "), Sequential(\n",
              "  (0): Embedding(27776, 400, padding_idx=1)\n",
              "  (1): EmbeddingDropout(\n",
              "    (emb): Embedding(27776, 400, padding_idx=1)\n",
              "  )\n",
              "  (2): LinearDecoder(\n",
              "    (decoder): Linear(in_features=400, out_features=27776, bias=True)\n",
              "    (output_dp): RNNDropout()\n",
              "  )\n",
              ")], add_time=True, silent=False)"
            ]
          },
          "metadata": {
            "tags": []
          },
          "execution_count": 10
        }
      ]
    },
    {
      "cell_type": "code",
      "metadata": {
        "id": "QUati_2vH4QY",
        "colab_type": "code",
        "colab": {}
      },
      "source": [
        "learn.save_encoder('fine_tuned_enc')"
      ],
      "execution_count": 0,
      "outputs": []
    },
    {
      "cell_type": "markdown",
      "metadata": {
        "id": "10CO4V83H4QZ",
        "colab_type": "text"
      },
      "source": [
        "## Classifier"
      ]
    },
    {
      "cell_type": "markdown",
      "metadata": {
        "id": "9o17RNE-H4Qa",
        "colab_type": "text"
      },
      "source": [
        "Now, we'll create a new data object that only grabs the labelled data and keeps those labels. Again, this line takes a bit of time."
      ]
    },
    {
      "cell_type": "markdown",
      "metadata": {
        "id": "efiB6e00nKhR",
        "colab_type": "text"
      },
      "source": [
        "#### Binary Classification"
      ]
    },
    {
      "cell_type": "code",
      "metadata": {
        "colab_type": "code",
        "id": "Nv28V263nbyg",
        "colab": {}
      },
      "source": [
        "data_clas = TextClasDataBunch.from_df(path='./',train_df=df_train,valid_df=df_valid,test_df=df_test,\n",
        "                                   text_cols=['speaker\\'s_job','statement','subject','speaker','state','party_affiliation','justification','context']\n",
        "                                  ,vocab =data_lm.train_ds.vocab, bs=bs,  mark_fields=True, include_bos=True, include_eos=True,label_cols='label_binary')"
      ],
      "execution_count": 0,
      "outputs": []
    },
    {
      "cell_type": "code",
      "metadata": {
        "colab_type": "code",
        "id": "AQMtQE4-nbyl",
        "colab": {}
      },
      "source": [
        "data_clas.save(f'{root_path}data_clas_binary.pkl')"
      ],
      "execution_count": 0,
      "outputs": []
    },
    {
      "cell_type": "code",
      "metadata": {
        "colab_type": "code",
        "id": "xV2oRpAQnbyn",
        "colab": {}
      },
      "source": [
        "data_clas = load_data(root_path, 'data_clas_binary.pkl', bs=bs)"
      ],
      "execution_count": 0,
      "outputs": []
    },
    {
      "cell_type": "code",
      "metadata": {
        "colab_type": "code",
        "id": "fEiulfLwnbyo",
        "outputId": "63a828c3-426f-4305-9acf-b804458ab872",
        "colab": {
          "base_uri": "https://localhost:8080/",
          "height": 374
        }
      },
      "source": [
        "data_clas.show_batch()"
      ],
      "execution_count": 0,
      "outputs": [
        {
          "output_type": "display_data",
          "data": {
            "text/html": [
              "<table border=\"1\" class=\"dataframe\">\n",
              "  <thead>\n",
              "    <tr style=\"text-align: right;\">\n",
              "      <th>text</th>\n",
              "      <th>target</th>\n",
              "    </tr>\n",
              "  </thead>\n",
              "  <tbody>\n",
              "    <tr>\n",
              "      <td>xxbos xxfld 1 xxmaj president - xxmaj elect xxfld 2 xxmaj the wives of the 9 / 11 hijackers knew exactly what was happening and went back to xxmaj saudi xxmaj arabia two days before the attacks to watch their husbands on television flying the planes . xxfld 3 history , terrorism xxfld 4 donald - trump xxfld 5 xxmaj new xxmaj york xxfld 6 republican xxfld 7 xxmaj but</td>\n",
              "      <td>False</td>\n",
              "    </tr>\n",
              "    <tr>\n",
              "      <td>xxbos xxfld 1 xxup u.s. xxmaj house of xxmaj representatives xxfld 2 xxmaj says the xxup u.s. xxmaj attorneys xxmaj office said that neither i nor my campaign had any idea what was going on regarding my fathers illegal campaign contributions . xxmaj and that s why they closed this case . xxfld 3 elections , legal - issues xxfld 4 ami - bera xxfld 5 xxmaj california xxfld 6</td>\n",
              "      <td>True</td>\n",
              "    </tr>\n",
              "    <tr>\n",
              "      <td>xxbos xxfld 1 xxmaj state xxmaj assemblyman xxfld 2 xxmaj in 2011 , xxup nj economy ranked 47th -- at the bottom with xxmaj alabama , xxmaj mississippi xxmaj wyoming . xxmaj under xxmaj christie , xxup nj is falling behind . xxfld 3 economy xxfld 4 lou - greenwald xxfld 5 xxmaj new xxmaj jersey xxfld 6 democrat xxfld 7 xxmaj the graphic xxmaj honda used said that \"</td>\n",
              "      <td>True</td>\n",
              "    </tr>\n",
              "    <tr>\n",
              "      <td>xxbos xxfld 1 xxup na xxfld 2 xxmaj hospitals , doctors , mris , surgeries and so forth are more extensively used and far more expensive in this country than they are in many other countries . ' ' \\t health - care \\t mitt - romney \\t xxmaj former governor \\t xxmaj massachusetts \\t republican \\t 34 \\t 32 \\t 58 \\t 33 \\t 19 \\t a xxmaj fox</td>\n",
              "      <td>True</td>\n",
              "    </tr>\n",
              "    <tr>\n",
              "      <td>xxbos xxfld 1 xxmaj governor xxfld 2 xxmaj alex xxmaj sink funneled three quarters of a million dollars in no - bid contracts to xxmaj bank of xxmaj america . xxfld 3 economy , financial - regulation , message - machine xxfld 4 rick - scott xxfld 5 xxmaj florida xxfld 6 republican xxfld 7 xxmaj let 's take this one step at a time . xxmaj first , she</td>\n",
              "      <td>False</td>\n",
              "    </tr>\n",
              "  </tbody>\n",
              "</table>"
            ],
            "text/plain": [
              "<IPython.core.display.HTML object>"
            ]
          },
          "metadata": {
            "tags": []
          }
        }
      ]
    },
    {
      "cell_type": "markdown",
      "metadata": {
        "colab_type": "text",
        "id": "SqbDsZMjnbyr"
      },
      "source": [
        "We can then create a model to classify those reviews and load the encoder we saved before."
      ]
    },
    {
      "cell_type": "code",
      "metadata": {
        "colab_type": "code",
        "id": "FQUamFLrnbyr",
        "colab": {}
      },
      "source": [
        "learn = text_classifier_learner(data_clas, AWD_LSTM, drop_mult=0.5)\n",
        "learn.load_encoder('fine_tuned_enc')"
      ],
      "execution_count": 0,
      "outputs": []
    },
    {
      "cell_type": "code",
      "metadata": {
        "colab_type": "code",
        "id": "hDh46rmgnbyt",
        "outputId": "4326c7c4-238d-4916-8c38-7080544bf3a7",
        "colab": {
          "base_uri": "https://localhost:8080/",
          "height": 34
        }
      },
      "source": [
        "learn.lr_find()"
      ],
      "execution_count": 0,
      "outputs": [
        {
          "output_type": "display_data",
          "data": {
            "text/html": [
              ""
            ],
            "text/plain": [
              "<IPython.core.display.HTML object>"
            ]
          },
          "metadata": {
            "tags": []
          }
        },
        {
          "output_type": "stream",
          "text": [
            "LR Finder is complete, type {learner_name}.recorder.plot() to see the graph.\n"
          ],
          "name": "stdout"
        }
      ]
    },
    {
      "cell_type": "code",
      "metadata": {
        "colab_type": "code",
        "id": "Aaa3mjQTnbyw",
        "outputId": "5ff39cfd-e941-4247-8674-4dd5ccbd7278",
        "colab": {
          "base_uri": "https://localhost:8080/",
          "height": 283
        }
      },
      "source": [
        "learn.recorder.plot()"
      ],
      "execution_count": 0,
      "outputs": [
        {
          "output_type": "display_data",
          "data": {
            "image/png": "[encoded data removed]",
            "text/plain": [
              "<Figure size 432x288 with 1 Axes>"
            ]
          },
          "metadata": {
            "tags": []
          }
        }
      ]
    },
    {
      "cell_type": "code",
      "metadata": {
        "colab_type": "code",
        "id": "xr75i3RRnbyz",
        "outputId": "972dc986-4676-43a3-e080-05206842057a",
        "colab": {
          "base_uri": "https://localhost:8080/",
          "height": 142
        }
      },
      "source": [
        "learn.fit_one_cycle(3, 5e-2, moms=(0.8,0.7))"
      ],
      "execution_count": 0,
      "outputs": [
        {
          "output_type": "display_data",
          "data": {
            "text/html": [
              "<table border=\"1\" class=\"dataframe\">\n",
              "  <thead>\n",
              "    <tr style=\"text-align: left;\">\n",
              "      <th>epoch</th>\n",
              "      <th>train_loss</th>\n",
              "      <th>valid_loss</th>\n",
              "      <th>accuracy</th>\n",
              "      <th>time</th>\n",
              "    </tr>\n",
              "  </thead>\n",
              "  <tbody>\n",
              "    <tr>\n",
              "      <td>0</td>\n",
              "      <td>0.691896</td>\n",
              "      <td>0.684205</td>\n",
              "      <td>0.536604</td>\n",
              "      <td>00:39</td>\n",
              "    </tr>\n",
              "    <tr>\n",
              "      <td>1</td>\n",
              "      <td>0.680781</td>\n",
              "      <td>0.678267</td>\n",
              "      <td>0.566199</td>\n",
              "      <td>00:36</td>\n",
              "    </tr>\n",
              "    <tr>\n",
              "      <td>2</td>\n",
              "      <td>0.674103</td>\n",
              "      <td>0.669873</td>\n",
              "      <td>0.589564</td>\n",
              "      <td>00:38</td>\n",
              "    </tr>\n",
              "  </tbody>\n",
              "</table>"
            ],
            "text/plain": [
              "<IPython.core.display.HTML object>"
            ]
          },
          "metadata": {
            "tags": []
          }
        }
      ]
    },
    {
      "cell_type": "code",
      "metadata": {
        "colab_type": "code",
        "id": "5TZC-rxlnby3",
        "colab": {}
      },
      "source": [
        "learn.save('first_binary')"
      ],
      "execution_count": 0,
      "outputs": []
    },
    {
      "cell_type": "code",
      "metadata": {
        "colab_type": "code",
        "id": "2wiVk1gWnby6",
        "outputId": "f4a41d51-5e38-4560-d6cf-3b853f203aa2",
        "colab": {
          "base_uri": "https://localhost:8080/",
          "height": 1000
        }
      },
      "source": [
        "learn.load('first_binary')"
      ],
      "execution_count": 0,
      "outputs": [
        {
          "output_type": "execute_result",
          "data": {
            "text/plain": [
              "RNNLearner(data=TextClasDataBunch;\n",
              "\n",
              "Train: LabelList (10240 items)\n",
              "x: TextList\n",
              "xxbos xxfld 1 xxmaj state representative xxfld 2 xxmaj says the xxmaj annies xxmaj list political group supports third - trimester abortions on demand . xxfld 3 abortion xxfld 4 dwayne - bohac xxfld 5 xxmaj texas xxfld 6 republican xxfld 7 xxmaj that 's a premise that he fails to back up . xxmaj annie 's xxmaj list makes no bones about being comfortable with candidates who oppose further restrictions on late - term abortions . xxmaj then again , this year its backing two xxmaj house candidates who voted for more limits . xxfld 8 a mailer xxeos,xxbos xxfld 1 xxmaj state delegate xxfld 2 xxmaj when did the decline of coal start ? xxmaj it started when natural gas took off that started to begin in ( xxmaj president xxmaj george xxup w. ) xxmaj bushs administration . xxfld 3 energy , history , job - accomplishments xxfld 4 scott - surovell xxfld 5 xxmaj virginia xxfld 6 democrat xxfld 7 xxmaj surovell said the decline of coal \" started when natural gas took off xxmaj that started to begin in xxmaj president ( xxmaj george xxup w. ) xxmaj bushs administration . \" xxmaj no doubt , natural gas has been gaining ground on coal in generating electricity . xxmaj the trend started in the 1990s but clearly gained speed during the xxmaj bush administration when the production of natural gas -- a competitor of coal -- picked up . xxmaj but analysts give little credit or blame to xxmaj bush for that trend . xxmaj they note that other factors , such as technological innovation , entrepreneurship and policies of previous administrations , had more to do with laying the groundwork for the natural gas boom . xxfld 8 a floor speech . xxeos,xxbos xxfld 1 xxmaj president xxfld 2 xxmaj hillary xxmaj clinton agrees with xxmaj john mccain \" by voting to give xxmaj george xxmaj bush the benefit of the doubt on xxmaj iran . \" xxfld 3 foreign - policy xxfld 4 barack - obama xxfld 5 xxmaj illinois xxfld 6 democrat xxfld 7 xxmaj obama said he would have voted against the amendment if he had been present . xxmaj so though xxmaj clinton may have \" agreed \" with mccain on the issue , they did not technically vote the same way on it . xxmaj to say that voting for xxmaj kyl - xxmaj lieberman is \" giving xxmaj george xxmaj bush the benefit of the doubt on xxmaj iran \" remains a contentious issue . xxmaj but xxmaj obama 's main point is that xxmaj clinton and mccain were on the same side , and that is correct . xxfld 8 xxmaj denver xxeos,xxbos xxfld 1 xxup na xxfld 2 xxmaj health care reform legislation is likely to mandate free sex change surgeries . xxfld 3 health - care xxfld 4 blog - posting xxfld 5 xxup na xxfld 6 none xxfld 7 xxmaj the release may have a point that xxmaj mikulskis comment could open the door to \" medically necessary \" coverage which conceivably may include sex - change operations . xxmaj but it 's unclear whether her amendment will remain in the legislation , and there 's nothing specific in the legislation on sex - change procedures and nothing else solid that indicates such coverage will be provided . xxmaj the news release cherry - picked a few fleeting references to gender and sexual orientation in completely unrelated contexts to argue that proposed health care legislation would mandate free sex - change surgeries ( and allow them for illegal aliens , no less ) . xxfld 8 a news release xxeos,xxbos xxfld 1 xxup na xxfld 2 xxmaj the economic turnaround started at the end of my term . xxfld 3 economy , jobs xxfld 4 charlie - crist xxfld 5 xxmaj florida xxfld 6 democrat xxfld 7 xxmaj crist said that the economic \" turnaround started at the end of my term . \" xxmaj during xxmaj crists last year in office , xxmaj floridas economy experienced notable gains in personal income and industrial production , and more marginal improvements in the unemployment rate and in payroll employment . xxmaj but xxup gdp did nt grow again until xxmaj scott took office . xxmaj economists say xxmaj crist deserves some credit for the economic turnaround because he accepted federal stimulus dollars , but they add that any state is inevitably buffeted by national and international trends far beyond their control . xxfld 8 an interview on xxup cnn xxeos\n",
              "y: CategoryList\n",
              "False,True,True,False,True\n",
              "Path: .;\n",
              "\n",
              "Valid: LabelList (1284 items)\n",
              "x: TextList\n",
              "xxbos xxfld 1 xxup u.s. xxmaj representative xxfld 2 xxmaj we have less xxmaj americans working now than in the 70s . xxfld 3 economy , jobs xxfld 4 vicky - hartzler xxfld 5 xxmaj missouri xxfld 6 republican xxfld 7 xxmaj however , xxmaj hartzler was talking about the entire decade of the 70s . xxmaj the first eight years of the decade , 1970 through 1977 , have a lower employment - population ratio and a lower labor force participation rate than 2015 . xxfld 8 an interview with xxup xxunk xxmaj news xxeos,xxbos xxfld 1 xxup na xxfld 2 xxmaj when xxmaj obama was sworn into office , he xxup did xxup not use the xxmaj holy xxmaj bible , but instead the xxmaj xxunk ( xxmaj their xxunk to our xxmaj bible , but very different beliefs ) . xxfld 3 obama - birth - certificate , religion xxfld 4 chain - email xxfld 5 xxup na xxfld 6 none xxfld 7 xxmaj xxunk used a xxmaj koran that once belonged to xxmaj thomas xxmaj jefferson , borrowing the rare book from the xxmaj library of xxmaj congress . xxmaj it goes without saying that xxmaj xxunk is not xxmaj obama . xxup update : xxmaj barack xxmaj obama resigned from xxmaj trinity xxmaj united xxmaj church of xxmaj christ on xxmaj may 31 , 2008 , after church pastor xxmaj jeremiah xxup a. xxmaj wright xxmaj jr. made controversial remarks about xxup u. xxup s. foreign policy and other matters . xxfld 8 xxup na xxeos,xxbos xxfld 1 xxup u.s. representative xxfld 2 xxmaj says xxmaj having organizations xxunk as being social welfare organizations and then being involved in the political combat xxunk back to why the statute a hundred years ago said that they were prohibited . xxfld 3 campaign - finance , congress , taxes xxfld 4 earl - blumenauer xxfld 5 xxmaj oregon xxfld 6 democrat xxfld 7 xxmaj however , we have two professors who say the law is silent on political activity -- even if one of them sees an implicit prohibition -- and a plain reading of the law that states no explicit ban . xxmaj blumenauer said that \" the statute a hundred years ago said that they were prohibited . \" xxmaj there was no prohibition in the 1913 xxmaj act . xxmaj the 1913 xxmaj act was silent on political activity , for whatever reasons . xxfld 8 a xxup u.s. xxmaj ways and xxmaj means hearing xxeos,xxbos xxfld 1 xxmaj member of the xxmaj state xxmaj board of xxmaj higher xxmaj education xxfld 2 xxmaj says nearly half of xxmaj oregons children are poor . xxfld 3 poverty xxfld 4 jim - francesconi xxfld 5 xxmaj oregon xxfld 6 none xxfld 7 xxmaj in fact , if you use federal definitions for poverty , about a quarter are poor and another quarter are low - income . xxmaj but experts tell us that families that are described as low - income still struggle to meet their basic needs and , for all xxunk and purposes , qualify as poor . xxmaj be that as it may , xxmaj francesconi was referencing a report that used the federal definitions . xxmaj as such , his statement leaves out important details and we , too , think it would have been better to say \" poor and low income . xxfld 8 an opinion article xxeos,xxbos xxfld 1 xxmaj president xxfld 2 xxmaj on attacks by xxmaj republicans that various programs in the economic stimulus plan are not xxunk , \" xxmaj if you add all that stuff up , it accounts for less than 1 percent of the overall package . \" xxfld 3 economy , stimulus xxfld 4 barack - obama xxfld 5 xxmaj illinois xxfld 6 democrat xxfld 7 xxmaj obama 's point is that some perspective is in order , that legislators are xxunk over a relatively small portion of the spending . xxmaj and yes , if he 's talking about some of the most publicized projects , he 's right . xxmaj in fact , many xxmaj republicans have said large percentages of the stimulus plan would not stimulate the economy and would waste taxpayer money . xxfld 8 interview with xxup cbs xxmaj news xxeos\n",
              "y: CategoryList\n",
              "False,False,False,True,True\n",
              "Path: .;\n",
              "\n",
              "Test: LabelList (1267 items)\n",
              "x: TextList\n",
              "xxbos xxfld 1 xxmaj governor xxfld 2 xxmaj building a wall on the u.s.-mexico border will take literally years . xxfld 3 immigration xxfld 4 rick - perry xxfld 5 xxmaj texas xxfld 6 republican xxfld 7 xxmaj meantime , engineering experts agree the wall would most likely take years to complete . xxmaj keep in mind , too , it took more than six years to build roughly 700 miles of fence and barriers along the roughly xxunk xxup u. xxup s. -mexico border . xxfld 8 xxmaj radio interview xxeos,xxbos xxfld 1 xxmaj state representative xxfld 2 xxmaj wisconsin is on pace to double the number of layoffs this year . xxfld 3 jobs xxfld 4 katrina - shankland xxfld 5 xxmaj wisconsin xxfld 6 democrat xxfld 7 xxmaj she cited xxunk notices received by the state . xxmaj but those are nt actual layoffs . xxmaj in the time frame she cited the states added about xxunk jobs . xxfld 8 a news conference xxeos,xxbos xxfld 1 xxmaj president - xxmaj elect xxfld 2 xxmaj says xxmaj john mccain has done nothing to help the vets . xxfld 3 military , veterans , voting - record xxfld 4 donald - trump xxfld 5 xxmaj new xxmaj york xxfld 6 republican xxfld 7 xxmaj trump said that mccain \" has done nothing to help the vets . \" xxmaj while many veterans groups have had their differences with mccain over the years over specific legislation and his general approach to veterans issues , that s not the same as saying he s done \" nothing \" for veterans . xxmaj in fact , just within the past two years , mccain has sponsored and helped enact several major provisions to help veterans . xxmaj he also devotes a significant portion of his office staff to offer veterans on xxunk . xxfld 8 comments on xxup abc 's xxmaj this xxmaj week . xxeos,xxbos xxfld 1 consultant xxfld 2 xxmaj suzanne xxmaj bonamici supports a plan that will cut choice for xxmaj medicare xxmaj advantage seniors . xxfld 3 medicare , message - machine-2012,campaign - advertising xxfld 4 rob - cornilles xxfld 5 xxmaj oregon xxfld 6 republican xxfld 7 xxmaj but spending still goes up . xxmaj in addition , many outside factors can affect the cost and range of benefits , making it impossible to know how xxmaj medicare xxmaj advantage might change . xxmaj while the statement from xxmaj cornilles is partially accurate , it is taken out of context and ignores important details on a politically volatile subject . xxfld 8 a radio show xxeos,xxbos xxfld 1 xxup na xxfld 2 xxmaj when asked by a reporter whether he s at the center of a criminal scheme to violate campaign laws , xxmaj gov. xxmaj scott xxmaj walker xxunk yes . xxfld 3 campaign - finance , legal - issues , campaign - advertising xxfld 4 state - democratic - party - wisconsin xxfld 5 xxmaj wisconsin xxfld 6 democrat xxfld 7 xxmaj our rating a xxmaj democratic xxmaj party web video making the rounds on social media shows a grim - faced xxmaj gov. xxmaj scott xxmaj walker appearing to bob his head yes to a reporters question about whether he was at the center of a \" criminal scheme \" to evade campaign finance laws . xxmaj in real life , the governor answered an emphatic \" no \" -- not surprising given he s been denying any wrongdoing since new documents were released in the xxmaj john xxmaj doe investigation . xxfld 8 a web video xxeos\n",
              "y: EmptyLabelList\n",
              ",,,,\n",
              "Path: ., model=SequentialRNN(\n",
              "  (0): MultiBatchEncoder(\n",
              "    (module): AWD_LSTM(\n",
              "      (encoder): Embedding(27776, 400, padding_idx=1)\n",
              "      (encoder_dp): EmbeddingDropout(\n",
              "        (emb): Embedding(27776, 400, padding_idx=1)\n",
              "      )\n",
              "      (rnns): ModuleList(\n",
              "        (0): WeightDropout(\n",
              "          (module): LSTM(400, 1152, batch_first=True)\n",
              "        )\n",
              "        (1): WeightDropout(\n",
              "          (module): LSTM(1152, 1152, batch_first=True)\n",
              "        )\n",
              "        (2): WeightDropout(\n",
              "          (module): LSTM(1152, 400, batch_first=True)\n",
              "        )\n",
              "      )\n",
              "      (input_dp): RNNDropout()\n",
              "      (hidden_dps): ModuleList(\n",
              "        (0): RNNDropout()\n",
              "        (1): RNNDropout()\n",
              "        (2): RNNDropout()\n",
              "      )\n",
              "    )\n",
              "  )\n",
              "  (1): PoolingLinearClassifier(\n",
              "    (layers): Sequential(\n",
              "      (0): BatchNorm1d(1200, eps=1e-05, momentum=0.1, affine=True, track_running_stats=True)\n",
              "      (1): Dropout(p=0.2)\n",
              "      (2): Linear(in_features=1200, out_features=50, bias=True)\n",
              "      (3): ReLU(inplace)\n",
              "      (4): BatchNorm1d(50, eps=1e-05, momentum=0.1, affine=True, track_running_stats=True)\n",
              "      (5): Dropout(p=0.1)\n",
              "      (6): Linear(in_features=50, out_features=2, bias=True)\n",
              "    )\n",
              "  )\n",
              "), opt_func=functools.partial(<class 'torch.optim.adam.Adam'>, betas=(0.9, 0.99)), loss_func=FlattenedLoss of CrossEntropyLoss(), metrics=[<function accuracy at 0x7f13713ee2f0>], true_wd=True, bn_wd=True, wd=0.01, train_bn=True, path=PosixPath('gdrive/My Drive/ML_Practice/AWD_LSTM'), model_dir='models', callback_fns=[functools.partial(<class 'fastai.basic_train.Recorder'>, add_time=True, silent=False)], callbacks=[RNNTrainer\n",
              "learn: RNNLearner(data=TextClasDataBunch;\n",
              "\n",
              "Train: LabelList (10240 items)\n",
              "x: TextList\n",
              "xxbos xxfld 1 xxmaj state representative xxfld 2 xxmaj says the xxmaj annies xxmaj list political group supports third - trimester abortions on demand . xxfld 3 abortion xxfld 4 dwayne - bohac xxfld 5 xxmaj texas xxfld 6 republican xxfld 7 xxmaj that 's a premise that he fails to back up . xxmaj annie 's xxmaj list makes no bones about being comfortable with candidates who oppose further restrictions on late - term abortions . xxmaj then again , this year its backing two xxmaj house candidates who voted for more limits . xxfld 8 a mailer xxeos,xxbos xxfld 1 xxmaj state delegate xxfld 2 xxmaj when did the decline of coal start ? xxmaj it started when natural gas took off that started to begin in ( xxmaj president xxmaj george xxup w. ) xxmaj bushs administration . xxfld 3 energy , history , job - accomplishments xxfld 4 scott - surovell xxfld 5 xxmaj virginia xxfld 6 democrat xxfld 7 xxmaj surovell said the decline of coal \" started when natural gas took off xxmaj that started to begin in xxmaj president ( xxmaj george xxup w. ) xxmaj bushs administration . \" xxmaj no doubt , natural gas has been gaining ground on coal in generating electricity . xxmaj the trend started in the 1990s but clearly gained speed during the xxmaj bush administration when the production of natural gas -- a competitor of coal -- picked up . xxmaj but analysts give little credit or blame to xxmaj bush for that trend . xxmaj they note that other factors , such as technological innovation , entrepreneurship and policies of previous administrations , had more to do with laying the groundwork for the natural gas boom . xxfld 8 a floor speech . xxeos,xxbos xxfld 1 xxmaj president xxfld 2 xxmaj hillary xxmaj clinton agrees with xxmaj john mccain \" by voting to give xxmaj george xxmaj bush the benefit of the doubt on xxmaj iran . \" xxfld 3 foreign - policy xxfld 4 barack - obama xxfld 5 xxmaj illinois xxfld 6 democrat xxfld 7 xxmaj obama said he would have voted against the amendment if he had been present . xxmaj so though xxmaj clinton may have \" agreed \" with mccain on the issue , they did not technically vote the same way on it . xxmaj to say that voting for xxmaj kyl - xxmaj lieberman is \" giving xxmaj george xxmaj bush the benefit of the doubt on xxmaj iran \" remains a contentious issue . xxmaj but xxmaj obama 's main point is that xxmaj clinton and mccain were on the same side , and that is correct . xxfld 8 xxmaj denver xxeos,xxbos xxfld 1 xxup na xxfld 2 xxmaj health care reform legislation is likely to mandate free sex change surgeries . xxfld 3 health - care xxfld 4 blog - posting xxfld 5 xxup na xxfld 6 none xxfld 7 xxmaj the release may have a point that xxmaj mikulskis comment could open the door to \" medically necessary \" coverage which conceivably may include sex - change operations . xxmaj but it 's unclear whether her amendment will remain in the legislation , and there 's nothing specific in the legislation on sex - change procedures and nothing else solid that indicates such coverage will be provided . xxmaj the news release cherry - picked a few fleeting references to gender and sexual orientation in completely unrelated contexts to argue that proposed health care legislation would mandate free sex - change surgeries ( and allow them for illegal aliens , no less ) . xxfld 8 a news release xxeos,xxbos xxfld 1 xxup na xxfld 2 xxmaj the economic turnaround started at the end of my term . xxfld 3 economy , jobs xxfld 4 charlie - crist xxfld 5 xxmaj florida xxfld 6 democrat xxfld 7 xxmaj crist said that the economic \" turnaround started at the end of my term . \" xxmaj during xxmaj crists last year in office , xxmaj floridas economy experienced notable gains in personal income and industrial production , and more marginal improvements in the unemployment rate and in payroll employment . xxmaj but xxup gdp did nt grow again until xxmaj scott took office . xxmaj economists say xxmaj crist deserves some credit for the economic turnaround because he accepted federal stimulus dollars , but they add that any state is inevitably buffeted by national and international trends far beyond their control . xxfld 8 an interview on xxup cnn xxeos\n",
              "y: CategoryList\n",
              "False,True,True,False,True\n",
              "Path: .;\n",
              "\n",
              "Valid: LabelList (1284 items)\n",
              "x: TextList\n",
              "xxbos xxfld 1 xxup u.s. xxmaj representative xxfld 2 xxmaj we have less xxmaj americans working now than in the 70s . xxfld 3 economy , jobs xxfld 4 vicky - hartzler xxfld 5 xxmaj missouri xxfld 6 republican xxfld 7 xxmaj however , xxmaj hartzler was talking about the entire decade of the 70s . xxmaj the first eight years of the decade , 1970 through 1977 , have a lower employment - population ratio and a lower labor force participation rate than 2015 . xxfld 8 an interview with xxup xxunk xxmaj news xxeos,xxbos xxfld 1 xxup na xxfld 2 xxmaj when xxmaj obama was sworn into office , he xxup did xxup not use the xxmaj holy xxmaj bible , but instead the xxmaj xxunk ( xxmaj their xxunk to our xxmaj bible , but very different beliefs ) . xxfld 3 obama - birth - certificate , religion xxfld 4 chain - email xxfld 5 xxup na xxfld 6 none xxfld 7 xxmaj xxunk used a xxmaj koran that once belonged to xxmaj thomas xxmaj jefferson , borrowing the rare book from the xxmaj library of xxmaj congress . xxmaj it goes without saying that xxmaj xxunk is not xxmaj obama . xxup update : xxmaj barack xxmaj obama resigned from xxmaj trinity xxmaj united xxmaj church of xxmaj christ on xxmaj may 31 , 2008 , after church pastor xxmaj jeremiah xxup a. xxmaj wright xxmaj jr. made controversial remarks about xxup u. xxup s. foreign policy and other matters . xxfld 8 xxup na xxeos,xxbos xxfld 1 xxup u.s. representative xxfld 2 xxmaj says xxmaj having organizations xxunk as being social welfare organizations and then being involved in the political combat xxunk back to why the statute a hundred years ago said that they were prohibited . xxfld 3 campaign - finance , congress , taxes xxfld 4 earl - blumenauer xxfld 5 xxmaj oregon xxfld 6 democrat xxfld 7 xxmaj however , we have two professors who say the law is silent on political activity -- even if one of them sees an implicit prohibition -- and a plain reading of the law that states no explicit ban . xxmaj blumenauer said that \" the statute a hundred years ago said that they were prohibited . \" xxmaj there was no prohibition in the 1913 xxmaj act . xxmaj the 1913 xxmaj act was silent on political activity , for whatever reasons . xxfld 8 a xxup u.s. xxmaj ways and xxmaj means hearing xxeos,xxbos xxfld 1 xxmaj member of the xxmaj state xxmaj board of xxmaj higher xxmaj education xxfld 2 xxmaj says nearly half of xxmaj oregons children are poor . xxfld 3 poverty xxfld 4 jim - francesconi xxfld 5 xxmaj oregon xxfld 6 none xxfld 7 xxmaj in fact , if you use federal definitions for poverty , about a quarter are poor and another quarter are low - income . xxmaj but experts tell us that families that are described as low - income still struggle to meet their basic needs and , for all xxunk and purposes , qualify as poor . xxmaj be that as it may , xxmaj francesconi was referencing a report that used the federal definitions . xxmaj as such , his statement leaves out important details and we , too , think it would have been better to say \" poor and low income . xxfld 8 an opinion article xxeos,xxbos xxfld 1 xxmaj president xxfld 2 xxmaj on attacks by xxmaj republicans that various programs in the economic stimulus plan are not xxunk , \" xxmaj if you add all that stuff up , it accounts for less than 1 percent of the overall package . \" xxfld 3 economy , stimulus xxfld 4 barack - obama xxfld 5 xxmaj illinois xxfld 6 democrat xxfld 7 xxmaj obama 's point is that some perspective is in order , that legislators are xxunk over a relatively small portion of the spending . xxmaj and yes , if he 's talking about some of the most publicized projects , he 's right . xxmaj in fact , many xxmaj republicans have said large percentages of the stimulus plan would not stimulate the economy and would waste taxpayer money . xxfld 8 interview with xxup cbs xxmaj news xxeos\n",
              "y: CategoryList\n",
              "False,False,False,True,True\n",
              "Path: .;\n",
              "\n",
              "Test: LabelList (1267 items)\n",
              "x: TextList\n",
              "xxbos xxfld 1 xxmaj governor xxfld 2 xxmaj building a wall on the u.s.-mexico border will take literally years . xxfld 3 immigration xxfld 4 rick - perry xxfld 5 xxmaj texas xxfld 6 republican xxfld 7 xxmaj meantime , engineering experts agree the wall would most likely take years to complete . xxmaj keep in mind , too , it took more than six years to build roughly 700 miles of fence and barriers along the roughly xxunk xxup u. xxup s. -mexico border . xxfld 8 xxmaj radio interview xxeos,xxbos xxfld 1 xxmaj state representative xxfld 2 xxmaj wisconsin is on pace to double the number of layoffs this year . xxfld 3 jobs xxfld 4 katrina - shankland xxfld 5 xxmaj wisconsin xxfld 6 democrat xxfld 7 xxmaj she cited xxunk notices received by the state . xxmaj but those are nt actual layoffs . xxmaj in the time frame she cited the states added about xxunk jobs . xxfld 8 a news conference xxeos,xxbos xxfld 1 xxmaj president - xxmaj elect xxfld 2 xxmaj says xxmaj john mccain has done nothing to help the vets . xxfld 3 military , veterans , voting - record xxfld 4 donald - trump xxfld 5 xxmaj new xxmaj york xxfld 6 republican xxfld 7 xxmaj trump said that mccain \" has done nothing to help the vets . \" xxmaj while many veterans groups have had their differences with mccain over the years over specific legislation and his general approach to veterans issues , that s not the same as saying he s done \" nothing \" for veterans . xxmaj in fact , just within the past two years , mccain has sponsored and helped enact several major provisions to help veterans . xxmaj he also devotes a significant portion of his office staff to offer veterans on xxunk . xxfld 8 comments on xxup abc 's xxmaj this xxmaj week . xxeos,xxbos xxfld 1 consultant xxfld 2 xxmaj suzanne xxmaj bonamici supports a plan that will cut choice for xxmaj medicare xxmaj advantage seniors . xxfld 3 medicare , message - machine-2012,campaign - advertising xxfld 4 rob - cornilles xxfld 5 xxmaj oregon xxfld 6 republican xxfld 7 xxmaj but spending still goes up . xxmaj in addition , many outside factors can affect the cost and range of benefits , making it impossible to know how xxmaj medicare xxmaj advantage might change . xxmaj while the statement from xxmaj cornilles is partially accurate , it is taken out of context and ignores important details on a politically volatile subject . xxfld 8 a radio show xxeos,xxbos xxfld 1 xxup na xxfld 2 xxmaj when asked by a reporter whether he s at the center of a criminal scheme to violate campaign laws , xxmaj gov. xxmaj scott xxmaj walker xxunk yes . xxfld 3 campaign - finance , legal - issues , campaign - advertising xxfld 4 state - democratic - party - wisconsin xxfld 5 xxmaj wisconsin xxfld 6 democrat xxfld 7 xxmaj our rating a xxmaj democratic xxmaj party web video making the rounds on social media shows a grim - faced xxmaj gov. xxmaj scott xxmaj walker appearing to bob his head yes to a reporters question about whether he was at the center of a \" criminal scheme \" to evade campaign finance laws . xxmaj in real life , the governor answered an emphatic \" no \" -- not surprising given he s been denying any wrongdoing since new documents were released in the xxmaj john xxmaj doe investigation . xxfld 8 a web video xxeos\n",
              "y: EmptyLabelList\n",
              ",,,,\n",
              "Path: ., model=SequentialRNN(\n",
              "  (0): MultiBatchEncoder(\n",
              "    (module): AWD_LSTM(\n",
              "      (encoder): Embedding(27776, 400, padding_idx=1)\n",
              "      (encoder_dp): EmbeddingDropout(\n",
              "        (emb): Embedding(27776, 400, padding_idx=1)\n",
              "      )\n",
              "      (rnns): ModuleList(\n",
              "        (0): WeightDropout(\n",
              "          (module): LSTM(400, 1152, batch_first=True)\n",
              "        )\n",
              "        (1): WeightDropout(\n",
              "          (module): LSTM(1152, 1152, batch_first=True)\n",
              "        )\n",
              "        (2): WeightDropout(\n",
              "          (module): LSTM(1152, 400, batch_first=True)\n",
              "        )\n",
              "      )\n",
              "      (input_dp): RNNDropout()\n",
              "      (hidden_dps): ModuleList(\n",
              "        (0): RNNDropout()\n",
              "        (1): RNNDropout()\n",
              "        (2): RNNDropout()\n",
              "      )\n",
              "    )\n",
              "  )\n",
              "  (1): PoolingLinearClassifier(\n",
              "    (layers): Sequential(\n",
              "      (0): BatchNorm1d(1200, eps=1e-05, momentum=0.1, affine=True, track_running_stats=True)\n",
              "      (1): Dropout(p=0.2)\n",
              "      (2): Linear(in_features=1200, out_features=50, bias=True)\n",
              "      (3): ReLU(inplace)\n",
              "      (4): BatchNorm1d(50, eps=1e-05, momentum=0.1, affine=True, track_running_stats=True)\n",
              "      (5): Dropout(p=0.1)\n",
              "      (6): Linear(in_features=50, out_features=2, bias=True)\n",
              "    )\n",
              "  )\n",
              "), opt_func=functools.partial(<class 'torch.optim.adam.Adam'>, betas=(0.9, 0.99)), loss_func=FlattenedLoss of CrossEntropyLoss(), metrics=[<function accuracy at 0x7f13713ee2f0>], true_wd=True, bn_wd=True, wd=0.01, train_bn=True, path=PosixPath('gdrive/My Drive/ML_Practice/AWD_LSTM'), model_dir='models', callback_fns=[functools.partial(<class 'fastai.basic_train.Recorder'>, add_time=True, silent=False)], callbacks=[...], layer_groups=[Sequential(\n",
              "  (0): Embedding(27776, 400, padding_idx=1)\n",
              "  (1): EmbeddingDropout(\n",
              "    (emb): Embedding(27776, 400, padding_idx=1)\n",
              "  )\n",
              "), Sequential(\n",
              "  (0): WeightDropout(\n",
              "    (module): LSTM(400, 1152, batch_first=True)\n",
              "  )\n",
              "  (1): RNNDropout()\n",
              "), Sequential(\n",
              "  (0): WeightDropout(\n",
              "    (module): LSTM(1152, 1152, batch_first=True)\n",
              "  )\n",
              "  (1): RNNDropout()\n",
              "), Sequential(\n",
              "  (0): WeightDropout(\n",
              "    (module): LSTM(1152, 400, batch_first=True)\n",
              "  )\n",
              "  (1): RNNDropout()\n",
              "), Sequential(\n",
              "  (0): PoolingLinearClassifier(\n",
              "    (layers): Sequential(\n",
              "      (0): BatchNorm1d(1200, eps=1e-05, momentum=0.1, affine=True, track_running_stats=True)\n",
              "      (1): Dropout(p=0.2)\n",
              "      (2): Linear(in_features=1200, out_features=50, bias=True)\n",
              "      (3): ReLU(inplace)\n",
              "      (4): BatchNorm1d(50, eps=1e-05, momentum=0.1, affine=True, track_running_stats=True)\n",
              "      (5): Dropout(p=0.1)\n",
              "      (6): Linear(in_features=50, out_features=2, bias=True)\n",
              "    )\n",
              "  )\n",
              ")], add_time=True, silent=False)\n",
              "alpha: 2.0\n",
              "beta: 1.0], layer_groups=[Sequential(\n",
              "  (0): Embedding(27776, 400, padding_idx=1)\n",
              "  (1): EmbeddingDropout(\n",
              "    (emb): Embedding(27776, 400, padding_idx=1)\n",
              "  )\n",
              "), Sequential(\n",
              "  (0): WeightDropout(\n",
              "    (module): LSTM(400, 1152, batch_first=True)\n",
              "  )\n",
              "  (1): RNNDropout()\n",
              "), Sequential(\n",
              "  (0): WeightDropout(\n",
              "    (module): LSTM(1152, 1152, batch_first=True)\n",
              "  )\n",
              "  (1): RNNDropout()\n",
              "), Sequential(\n",
              "  (0): WeightDropout(\n",
              "    (module): LSTM(1152, 400, batch_first=True)\n",
              "  )\n",
              "  (1): RNNDropout()\n",
              "), Sequential(\n",
              "  (0): PoolingLinearClassifier(\n",
              "    (layers): Sequential(\n",
              "      (0): BatchNorm1d(1200, eps=1e-05, momentum=0.1, affine=True, track_running_stats=True)\n",
              "      (1): Dropout(p=0.2)\n",
              "      (2): Linear(in_features=1200, out_features=50, bias=True)\n",
              "      (3): ReLU(inplace)\n",
              "      (4): BatchNorm1d(50, eps=1e-05, momentum=0.1, affine=True, track_running_stats=True)\n",
              "      (5): Dropout(p=0.1)\n",
              "      (6): Linear(in_features=50, out_features=2, bias=True)\n",
              "    )\n",
              "  )\n",
              ")], add_time=True, silent=False)"
            ]
          },
          "metadata": {
            "tags": []
          },
          "execution_count": 79
        }
      ]
    },
    {
      "cell_type": "code",
      "metadata": {
        "colab_type": "code",
        "id": "sYT6c_i0nby9",
        "outputId": "bba33372-3d3b-4ad5-c701-e95860b3b76b",
        "colab": {
          "base_uri": "https://localhost:8080/",
          "height": 235
        }
      },
      "source": [
        "learn.freeze_to(-2)\n",
        "learn.fit_one_cycle(6, slice(1e-2/(2.6**4),1e-2), moms=(0.8,0.7))"
      ],
      "execution_count": 0,
      "outputs": [
        {
          "output_type": "display_data",
          "data": {
            "text/html": [
              "<table border=\"1\" class=\"dataframe\">\n",
              "  <thead>\n",
              "    <tr style=\"text-align: left;\">\n",
              "      <th>epoch</th>\n",
              "      <th>train_loss</th>\n",
              "      <th>valid_loss</th>\n",
              "      <th>accuracy</th>\n",
              "      <th>time</th>\n",
              "    </tr>\n",
              "  </thead>\n",
              "  <tbody>\n",
              "    <tr>\n",
              "      <td>0</td>\n",
              "      <td>0.669687</td>\n",
              "      <td>0.665083</td>\n",
              "      <td>0.587227</td>\n",
              "      <td>00:38</td>\n",
              "    </tr>\n",
              "    <tr>\n",
              "      <td>1</td>\n",
              "      <td>0.664230</td>\n",
              "      <td>0.635751</td>\n",
              "      <td>0.621495</td>\n",
              "      <td>00:41</td>\n",
              "    </tr>\n",
              "    <tr>\n",
              "      <td>2</td>\n",
              "      <td>0.647728</td>\n",
              "      <td>0.639715</td>\n",
              "      <td>0.631620</td>\n",
              "      <td>00:43</td>\n",
              "    </tr>\n",
              "    <tr>\n",
              "      <td>3</td>\n",
              "      <td>0.621918</td>\n",
              "      <td>0.640941</td>\n",
              "      <td>0.639408</td>\n",
              "      <td>00:42</td>\n",
              "    </tr>\n",
              "    <tr>\n",
              "      <td>4</td>\n",
              "      <td>0.597720</td>\n",
              "      <td>0.631021</td>\n",
              "      <td>0.634735</td>\n",
              "      <td>00:45</td>\n",
              "    </tr>\n",
              "    <tr>\n",
              "      <td>5</td>\n",
              "      <td>0.561352</td>\n",
              "      <td>0.640841</td>\n",
              "      <td>0.639408</td>\n",
              "      <td>00:46</td>\n",
              "    </tr>\n",
              "  </tbody>\n",
              "</table>"
            ],
            "text/plain": [
              "<IPython.core.display.HTML object>"
            ]
          },
          "metadata": {
            "tags": []
          }
        }
      ]
    },
    {
      "cell_type": "code",
      "metadata": {
        "colab_type": "code",
        "id": "e2V3xy_VnbzA",
        "colab": {}
      },
      "source": [
        "learn.save('second_binary')"
      ],
      "execution_count": 0,
      "outputs": []
    },
    {
      "cell_type": "code",
      "metadata": {
        "colab_type": "code",
        "id": "UAALsttVnbzC",
        "colab": {}
      },
      "source": [
        "learn.load('second_binary');"
      ],
      "execution_count": 0,
      "outputs": []
    },
    {
      "cell_type": "code",
      "metadata": {
        "colab_type": "code",
        "id": "hymNAUcPnbzD",
        "outputId": "3e9c26e6-0e0b-437b-83c3-051d1363e9e8",
        "colab": {
          "base_uri": "https://localhost:8080/",
          "height": 111
        }
      },
      "source": [
        "learn.freeze_to(-3)\n",
        "learn.fit_one_cycle(2, slice(5e-3/(2.6**4),5e-3), moms=(0.8,0.7))"
      ],
      "execution_count": 0,
      "outputs": [
        {
          "output_type": "display_data",
          "data": {
            "text/html": [
              "<table border=\"1\" class=\"dataframe\">\n",
              "  <thead>\n",
              "    <tr style=\"text-align: left;\">\n",
              "      <th>epoch</th>\n",
              "      <th>train_loss</th>\n",
              "      <th>valid_loss</th>\n",
              "      <th>accuracy</th>\n",
              "      <th>time</th>\n",
              "    </tr>\n",
              "  </thead>\n",
              "  <tbody>\n",
              "    <tr>\n",
              "      <td>0</td>\n",
              "      <td>0.599524</td>\n",
              "      <td>0.637292</td>\n",
              "      <td>0.639408</td>\n",
              "      <td>01:22</td>\n",
              "    </tr>\n",
              "    <tr>\n",
              "      <td>1</td>\n",
              "      <td>0.545246</td>\n",
              "      <td>0.663387</td>\n",
              "      <td>0.628505</td>\n",
              "      <td>01:23</td>\n",
              "    </tr>\n",
              "  </tbody>\n",
              "</table>"
            ],
            "text/plain": [
              "<IPython.core.display.HTML object>"
            ]
          },
          "metadata": {
            "tags": []
          }
        }
      ]
    },
    {
      "cell_type": "code",
      "metadata": {
        "colab_type": "code",
        "id": "mTIjDDNonbzG",
        "colab": {}
      },
      "source": [
        "learn.save('third_binary')"
      ],
      "execution_count": 0,
      "outputs": []
    },
    {
      "cell_type": "code",
      "metadata": {
        "colab_type": "code",
        "id": "s8HnjYeRnbzL",
        "colab": {}
      },
      "source": [
        "learn.load('third_binary');"
      ],
      "execution_count": 0,
      "outputs": []
    },
    {
      "cell_type": "code",
      "metadata": {
        "colab_type": "code",
        "id": "VD8pURcvnbzO",
        "outputId": "5ebf96ac-3fe6-44cf-9393-ec6a9f51bb0a",
        "colab": {
          "base_uri": "https://localhost:8080/",
          "height": 80
        }
      },
      "source": [
        "learn.unfreeze()\n",
        "learn.fit_one_cycle(1, slice(1e-3/(2.6**4),1e-3), moms=(0.8,0.7))"
      ],
      "execution_count": 0,
      "outputs": [
        {
          "output_type": "display_data",
          "data": {
            "text/html": [
              "<table border=\"1\" class=\"dataframe\">\n",
              "  <thead>\n",
              "    <tr style=\"text-align: left;\">\n",
              "      <th>epoch</th>\n",
              "      <th>train_loss</th>\n",
              "      <th>valid_loss</th>\n",
              "      <th>accuracy</th>\n",
              "      <th>time</th>\n",
              "    </tr>\n",
              "  </thead>\n",
              "  <tbody>\n",
              "    <tr>\n",
              "      <td>0</td>\n",
              "      <td>0.481425</td>\n",
              "      <td>0.684968</td>\n",
              "      <td>0.640966</td>\n",
              "      <td>01:59</td>\n",
              "    </tr>\n",
              "  </tbody>\n",
              "</table>"
            ],
            "text/plain": [
              "<IPython.core.display.HTML object>"
            ]
          },
          "metadata": {
            "tags": []
          }
        }
      ]
    },
    {
      "cell_type": "markdown",
      "metadata": {
        "id": "AUwqf1ovnTRg",
        "colab_type": "text"
      },
      "source": [
        "#### Multi Class Classification"
      ]
    },
    {
      "cell_type": "code",
      "metadata": {
        "id": "hiW0ktAN20y0",
        "colab_type": "code",
        "colab": {}
      },
      "source": [
        "data_clas = TextClasDataBunch.from_df(path='./',train_df=df_train,valid_df=df_valid,test_df=df_test,\n",
        "                                   text_cols=['speaker\\'s_job','statement','subject','speaker','state','party_affiliation','justification','context']\n",
        "                                  ,vocab =data_lm.train_ds.vocab, bs=bs,  mark_fields=True, include_bos=True, include_eos=True,label_cols='label')"
      ],
      "execution_count": 0,
      "outputs": []
    },
    {
      "cell_type": "code",
      "metadata": {
        "id": "V_KQQoi2H4Qc",
        "colab_type": "code",
        "colab": {}
      },
      "source": [
        "data_clas.save(f'{root_path}data_clas_multi.pkl')"
      ],
      "execution_count": 0,
      "outputs": []
    },
    {
      "cell_type": "code",
      "metadata": {
        "id": "AXOuoKEWH4Qd",
        "colab_type": "code",
        "colab": {}
      },
      "source": [
        "data_clas = load_data(root_path, 'data_clas_multi.pkl', bs=bs)"
      ],
      "execution_count": 0,
      "outputs": []
    },
    {
      "cell_type": "code",
      "metadata": {
        "id": "b8exlnZoH4Qh",
        "colab_type": "code",
        "outputId": "5d45fe61-015e-4619-f0b5-fc9f42a79e8f",
        "colab": {
          "base_uri": "https://localhost:8080/",
          "height": 374
        }
      },
      "source": [
        "data_clas.show_batch()"
      ],
      "execution_count": 0,
      "outputs": [
        {
          "output_type": "display_data",
          "data": {
            "text/html": [
              "<table border=\"1\" class=\"dataframe\">\n",
              "  <thead>\n",
              "    <tr style=\"text-align: right;\">\n",
              "      <th>text</th>\n",
              "      <th>target</th>\n",
              "    </tr>\n",
              "  </thead>\n",
              "  <tbody>\n",
              "    <tr>\n",
              "      <td>xxbos xxfld 1 xxmaj president - xxmaj elect xxfld 2 xxmaj the wives of the 9 / 11 hijackers knew exactly what was happening and went back to xxmaj saudi xxmaj arabia two days before the attacks to watch their husbands on television flying the planes . xxfld 3 history , terrorism xxfld 4 donald - trump xxfld 5 xxmaj new xxmaj york xxfld 6 republican xxfld 7 xxmaj but</td>\n",
              "      <td>false</td>\n",
              "    </tr>\n",
              "    <tr>\n",
              "      <td>xxbos xxfld 1 xxmaj presidential candidate xxfld 2 xxmaj in 2006 , xxmaj donald xxmaj trump was hoping for a real estate crash . xxfld 3 bankruptcy , candidates - biography , debt , economy , history , housing , income , jobs , stimulus , wealth xxfld 4 hillary - clinton xxfld 5 xxmaj new xxmaj york xxfld 6 democrat xxfld 7 xxmaj trump said , \" i do</td>\n",
              "      <td>mostly-true</td>\n",
              "    </tr>\n",
              "    <tr>\n",
              "      <td>xxbos xxfld 1 xxmaj governor xxfld 2 i used tax cuts to help create over 80,000 jobs in xxmaj new xxmaj mexico . xxfld 3 taxes xxfld 4 bill - richardson xxfld 5 xxmaj new xxmaj mexico xxfld 6 democrat xxfld 7 xxmaj what 's worth noting is that , in all three stories xxmaj eisnaugle cited , the fraud was exposed . xxmaj the only real impact was that</td>\n",
              "      <td>mostly-true</td>\n",
              "    </tr>\n",
              "    <tr>\n",
              "      <td>xxbos xxfld 1 xxmaj governor xxfld 2 xxmaj says the high - speed rail project provides short - term jobs . xxfld 3 jobs , stimulus , transportation xxfld 4 rick - scott xxfld 5 xxmaj florida xxfld 6 republican xxfld 7 xxmaj that was a lot of xxmaj supreme xxmaj court history . xxmaj first , lets review xxmaj obamas statement : \" xxmaj ultimately , i am confident</td>\n",
              "      <td>mostly-true</td>\n",
              "    </tr>\n",
              "    <tr>\n",
              "      <td>xxbos xxfld 1 xxmaj retired social worker xxfld 2 xxmaj tea xxmaj party xxmaj congressman xxmaj frank xxmaj guinta voted for billions in cuts to veterans programs . xxfld 3 veterans xxfld 4 carol - shea - porter xxfld 5 xxmaj new xxmaj hampshire xxfld 6 democrat xxfld 7 xxmaj let 's go back to xxmaj scott 's statement . xxmaj he said , \" xxmaj when i walked into</td>\n",
              "      <td>barely-true</td>\n",
              "    </tr>\n",
              "  </tbody>\n",
              "</table>"
            ],
            "text/plain": [
              "<IPython.core.display.HTML object>"
            ]
          },
          "metadata": {
            "tags": []
          }
        }
      ]
    },
    {
      "cell_type": "markdown",
      "metadata": {
        "id": "tmuIqZURH4Qi",
        "colab_type": "text"
      },
      "source": [
        "We can then create a model to classify those reviews and load the encoder we saved before."
      ]
    },
    {
      "cell_type": "code",
      "metadata": {
        "id": "H2bBUzIRH4Qj",
        "colab_type": "code",
        "colab": {}
      },
      "source": [
        "learn = text_classifier_learner(data_clas, AWD_LSTM, drop_mult=0.5)\n",
        "learn.load_encoder('fine_tuned_enc')"
      ],
      "execution_count": 0,
      "outputs": []
    },
    {
      "cell_type": "code",
      "metadata": {
        "id": "qNUEHbjKH4Qk",
        "colab_type": "code",
        "outputId": "31a41307-7f7b-4d3f-ad5a-fc6c898c5d90",
        "colab": {
          "base_uri": "https://localhost:8080/",
          "height": 34
        }
      },
      "source": [
        "learn.lr_find()"
      ],
      "execution_count": 0,
      "outputs": [
        {
          "output_type": "display_data",
          "data": {
            "text/html": [
              ""
            ],
            "text/plain": [
              "<IPython.core.display.HTML object>"
            ]
          },
          "metadata": {
            "tags": []
          }
        },
        {
          "output_type": "stream",
          "text": [
            "LR Finder is complete, type {learner_name}.recorder.plot() to see the graph.\n"
          ],
          "name": "stdout"
        }
      ]
    },
    {
      "cell_type": "code",
      "metadata": {
        "id": "WZHq93G1H4Ql",
        "colab_type": "code",
        "outputId": "87a74a63-89b1-4275-f8f4-83a41373beda",
        "colab": {
          "base_uri": "https://localhost:8080/",
          "height": 283
        }
      },
      "source": [
        "learn.recorder.plot()"
      ],
      "execution_count": 0,
      "outputs": [
        {
          "output_type": "display_data",
          "data": {
            "image/png": "[encoded data removed]",
            "text/plain": [
              "<Figure size 432x288 with 1 Axes>"
            ]
          },
          "metadata": {
            "tags": []
          }
        }
      ]
    },
    {
      "cell_type": "code",
      "metadata": {
        "id": "gDV0mlryH4Qo",
        "colab_type": "code",
        "outputId": "2b436626-9965-4777-e517-a6ec26b9907b",
        "colab": {
          "base_uri": "https://localhost:8080/",
          "height": 173
        }
      },
      "source": [
        "learn.fit_one_cycle(4, 1e-2, moms=(0.8,0.7))"
      ],
      "execution_count": 0,
      "outputs": [
        {
          "output_type": "display_data",
          "data": {
            "text/html": [
              "<table border=\"1\" class=\"dataframe\">\n",
              "  <thead>\n",
              "    <tr style=\"text-align: left;\">\n",
              "      <th>epoch</th>\n",
              "      <th>train_loss</th>\n",
              "      <th>valid_loss</th>\n",
              "      <th>accuracy</th>\n",
              "      <th>time</th>\n",
              "    </tr>\n",
              "  </thead>\n",
              "  <tbody>\n",
              "    <tr>\n",
              "      <td>0</td>\n",
              "      <td>1.756586</td>\n",
              "      <td>1.737119</td>\n",
              "      <td>0.218847</td>\n",
              "      <td>00:44</td>\n",
              "    </tr>\n",
              "    <tr>\n",
              "      <td>1</td>\n",
              "      <td>1.750149</td>\n",
              "      <td>1.710425</td>\n",
              "      <td>0.241433</td>\n",
              "      <td>00:48</td>\n",
              "    </tr>\n",
              "    <tr>\n",
              "      <td>2</td>\n",
              "      <td>1.728786</td>\n",
              "      <td>1.694174</td>\n",
              "      <td>0.260903</td>\n",
              "      <td>00:51</td>\n",
              "    </tr>\n",
              "    <tr>\n",
              "      <td>3</td>\n",
              "      <td>1.710961</td>\n",
              "      <td>1.695300</td>\n",
              "      <td>0.246885</td>\n",
              "      <td>00:49</td>\n",
              "    </tr>\n",
              "  </tbody>\n",
              "</table>"
            ],
            "text/plain": [
              "<IPython.core.display.HTML object>"
            ]
          },
          "metadata": {
            "tags": []
          }
        }
      ]
    },
    {
      "cell_type": "code",
      "metadata": {
        "id": "hIm4h3E9H4Qr",
        "colab_type": "code",
        "colab": {}
      },
      "source": [
        "learn.save('first_multi')"
      ],
      "execution_count": 0,
      "outputs": []
    },
    {
      "cell_type": "code",
      "metadata": {
        "id": "j-3o5MYNH4Qt",
        "colab_type": "code",
        "colab": {}
      },
      "source": [
        "learn.load('first_multi');"
      ],
      "execution_count": 0,
      "outputs": []
    },
    {
      "cell_type": "code",
      "metadata": {
        "id": "Gbu1f82rpggC",
        "colab_type": "code",
        "outputId": "c36550a5-1674-42d1-d036-cbdecde78c94",
        "colab": {
          "base_uri": "https://localhost:8080/",
          "height": 34
        }
      },
      "source": [
        "learn.lr_find()"
      ],
      "execution_count": 0,
      "outputs": [
        {
          "output_type": "display_data",
          "data": {
            "text/html": [
              ""
            ],
            "text/plain": [
              "<IPython.core.display.HTML object>"
            ]
          },
          "metadata": {
            "tags": []
          }
        },
        {
          "output_type": "stream",
          "text": [
            "LR Finder is complete, type {learner_name}.recorder.plot() to see the graph.\n"
          ],
          "name": "stdout"
        }
      ]
    },
    {
      "cell_type": "code",
      "metadata": {
        "id": "LSUGm2_Ppjjj",
        "colab_type": "code",
        "outputId": "d141bed9-b39d-4289-96eb-94721c33e421",
        "colab": {
          "base_uri": "https://localhost:8080/",
          "height": 283
        }
      },
      "source": [
        "learn.recorder.plot()"
      ],
      "execution_count": 0,
      "outputs": [
        {
          "output_type": "display_data",
          "data": {
            "image/png": "[encoded data removed]",
            "text/plain": [
              "<Figure size 432x288 with 1 Axes>"
            ]
          },
          "metadata": {
            "tags": []
          }
        }
      ]
    },
    {
      "cell_type": "code",
      "metadata": {
        "id": "aomCOjZpH4Qv",
        "colab_type": "code",
        "outputId": "22fc80ea-cc9d-4aab-d4e7-3bf049bc4296",
        "colab": {
          "base_uri": "https://localhost:8080/",
          "height": 235
        }
      },
      "source": [
        "learn.freeze_to(-2)\n",
        "learn.fit_one_cycle(6, slice(1e-2/(2.6**4),1e-2), moms=(0.8,0.7))"
      ],
      "execution_count": 0,
      "outputs": [
        {
          "output_type": "display_data",
          "data": {
            "text/html": [
              "<table border=\"1\" class=\"dataframe\">\n",
              "  <thead>\n",
              "    <tr style=\"text-align: left;\">\n",
              "      <th>epoch</th>\n",
              "      <th>train_loss</th>\n",
              "      <th>valid_loss</th>\n",
              "      <th>accuracy</th>\n",
              "      <th>time</th>\n",
              "    </tr>\n",
              "  </thead>\n",
              "  <tbody>\n",
              "    <tr>\n",
              "      <td>0</td>\n",
              "      <td>1.724492</td>\n",
              "      <td>1.702828</td>\n",
              "      <td>0.254673</td>\n",
              "      <td>00:59</td>\n",
              "    </tr>\n",
              "    <tr>\n",
              "      <td>1</td>\n",
              "      <td>1.714408</td>\n",
              "      <td>1.714674</td>\n",
              "      <td>0.218847</td>\n",
              "      <td>00:56</td>\n",
              "    </tr>\n",
              "    <tr>\n",
              "      <td>2</td>\n",
              "      <td>1.693401</td>\n",
              "      <td>1.672788</td>\n",
              "      <td>0.270249</td>\n",
              "      <td>00:57</td>\n",
              "    </tr>\n",
              "    <tr>\n",
              "      <td>3</td>\n",
              "      <td>1.652109</td>\n",
              "      <td>1.665336</td>\n",
              "      <td>0.279595</td>\n",
              "      <td>00:58</td>\n",
              "    </tr>\n",
              "    <tr>\n",
              "      <td>4</td>\n",
              "      <td>1.590129</td>\n",
              "      <td>1.670797</td>\n",
              "      <td>0.293614</td>\n",
              "      <td>00:57</td>\n",
              "    </tr>\n",
              "    <tr>\n",
              "      <td>5</td>\n",
              "      <td>1.516503</td>\n",
              "      <td>1.681551</td>\n",
              "      <td>0.295950</td>\n",
              "      <td>00:56</td>\n",
              "    </tr>\n",
              "  </tbody>\n",
              "</table>"
            ],
            "text/plain": [
              "<IPython.core.display.HTML object>"
            ]
          },
          "metadata": {
            "tags": []
          }
        }
      ]
    },
    {
      "cell_type": "code",
      "metadata": {
        "id": "AljQNSdrH4Qw",
        "colab_type": "code",
        "colab": {}
      },
      "source": [
        "learn.save('second_multi')"
      ],
      "execution_count": 0,
      "outputs": []
    },
    {
      "cell_type": "code",
      "metadata": {
        "id": "2qjoiboIH4Qz",
        "colab_type": "code",
        "colab": {}
      },
      "source": [
        "learn.load('second_multi');"
      ],
      "execution_count": 0,
      "outputs": []
    },
    {
      "cell_type": "code",
      "metadata": {
        "id": "2G7GTt_4H4Q2",
        "colab_type": "code",
        "outputId": "33b92891-6b49-49fe-f513-40eeb4da2cff",
        "colab": {
          "base_uri": "https://localhost:8080/",
          "height": 173
        }
      },
      "source": [
        "learn.freeze_to(-3)\n",
        "learn.fit_one_cycle(4, slice(5e-4/(2.6**4),5e-4), moms=(0.8,0.7))"
      ],
      "execution_count": 0,
      "outputs": [
        {
          "output_type": "display_data",
          "data": {
            "text/html": [
              "<table border=\"1\" class=\"dataframe\">\n",
              "  <thead>\n",
              "    <tr style=\"text-align: left;\">\n",
              "      <th>epoch</th>\n",
              "      <th>train_loss</th>\n",
              "      <th>valid_loss</th>\n",
              "      <th>accuracy</th>\n",
              "      <th>time</th>\n",
              "    </tr>\n",
              "  </thead>\n",
              "  <tbody>\n",
              "    <tr>\n",
              "      <td>0</td>\n",
              "      <td>1.509567</td>\n",
              "      <td>1.693811</td>\n",
              "      <td>0.290498</td>\n",
              "      <td>01:30</td>\n",
              "    </tr>\n",
              "    <tr>\n",
              "      <td>1</td>\n",
              "      <td>1.499128</td>\n",
              "      <td>1.702553</td>\n",
              "      <td>0.285047</td>\n",
              "      <td>01:28</td>\n",
              "    </tr>\n",
              "    <tr>\n",
              "      <td>2</td>\n",
              "      <td>1.458177</td>\n",
              "      <td>1.710320</td>\n",
              "      <td>0.292056</td>\n",
              "      <td>01:26</td>\n",
              "    </tr>\n",
              "    <tr>\n",
              "      <td>3</td>\n",
              "      <td>1.457790</td>\n",
              "      <td>1.711189</td>\n",
              "      <td>0.291277</td>\n",
              "      <td>01:30</td>\n",
              "    </tr>\n",
              "  </tbody>\n",
              "</table>"
            ],
            "text/plain": [
              "<IPython.core.display.HTML object>"
            ]
          },
          "metadata": {
            "tags": []
          }
        }
      ]
    },
    {
      "cell_type": "code",
      "metadata": {
        "id": "ryTPagk5H4Q5",
        "colab_type": "code",
        "colab": {}
      },
      "source": [
        "learn.save('third_multi')"
      ],
      "execution_count": 0,
      "outputs": []
    },
    {
      "cell_type": "code",
      "metadata": {
        "id": "64W3XVXPH4Q7",
        "colab_type": "code",
        "colab": {}
      },
      "source": [
        "learn.load('third_multi');"
      ],
      "execution_count": 0,
      "outputs": []
    },
    {
      "cell_type": "code",
      "metadata": {
        "id": "u_FlHB7PH4Q9",
        "colab_type": "code",
        "outputId": "03a16d59-600a-4216-c197-67ba65831e2a",
        "colab": {
          "base_uri": "https://localhost:8080/",
          "height": 80
        }
      },
      "source": [
        "learn.unfreeze()\n",
        "learn.fit_one_cycle(1, slice(1e-3/(2.6**4),1e-3), moms=(0.8,0.7))"
      ],
      "execution_count": 0,
      "outputs": [
        {
          "output_type": "display_data",
          "data": {
            "text/html": [
              "<table border=\"1\" class=\"dataframe\">\n",
              "  <thead>\n",
              "    <tr style=\"text-align: left;\">\n",
              "      <th>epoch</th>\n",
              "      <th>train_loss</th>\n",
              "      <th>valid_loss</th>\n",
              "      <th>accuracy</th>\n",
              "      <th>time</th>\n",
              "    </tr>\n",
              "  </thead>\n",
              "  <tbody>\n",
              "    <tr>\n",
              "      <td>0</td>\n",
              "      <td>1.470009</td>\n",
              "      <td>1.728713</td>\n",
              "      <td>0.291277</td>\n",
              "      <td>02:00</td>\n",
              "    </tr>\n",
              "  </tbody>\n",
              "</table>"
            ],
            "text/plain": [
              "<IPython.core.display.HTML object>"
            ]
          },
          "metadata": {
            "tags": []
          }
        }
      ]
    }
  ]
}