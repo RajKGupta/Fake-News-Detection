{
 "cells": [
  {
   "cell_type": "markdown",
   "metadata": {
    "colab_type": "text",
    "id": "gEiYxl00H4PC"
   },
   "source": [
    "# Fake News Detection using ML Techniques using single Vectorizer\n",
    "\n",
    "# Best Result with Random Forest - 41.59% accuracy : 6 way\n",
    "# Best Result with Random Forest - 72.5% accuracy : Binary\n"
   ]
  },
  {
   "cell_type": "code",
   "execution_count": 1,
   "metadata": {
    "colab": {},
    "colab_type": "code",
    "id": "aKnXOB7SH4PD"
   },
   "outputs": [],
   "source": [
    "%reload_ext autoreload\n",
    "%autoreload 2\n",
    "%matplotlib inline"
   ]
  },
  {
   "cell_type": "markdown",
   "metadata": {
    "colab_type": "text",
    "id": "8UMT00fNL3DC"
   },
   "source": [
    "Importing the required libraries and setting up the spacy pipeline for lemmatization only support"
   ]
  },
  {
   "cell_type": "code",
   "execution_count": 2,
   "metadata": {
    "colab": {
     "base_uri": "https://localhost:8080/",
     "height": 68
    },
    "colab_type": "code",
    "id": "deuxfYPOH4PG",
    "outputId": "27e4ce38-1701-44ba-b11b-1eb9f8ff907f"
   },
   "outputs": [
    {
     "name": "stderr",
     "output_type": "stream",
     "text": [
      "[nltk_data] Downloading package punkt to /home/raj/nltk_data...\n",
      "[nltk_data]   Package punkt is already up-to-date!\n"
     ]
    },
    {
     "name": "stdout",
     "output_type": "stream",
     "text": [
      "!\"#$%&'()*+,-./:;<=>?@[\\]^_`{|}~\n"
     ]
    }
   ],
   "source": [
    "import pandas as pd\n",
    "import numpy as np\n",
    "import matplotlib.pyplot as plt\n",
    "import os\n",
    "\n",
    "#from textblob import TextBlob,Word\n",
    "import nltk\n",
    "nltk.download('punkt')\n",
    "from nltk import word_tokenize\n",
    "import string\n",
    "print(string.punctuation)\n",
    "import spacy\n",
    "nlp = spacy.load('en', disable=['ner', 'parser'])\n",
    "\n"
   ]
  },
  {
   "cell_type": "code",
   "execution_count": 3,
   "metadata": {
    "colab": {
     "base_uri": "https://localhost:8080/",
     "height": 122
    },
    "colab_type": "code",
    "id": "_0Q2GkFwhlcf",
    "outputId": "b2b58e95-0efd-4ec8-b98a-99ea78ce8bde"
   },
   "outputs": [
    {
     "ename": "ModuleNotFoundError",
     "evalue": "No module named 'google.colab'",
     "output_type": "error",
     "traceback": [
      "\u001b[0;31m---------------------------------------------------------------------------\u001b[0m",
      "\u001b[0;31mModuleNotFoundError\u001b[0m                       Traceback (most recent call last)",
      "\u001b[0;32m<ipython-input-3-4996ee3d8d09>\u001b[0m in \u001b[0;36m<module>\u001b[0;34m\u001b[0m\n\u001b[0;32m----> 1\u001b[0;31m \u001b[0;32mfrom\u001b[0m \u001b[0mgoogle\u001b[0m\u001b[0;34m.\u001b[0m\u001b[0mcolab\u001b[0m \u001b[0;32mimport\u001b[0m \u001b[0mdrive\u001b[0m\u001b[0;34m\u001b[0m\u001b[0;34m\u001b[0m\u001b[0m\n\u001b[0m\u001b[1;32m      2\u001b[0m \u001b[0mdrive\u001b[0m\u001b[0;34m.\u001b[0m\u001b[0mmount\u001b[0m\u001b[0;34m(\u001b[0m\u001b[0;34m'/content/gdrive'\u001b[0m\u001b[0;34m)\u001b[0m\u001b[0;34m\u001b[0m\u001b[0;34m\u001b[0m\u001b[0m\n",
      "\u001b[0;31mModuleNotFoundError\u001b[0m: No module named 'google.colab'"
     ]
    }
   ],
   "source": [
    "from google.colab import drive\n",
    "drive.mount('/content/gdrive')"
   ]
  },
  {
   "cell_type": "code",
   "execution_count": 3,
   "metadata": {
    "colab": {},
    "colab_type": "code",
    "id": "ZaSLC40IiPtX"
   },
   "outputs": [],
   "source": [
    "root_path = './'"
   ]
  },
  {
   "cell_type": "markdown",
   "metadata": {
    "colab_type": "text",
    "id": "HgQRiXV5H4PH"
   },
   "source": [
    "## Preparing the data"
   ]
  },
  {
   "cell_type": "markdown",
   "metadata": {
    "colab_type": "text",
    "id": "2cj7iFdHH4PI"
   },
   "source": [
    "Following steps are perforemd while preparing the data\n",
    "\n",
    "\n",
    "1.   Downloading the data and loading the data in pandas dataframe\n",
    "2.   Identification of missing values and replacing numerical values with median and the text values with NA\n",
    "3.   Adding the combined column by using the context, statement and justification column.\n",
    "4.   Splitting and Encoding the subject column as one-hot vectors\n",
    "5.   Pre-processing the combined columns to remove punctuations, unwanted space and newline characters.\n",
    "6.  Preparing the binary class label\n",
    "7.  Fitting the tfidf vector on the train set combined column.\n",
    "8.  Transforming the train, valid and test data combined column from the tfidf vectorizer fitted on the train set.\n",
    "9.  Combining the tfidf vectorizer features and the relevant columns of original dataframe and saving the train,test and valid set in feather format\n",
    "10. Hyper-Parameter tuning of Logistic Regression and evaluation on the test set\n",
    "11. Hyper-Parameter tuning of Random Forest and evaluation on the test set\n",
    "\n"
   ]
  },
  {
   "cell_type": "markdown",
   "metadata": {
    "colab_type": "text",
    "id": "f2jigSPcMYTZ"
   },
   "source": [
    "### Import  Data"
   ]
  },
  {
   "cell_type": "code",
   "execution_count": 5,
   "metadata": {
    "colab": {
     "base_uri": "https://localhost:8080/",
     "height": 224
    },
    "colab_type": "code",
    "id": "UgELFv8ZJPJh",
    "outputId": "11af6c1f-95f2-48ec-ac1d-266dada54e07"
   },
   "outputs": [
    {
     "name": "stdout",
     "output_type": "stream",
     "text": [
      "--2019-08-10 00:50:49--  https://raw.githubusercontent.com/Tariq60/LIAR-PLUS/master/dataset/train2.tsv\n",
      "Resolving raw.githubusercontent.com (raw.githubusercontent.com)... 151.101.192.133, 151.101.128.133, 151.101.64.133, ...\n",
      "Connecting to raw.githubusercontent.com (raw.githubusercontent.com)|151.101.192.133|:443... connected.\n",
      "HTTP request sent, awaiting response... 200 OK\n",
      "Length: 6969628 (6.6M) [text/plain]\n",
      "Saving to: ‘train2.tsv’\n",
      "\n",
      "train2.tsv          100%[===================>]   6.65M  5.26MB/s    in 1.3s    \n",
      "\n",
      "2019-08-10 00:50:51 (5.26 MB/s) - ‘train2.tsv’ saved [6969628/6969628]\n",
      "\n"
     ]
    }
   ],
   "source": [
    "!wget https://raw.githubusercontent.com/Tariq60/LIAR-PLUS/master/dataset/train2.tsv"
   ]
  },
  {
   "cell_type": "code",
   "execution_count": 6,
   "metadata": {
    "colab": {
     "base_uri": "https://localhost:8080/",
     "height": 224
    },
    "colab_type": "code",
    "id": "__d2HcG3JTDz",
    "outputId": "12e79489-84ac-4627-be7d-b5356d9af18b"
   },
   "outputs": [
    {
     "name": "stdout",
     "output_type": "stream",
     "text": [
      "--2019-08-10 00:50:51--  https://raw.githubusercontent.com/Tariq60/LIAR-PLUS/master/dataset/val2.tsv\n",
      "Resolving raw.githubusercontent.com (raw.githubusercontent.com)... 151.101.192.133, 151.101.128.133, 151.101.64.133, ...\n",
      "Connecting to raw.githubusercontent.com (raw.githubusercontent.com)|151.101.192.133|:443... connected.\n",
      "HTTP request sent, awaiting response... 200 OK\n",
      "Length: 863858 (844K) [text/plain]\n",
      "Saving to: ‘val2.tsv’\n",
      "\n",
      "val2.tsv            100%[===================>] 843.61K  1.19MB/s    in 0.7s    \n",
      "\n",
      "2019-08-10 00:50:53 (1.19 MB/s) - ‘val2.tsv’ saved [863858/863858]\n",
      "\n"
     ]
    }
   ],
   "source": [
    "!wget https://raw.githubusercontent.com/Tariq60/LIAR-PLUS/master/dataset/val2.tsv"
   ]
  },
  {
   "cell_type": "code",
   "execution_count": 7,
   "metadata": {
    "colab": {
     "base_uri": "https://localhost:8080/",
     "height": 224
    },
    "colab_type": "code",
    "id": "wZvmxqC4JVS4",
    "outputId": "7a2cef67-36f7-42d5-8854-5ec2b3de729c"
   },
   "outputs": [
    {
     "name": "stdout",
     "output_type": "stream",
     "text": [
      "--2019-08-10 00:50:53--  https://raw.githubusercontent.com/Tariq60/LIAR-PLUS/master/dataset/test2.tsv\n",
      "Resolving raw.githubusercontent.com (raw.githubusercontent.com)... 151.101.128.133, 151.101.192.133, 151.101.0.133, ...\n",
      "Connecting to raw.githubusercontent.com (raw.githubusercontent.com)|151.101.128.133|:443... connected.\n",
      "HTTP request sent, awaiting response... 200 OK\n",
      "Length: 869788 (849K) [text/plain]\n",
      "Saving to: ‘test2.tsv’\n",
      "\n",
      "test2.tsv           100%[===================>] 849.40K  1.06MB/s    in 0.8s    \n",
      "\n",
      "2019-08-10 00:50:55 (1.06 MB/s) - ‘test2.tsv’ saved [869788/869788]\n",
      "\n"
     ]
    }
   ],
   "source": [
    "!wget https://raw.githubusercontent.com/Tariq60/LIAR-PLUS/master/dataset/test2.tsv"
   ]
  },
  {
   "cell_type": "code",
   "execution_count": 0,
   "metadata": {
    "colab": {},
    "colab_type": "code",
    "id": "uMSy19sxNg22"
   },
   "outputs": [],
   "source": [
    "!wget https://raw.githubusercontent.com/Tariq60/LIAR-PLUS/master/forbidden_words.txt"
   ]
  },
  {
   "cell_type": "code",
   "execution_count": 0,
   "metadata": {
    "colab": {},
    "colab_type": "code",
    "id": "6zFkekU5Nzut"
   },
   "outputs": [],
   "source": [
    "with open(\"forbidden_words.txt\") as f: # Print forbidden words\n",
    "  print(f.read())"
   ]
  },
  {
   "cell_type": "code",
   "execution_count": 4,
   "metadata": {
    "colab": {},
    "colab_type": "code",
    "id": "FPQ7roDDJdKe"
   },
   "outputs": [],
   "source": [
    "df_train = pd.read_csv(\"train2.tsv\", sep=\"\\t\", header=None)"
   ]
  },
  {
   "cell_type": "code",
   "execution_count": 5,
   "metadata": {
    "colab": {},
    "colab_type": "code",
    "id": "ocpvFIAgJgNP"
   },
   "outputs": [],
   "source": [
    "df_valid = pd.read_csv(\"val2.tsv\", sep=\"\\t\", header=None)"
   ]
  },
  {
   "cell_type": "code",
   "execution_count": 6,
   "metadata": {
    "colab": {},
    "colab_type": "code",
    "id": "McSYbCEKJgjT"
   },
   "outputs": [],
   "source": [
    "df_test = pd.read_csv(\"test2.tsv\", sep=\"\\t\", header=None)"
   ]
  },
  {
   "cell_type": "code",
   "execution_count": 7,
   "metadata": {
    "colab": {},
    "colab_type": "code",
    "id": "_WgOf1Nb-58S"
   },
   "outputs": [
    {
     "data": {
      "text/plain": [
       "array(['Says the Annies List political group supports third-trimester abortions on demand.'],\n",
       "      dtype=object)"
      ]
     },
     "execution_count": 7,
     "metadata": {},
     "output_type": "execute_result"
    }
   ],
   "source": [
    "df_train[3].values[:1]"
   ]
  },
  {
   "cell_type": "code",
   "execution_count": 8,
   "metadata": {
    "colab": {},
    "colab_type": "code",
    "id": "uguIrPOd0J8o"
   },
   "outputs": [
    {
     "data": {
      "text/html": [
       "<div>\n",
       "<style scoped>\n",
       "    .dataframe tbody tr th:only-of-type {\n",
       "        vertical-align: middle;\n",
       "    }\n",
       "\n",
       "    .dataframe tbody tr th {\n",
       "        vertical-align: top;\n",
       "    }\n",
       "\n",
       "    .dataframe thead th {\n",
       "        text-align: right;\n",
       "    }\n",
       "</style>\n",
       "<table border=\"1\" class=\"dataframe\">\n",
       "  <thead>\n",
       "    <tr style=\"text-align: right;\">\n",
       "      <th></th>\n",
       "      <th>0</th>\n",
       "      <th>1</th>\n",
       "      <th>2</th>\n",
       "      <th>3</th>\n",
       "      <th>4</th>\n",
       "      <th>5</th>\n",
       "      <th>6</th>\n",
       "      <th>7</th>\n",
       "      <th>8</th>\n",
       "      <th>9</th>\n",
       "      <th>10</th>\n",
       "      <th>11</th>\n",
       "      <th>12</th>\n",
       "      <th>13</th>\n",
       "      <th>14</th>\n",
       "      <th>15</th>\n",
       "    </tr>\n",
       "  </thead>\n",
       "  <tbody>\n",
       "    <tr>\n",
       "      <th>0</th>\n",
       "      <td>0</td>\n",
       "      <td>2635.json</td>\n",
       "      <td>false</td>\n",
       "      <td>Says the Annies List political group supports ...</td>\n",
       "      <td>abortion</td>\n",
       "      <td>dwayne-bohac</td>\n",
       "      <td>State representative</td>\n",
       "      <td>Texas</td>\n",
       "      <td>republican</td>\n",
       "      <td>0.0</td>\n",
       "      <td>1.0</td>\n",
       "      <td>0.0</td>\n",
       "      <td>0.0</td>\n",
       "      <td>0.0</td>\n",
       "      <td>a mailer</td>\n",
       "      <td>That's a premise that he fails to back up. Ann...</td>\n",
       "    </tr>\n",
       "    <tr>\n",
       "      <th>1</th>\n",
       "      <td>1</td>\n",
       "      <td>10540.json</td>\n",
       "      <td>half-true</td>\n",
       "      <td>When did the decline of coal start? It started...</td>\n",
       "      <td>energy,history,job-accomplishments</td>\n",
       "      <td>scott-surovell</td>\n",
       "      <td>State delegate</td>\n",
       "      <td>Virginia</td>\n",
       "      <td>democrat</td>\n",
       "      <td>0.0</td>\n",
       "      <td>0.0</td>\n",
       "      <td>1.0</td>\n",
       "      <td>1.0</td>\n",
       "      <td>0.0</td>\n",
       "      <td>a floor speech.</td>\n",
       "      <td>Surovell said the decline of coal \"started whe...</td>\n",
       "    </tr>\n",
       "    <tr>\n",
       "      <th>2</th>\n",
       "      <td>2</td>\n",
       "      <td>324.json</td>\n",
       "      <td>mostly-true</td>\n",
       "      <td>Hillary Clinton agrees with John McCain \"by vo...</td>\n",
       "      <td>foreign-policy</td>\n",
       "      <td>barack-obama</td>\n",
       "      <td>President</td>\n",
       "      <td>Illinois</td>\n",
       "      <td>democrat</td>\n",
       "      <td>70.0</td>\n",
       "      <td>71.0</td>\n",
       "      <td>160.0</td>\n",
       "      <td>163.0</td>\n",
       "      <td>9.0</td>\n",
       "      <td>Denver</td>\n",
       "      <td>Obama said he would have voted against the ame...</td>\n",
       "    </tr>\n",
       "    <tr>\n",
       "      <th>3</th>\n",
       "      <td>3</td>\n",
       "      <td>1123.json</td>\n",
       "      <td>false</td>\n",
       "      <td>Health care reform legislation is likely to ma...</td>\n",
       "      <td>health-care</td>\n",
       "      <td>blog-posting</td>\n",
       "      <td>NaN</td>\n",
       "      <td>NaN</td>\n",
       "      <td>none</td>\n",
       "      <td>7.0</td>\n",
       "      <td>19.0</td>\n",
       "      <td>3.0</td>\n",
       "      <td>5.0</td>\n",
       "      <td>44.0</td>\n",
       "      <td>a news release</td>\n",
       "      <td>The release may have a point that Mikulskis co...</td>\n",
       "    </tr>\n",
       "    <tr>\n",
       "      <th>4</th>\n",
       "      <td>4</td>\n",
       "      <td>9028.json</td>\n",
       "      <td>half-true</td>\n",
       "      <td>The economic turnaround started at the end of ...</td>\n",
       "      <td>economy,jobs</td>\n",
       "      <td>charlie-crist</td>\n",
       "      <td>NaN</td>\n",
       "      <td>Florida</td>\n",
       "      <td>democrat</td>\n",
       "      <td>15.0</td>\n",
       "      <td>9.0</td>\n",
       "      <td>20.0</td>\n",
       "      <td>19.0</td>\n",
       "      <td>2.0</td>\n",
       "      <td>an interview on CNN</td>\n",
       "      <td>Crist said that the economic \"turnaround start...</td>\n",
       "    </tr>\n",
       "  </tbody>\n",
       "</table>\n",
       "</div>"
      ],
      "text/plain": [
       "   0           1            2   \\\n",
       "0   0   2635.json        false   \n",
       "1   1  10540.json    half-true   \n",
       "2   2    324.json  mostly-true   \n",
       "3   3   1123.json        false   \n",
       "4   4   9028.json    half-true   \n",
       "\n",
       "                                                  3   \\\n",
       "0  Says the Annies List political group supports ...   \n",
       "1  When did the decline of coal start? It started...   \n",
       "2  Hillary Clinton agrees with John McCain \"by vo...   \n",
       "3  Health care reform legislation is likely to ma...   \n",
       "4  The economic turnaround started at the end of ...   \n",
       "\n",
       "                                   4               5                     6   \\\n",
       "0                            abortion    dwayne-bohac  State representative   \n",
       "1  energy,history,job-accomplishments  scott-surovell        State delegate   \n",
       "2                      foreign-policy    barack-obama             President   \n",
       "3                         health-care    blog-posting                   NaN   \n",
       "4                        economy,jobs   charlie-crist                   NaN   \n",
       "\n",
       "         7           8     9     10     11     12    13                   14  \\\n",
       "0     Texas  republican   0.0   1.0    0.0    0.0   0.0             a mailer   \n",
       "1  Virginia    democrat   0.0   0.0    1.0    1.0   0.0      a floor speech.   \n",
       "2  Illinois    democrat  70.0  71.0  160.0  163.0   9.0               Denver   \n",
       "3       NaN        none   7.0  19.0    3.0    5.0  44.0       a news release   \n",
       "4   Florida    democrat  15.0   9.0   20.0   19.0   2.0  an interview on CNN   \n",
       "\n",
       "                                                  15  \n",
       "0  That's a premise that he fails to back up. Ann...  \n",
       "1  Surovell said the decline of coal \"started whe...  \n",
       "2  Obama said he would have voted against the ame...  \n",
       "3  The release may have a point that Mikulskis co...  \n",
       "4  Crist said that the economic \"turnaround start...  "
      ]
     },
     "execution_count": 8,
     "metadata": {},
     "output_type": "execute_result"
    }
   ],
   "source": [
    "df_train.head()"
   ]
  },
  {
   "cell_type": "markdown",
   "metadata": {
    "colab_type": "text",
    "id": "qRIZSXz2Miem"
   },
   "source": [
    "### Fill Missing Values"
   ]
  },
  {
   "cell_type": "code",
   "execution_count": 9,
   "metadata": {
    "colab": {},
    "colab_type": "code",
    "id": "WOFW9W8yZq1n"
   },
   "outputs": [],
   "source": [
    "df_cols = ['label', 'statement', 'subject', 'speaker', 'speaker_job', 'state', 'party_affiliation', \n",
    "           'barely_true', 'false', 'half_true', 'mostly_true', 'pants_on_fire', 'context', 'justification']\n",
    "# col 8 - 12 are historical counts for person"
   ]
  },
  {
   "cell_type": "code",
   "execution_count": 10,
   "metadata": {
    "colab": {},
    "colab_type": "code",
    "id": "gi4iyB0WJlqK"
   },
   "outputs": [],
   "source": [
    "df_train = df_train.drop(columns=[0, 1]) ; df_train.columns = df_cols"
   ]
  },
  {
   "cell_type": "code",
   "execution_count": 11,
   "metadata": {
    "colab": {},
    "colab_type": "code",
    "id": "eoxzQsQTMm0h"
   },
   "outputs": [],
   "source": [
    "df_valid = df_valid.drop(columns=[0, 1]) ; df_valid.columns = df_cols"
   ]
  },
  {
   "cell_type": "code",
   "execution_count": 12,
   "metadata": {
    "colab": {},
    "colab_type": "code",
    "id": "kU_1LyUaMq1T"
   },
   "outputs": [],
   "source": [
    "df_test = df_test.drop(columns=[0, 1]) ; df_test.columns = df_cols"
   ]
  },
  {
   "cell_type": "code",
   "execution_count": 13,
   "metadata": {
    "colab": {},
    "colab_type": "code",
    "id": "nm0ktnGiK1s7"
   },
   "outputs": [],
   "source": [
    "df_train['subject'].fillna(\"NA\", inplace = True)\n",
    "df_valid['subject'].fillna(\"NA\", inplace = True)\n",
    "df_test['subject'].fillna(\"NA\", inplace = True)\n",
    "\n",
    "df_train['speaker'].fillna(\"NA\", inplace = True)\n",
    "df_valid['speaker'].fillna(\"NA\", inplace = True)\n",
    "df_test['speaker'].fillna(\"NA\", inplace = True)\n",
    "\n",
    "df_train['speaker_job'].fillna(\"NA\", inplace = True)\n",
    "df_valid['speaker_job'].fillna(\"NA\", inplace = True)\n",
    "df_test['speaker_job'].fillna(\"NA\", inplace = True)\n",
    "\n",
    "df_train['party_affiliation'].fillna(\"NA\", inplace = True)\n",
    "df_valid['party_affiliation'].fillna(\"NA\", inplace = True)\n",
    "df_test['party_affiliation'].fillna(\"NA\", inplace = True)\n",
    "\n",
    "df_train['context'].fillna(\"NA\", inplace = True)\n",
    "df_valid['context'].fillna(\"NA\", inplace = True)\n",
    "df_test['context'].fillna(\"NA\", inplace = True)\n",
    "\n",
    "df_train['state'].fillna(\"NA\", inplace = True)\n",
    "df_valid['state'].fillna(\"NA\", inplace = True)\n",
    "df_test['state'].fillna(\"NA\", inplace = True)\n",
    "\n",
    "\n",
    "df_train['justification'].fillna(\"NA\", inplace = True)\n",
    "df_valid['justification'].fillna(\"NA\", inplace = True)\n",
    "df_test['justification'].fillna(\"NA\", inplace = True)\n",
    "\n",
    "df_train['barely_true'].fillna(df_train['barely_true'].median(), inplace = True)\n",
    "df_valid['barely_true'].fillna(df_train['barely_true'].median(), inplace = True)\n",
    "df_test['barely_true'].fillna(df_train['barely_true'].median(), inplace = True)\n",
    "\n",
    "\n",
    "df_train['barely_true'].fillna(df_train['barely_true'].median(), inplace = True)\n",
    "df_valid['barely_true'].fillna(df_train['barely_true'].median(), inplace = True)\n",
    "df_test['barely_true'].fillna(df_train['barely_true'].median(), inplace = True)\n",
    "\n",
    "\n",
    "df_train['false'].fillna(df_train['false'].median(), inplace = True)\n",
    "df_valid['false'].fillna(df_train['false'].median(), inplace = True)\n",
    "df_test['false'].fillna(df_train['false'].median(), inplace = True)\n",
    "\n",
    "df_train['half_true'].fillna(df_train['half_true'].median(), inplace = True)\n",
    "df_valid['half_true'].fillna(df_train['half_true'].median(), inplace = True)\n",
    "df_test['half_true'].fillna(df_train['half_true'].median(), inplace = True)\n",
    "\n",
    "df_train['mostly_true'].fillna(df_train['mostly_true'].median(), inplace = True)\n",
    "df_valid['mostly_true'].fillna(df_train['mostly_true'].median(), inplace = True)\n",
    "df_test['mostly_true'].fillna(df_train['mostly_true'].median(), inplace = True)\n",
    "\n",
    "df_train['pants_on_fire'].fillna(df_train['pants_on_fire'].median(), inplace = True)\n",
    "df_valid['pants_on_fire'].fillna(df_train['pants_on_fire'].median(), inplace = True)\n",
    "df_test['pants_on_fire'].fillna(df_train['pants_on_fire'].median(), inplace = True)\n",
    "\n",
    "\n",
    "\n"
   ]
  },
  {
   "cell_type": "code",
   "execution_count": 0,
   "metadata": {
    "colab": {},
    "colab_type": "code",
    "id": "gVzpmHnhJlPQ"
   },
   "outputs": [],
   "source": [
    "df_train[:3]"
   ]
  },
  {
   "cell_type": "code",
   "execution_count": 0,
   "metadata": {
    "colab": {},
    "colab_type": "code",
    "id": "atD491z6UfAb"
   },
   "outputs": [],
   "source": [
    "len(df_train) - df_train.count()"
   ]
  },
  {
   "cell_type": "code",
   "execution_count": 0,
   "metadata": {
    "colab": {},
    "colab_type": "code",
    "id": "FLC1lyPTUuX3"
   },
   "outputs": [],
   "source": [
    "len(df_valid) - df_valid.count()"
   ]
  },
  {
   "cell_type": "code",
   "execution_count": 0,
   "metadata": {
    "colab": {},
    "colab_type": "code",
    "id": "N99OJyC_Uy9H"
   },
   "outputs": [],
   "source": [
    "len(df_test) - df_test.count()"
   ]
  },
  {
   "cell_type": "markdown",
   "metadata": {
    "colab_type": "text",
    "id": "8-GkckuIQy4m"
   },
   "source": [
    "# Creating the combined column"
   ]
  },
  {
   "cell_type": "code",
   "execution_count": 14,
   "metadata": {
    "colab": {},
    "colab_type": "code",
    "id": "kNfSFttu-UPk"
   },
   "outputs": [],
   "source": [
    "df_train['combined'] = df_train['context'] + ' '+ df_train['statement'] + ' ' + df_train['justification']\n",
    "df_valid['combined'] = df_valid['context'] + ' '+ df_valid['statement'] + ' ' + df_valid['justification']\n",
    "df_test['combined'] = df_test['context'] + ' '+ df_test['statement'] + ' ' + df_test['justification']"
   ]
  },
  {
   "cell_type": "markdown",
   "metadata": {
    "colab_type": "text",
    "id": "XF22sUzNQ4XC"
   },
   "source": [
    "# Splitting the subject column and one-hot encoding"
   ]
  },
  {
   "cell_type": "code",
   "execution_count": 15,
   "metadata": {
    "colab": {},
    "colab_type": "code",
    "id": "ygcYXYKzRFlD"
   },
   "outputs": [],
   "source": [
    "l = list(df_train.subject.str.split(','))"
   ]
  },
  {
   "cell_type": "code",
   "execution_count": 16,
   "metadata": {
    "colab": {
     "base_uri": "https://localhost:8080/",
     "height": 34
    },
    "colab_type": "code",
    "id": "GPCFrP3jgo6p",
    "outputId": "2cf1e8c0-10fd-4bd0-fddc-4c5de9c0fdf6"
   },
   "outputs": [
    {
     "data": {
      "text/plain": [
       "143"
      ]
     },
     "execution_count": 16,
     "metadata": {},
     "output_type": "execute_result"
    }
   ],
   "source": [
    "s = set()\n",
    "for i in l:\n",
    "    for j in i:\n",
    "        if j not in s:\n",
    "            s.add(j)\n",
    "len(list(s))"
   ]
  },
  {
   "cell_type": "code",
   "execution_count": 17,
   "metadata": {
    "colab": {},
    "colab_type": "code",
    "id": "JC7P6pYy3ode"
   },
   "outputs": [],
   "source": [
    "for sub in (list(s)):\n",
    "    df_train[f'sub_{sub}'] = [1 if sub in x.split(',') else 0 for x in df_train['subject']]\n",
    "    df_valid[f'sub_{sub}'] = [1 if sub in x.split(',') else 0 for x in df_valid['subject']]\n",
    "    df_test[f'sub_{sub}'] = [1 if sub in x.split(',') else 0 for x in df_test['subject']]"
   ]
  },
  {
   "cell_type": "code",
   "execution_count": 17,
   "metadata": {
    "colab": {},
    "colab_type": "code",
    "id": "dOl69G2NNGDH"
   },
   "outputs": [
    {
     "data": {
      "text/html": [
       "<div>\n",
       "<style scoped>\n",
       "    .dataframe tbody tr th:only-of-type {\n",
       "        vertical-align: middle;\n",
       "    }\n",
       "\n",
       "    .dataframe tbody tr th {\n",
       "        vertical-align: top;\n",
       "    }\n",
       "\n",
       "    .dataframe thead th {\n",
       "        text-align: right;\n",
       "    }\n",
       "</style>\n",
       "<table border=\"1\" class=\"dataframe\">\n",
       "  <thead>\n",
       "    <tr style=\"text-align: right;\">\n",
       "      <th></th>\n",
       "      <th>label</th>\n",
       "      <th>statement</th>\n",
       "      <th>subject</th>\n",
       "      <th>speaker</th>\n",
       "      <th>speaker_job</th>\n",
       "      <th>state</th>\n",
       "      <th>party_affiliation</th>\n",
       "      <th>barely_true</th>\n",
       "      <th>false</th>\n",
       "      <th>half_true</th>\n",
       "      <th>...</th>\n",
       "      <th>sub_public-health</th>\n",
       "      <th>sub_redistricting</th>\n",
       "      <th>sub_bankruptcy</th>\n",
       "      <th>sub_energy</th>\n",
       "      <th>sub_county-budget</th>\n",
       "      <th>sub_foreign-policy</th>\n",
       "      <th>sub_trade</th>\n",
       "      <th>sub_transportation</th>\n",
       "      <th>sub_women</th>\n",
       "      <th>sub_privacy</th>\n",
       "    </tr>\n",
       "  </thead>\n",
       "  <tbody>\n",
       "    <tr>\n",
       "      <th>0</th>\n",
       "      <td>true</td>\n",
       "      <td>Building a wall on the U.S.-Mexico border will...</td>\n",
       "      <td>immigration</td>\n",
       "      <td>rick-perry</td>\n",
       "      <td>Governor</td>\n",
       "      <td>Texas</td>\n",
       "      <td>republican</td>\n",
       "      <td>30</td>\n",
       "      <td>30</td>\n",
       "      <td>42</td>\n",
       "      <td>...</td>\n",
       "      <td>0</td>\n",
       "      <td>0</td>\n",
       "      <td>0</td>\n",
       "      <td>0</td>\n",
       "      <td>0</td>\n",
       "      <td>0</td>\n",
       "      <td>0</td>\n",
       "      <td>0</td>\n",
       "      <td>0</td>\n",
       "      <td>0</td>\n",
       "    </tr>\n",
       "  </tbody>\n",
       "</table>\n",
       "<p>1 rows × 158 columns</p>\n",
       "</div>"
      ],
      "text/plain": [
       "  label                                          statement      subject  \\\n",
       "0  true  Building a wall on the U.S.-Mexico border will...  immigration   \n",
       "\n",
       "      speaker speaker_job  state party_affiliation  barely_true  false  \\\n",
       "0  rick-perry    Governor  Texas        republican           30     30   \n",
       "\n",
       "   half_true     ...       sub_public-health  sub_redistricting  \\\n",
       "0         42     ...                       0                  0   \n",
       "\n",
       "  sub_bankruptcy sub_energy sub_county-budget  sub_foreign-policy  sub_trade  \\\n",
       "0              0          0                 0                   0          0   \n",
       "\n",
       "   sub_transportation  sub_women  sub_privacy  \n",
       "0                   0          0            0  \n",
       "\n",
       "[1 rows x 158 columns]"
      ]
     },
     "execution_count": 17,
     "metadata": {},
     "output_type": "execute_result"
    }
   ],
   "source": [
    "df_test[:1]"
   ]
  },
  {
   "cell_type": "markdown",
   "metadata": {
    "colab_type": "text",
    "id": "9p5yfNniRzJI"
   },
   "source": [
    "# Preparing the binary label"
   ]
  },
  {
   "cell_type": "code",
   "execution_count": 18,
   "metadata": {
    "colab": {},
    "colab_type": "code",
    "id": "cR8oeKTE_zHX"
   },
   "outputs": [],
   "source": [
    "df_train['label_binaray'] = [True if x in ['true','mostly-true','half-true'] else False for x in df_train['label']] \n",
    "df_valid['label_binaray'] = [True if x in ['true','mostly-true','half-true'] else False for x in df_valid['label']] \n",
    "df_test['label_binaray'] = [True if x in ['true','mostly-true','half-true'] else False for x in df_test['label']] "
   ]
  },
  {
   "cell_type": "code",
   "execution_count": 19,
   "metadata": {
    "colab": {
     "base_uri": "https://localhost:8080/",
     "height": 85
    },
    "colab_type": "code",
    "id": "goCKYuh0go8S",
    "outputId": "93265f95-e5d1-480d-e435-81341204070f"
   },
   "outputs": [
    {
     "data": {
      "text/plain": [
       "label_binaray\n",
       "False    4488\n",
       "True     5752\n",
       "Name: label, dtype: int64"
      ]
     },
     "execution_count": 19,
     "metadata": {},
     "output_type": "execute_result"
    }
   ],
   "source": [
    "df_train.groupby(['label_binaray'])['label'].count()"
   ]
  },
  {
   "cell_type": "markdown",
   "metadata": {
    "colab_type": "text",
    "id": "Gp423w2wTtux"
   },
   "source": [
    "#### Preprocessing and fitting the tfidf vectorizer"
   ]
  },
  {
   "cell_type": "code",
   "execution_count": 20,
   "metadata": {
    "colab": {},
    "colab_type": "code",
    "id": "KbWuhRMbmGTs"
   },
   "outputs": [],
   "source": [
    "def preprocess_text(df,colname):\n",
    "    # This function preprocesses the text by filling not a number and replacing new lines ('\\n') and carriage returns ('\\r')\n",
    "    df[colname] = df[colname].fillna(' ')\n",
    "    df[colname] = df[colname].str.replace('\\n',' ')\n",
    "    df[colname] = df[colname].str.replace('\\r',' ')\n",
    "    return df"
   ]
  },
  {
   "cell_type": "code",
   "execution_count": 21,
   "metadata": {
    "colab": {},
    "colab_type": "code",
    "id": "ND4BVq8JmTY4"
   },
   "outputs": [],
   "source": [
    "# preprocess the text to deal with known issues\n",
    "df_train = preprocess_text(df_train,'combined')\n",
    "df_valid = preprocess_text(df_valid,'combined')\n",
    "df_test = preprocess_text(df_test,'combined')"
   ]
  },
  {
   "cell_type": "code",
   "execution_count": 22,
   "metadata": {
    "colab": {},
    "colab_type": "code",
    "id": "vcJ1VcA_mUQA"
   },
   "outputs": [],
   "source": [
    "def tokenizer_better(text):\n",
    "    # tokenize the text by replacing punctuation and numbers with spaces and lowercase all words    \n",
    "    punc_list = string.punctuation+'0123456789'\n",
    "    t = str.maketrans(dict.fromkeys(punc_list, \" \"))\n",
    "    text = text.translate(t)   # removing punctuations\n",
    "    doc = nlp(text) \n",
    "    text = ' '.join([str(token.lemma_) for token in doc]) # lemmatization using spaCy\n",
    "    tokens = word_tokenize(text) # tokenization using nltk\n",
    "    return tokens"
   ]
  },
  {
   "cell_type": "code",
   "execution_count": 23,
   "metadata": {
    "colab": {
     "base_uri": "https://localhost:8080/",
     "height": 34
    },
    "colab_type": "code",
    "id": "NaQp6ymCgo7S",
    "outputId": "de48c5a6-4876-47f7-ccd3-73a7962cee3e"
   },
   "outputs": [
    {
     "data": {
      "text/plain": [
       "['this', 'should', 'be', 'tokenize', 'sentence', 'have', 'star']"
      ]
     },
     "execution_count": 23,
     "metadata": {},
     "output_type": "execute_result"
    }
   ],
   "source": [
    "tokenizer_better('This should be tokenized. 02/02/2018 sentence has stars**')"
   ]
  },
  {
   "cell_type": "code",
   "execution_count": 24,
   "metadata": {
    "colab": {},
    "colab_type": "code",
    "id": "bWs_goH1kwBy"
   },
   "outputs": [],
   "source": [
    "tfidfVectorizer = f'{root_path}tfidfVectorizer_'\n",
    "tfidfVectorizer_pos = f'{root_path}tfidfVectorizer_pos_'\n",
    "tfidfVectorizer_neg = f'{root_path}tfidfVectorizer_neg_'\n",
    "\n",
    "import joblib\n",
    "# joblib.dump(vect, f'{tfidfVectorizer}3000.pkl')"
   ]
  },
  {
   "cell_type": "markdown",
   "metadata": {
    "colab_type": "text",
    "id": "_SW5ZPIlRTAA"
   },
   "source": [
    "# Creating parallel threads for faster learning"
   ]
  },
  {
   "cell_type": "code",
   "execution_count": 25,
   "metadata": {
    "colab": {},
    "colab_type": "code",
    "id": "KlY1yFC1o2pc"
   },
   "outputs": [],
   "source": [
    "from multiprocessing import Process\n",
    "from scipy import sparse"
   ]
  },
  {
   "cell_type": "code",
   "execution_count": 26,
   "metadata": {
    "colab": {},
    "colab_type": "code",
    "id": "2EbBBq4jhQhO"
   },
   "outputs": [],
   "source": [
    "from sklearn.feature_extraction.text import TfidfVectorizer\n"
   ]
  },
  {
   "cell_type": "code",
   "execution_count": 29,
   "metadata": {},
   "outputs": [],
   "source": [
    "vect = TfidfVectorizer(lowercase = True, max_features = 6000,ngram_range=(1, 3), \n",
    "                           tokenizer = tokenizer_better,stop_words = 'english')\n",
    "stop = list(vect.get_stop_words())+['-PRON-','make','pron']"
   ]
  },
  {
   "cell_type": "code",
   "execution_count": 30,
   "metadata": {},
   "outputs": [],
   "source": [
    "import os\n",
    "from sklearn.feature_extraction.text import TfidfVectorizer\n",
    "vect = None\n",
    "if (os.path.exists(f'{tfidfVectorizer}3000.pkl')):\n",
    "  vect = joblib.load(f'{tfidfVectorizer}3000.pkl')\n",
    "else:\n",
    "  vect = TfidfVectorizer(lowercase = True, max_features = 6000,ngram_range=(1, 3), \n",
    "                           tokenizer = tokenizer_better,stop_words = stop)\n",
    "  print('Fitting vectorizer')\n",
    "  vect.fit(df_train['combined'].values)\n",
    "  joblib.dump(vect, f'{tfidfVectorizer}3000.pkl')\n",
    "    "
   ]
  },
  {
   "cell_type": "code",
   "execution_count": 31,
   "metadata": {
    "colab": {},
    "colab_type": "code",
    "id": "H0Mctxubgo9Y"
   },
   "outputs": [],
   "source": [
    "def train_pos():\n",
    "    from scipy import sparse\n",
    "    X_train_tf = vect.transform(df_train['combined'].values)\n",
    "    sparse.save_npz(f'{tfidfVectorizer}3000_train.npz', X_train_tf)\n",
    "        \n",
    "    y_train_binary = df_train['label_binaray']\n",
    "    y_train =  df_train['label']\n",
    "    np.save('y_train.npy', y_train)\n",
    "    np.save('y_train_binary.npy', y_train_binary)\n"
   ]
  },
  {
   "cell_type": "code",
   "execution_count": 32,
   "metadata": {
    "colab": {},
    "colab_type": "code",
    "id": "b5Z_Eb9Rgo99"
   },
   "outputs": [],
   "source": [
    "def valid_pos():\n",
    "    from scipy import sparse\n",
    "    X_valid_tf = vect.transform(df_valid['combined'].values)\n",
    "    sparse.save_npz(f'{tfidfVectorizer}3000_valid.npz', X_valid_tf)\n",
    "    \n",
    "    y_valid_binary = df_valid['label_binaray']\n",
    "    y_valid =  df_valid['label']\n",
    "    np.save('y_valid.npy', y_valid)\n",
    "    np.save('y_valid_binary.npy', y_valid_binary)\n"
   ]
  },
  {
   "cell_type": "code",
   "execution_count": 33,
   "metadata": {
    "colab": {},
    "colab_type": "code",
    "id": "KPev5ikSgo-U"
   },
   "outputs": [],
   "source": [
    "def test_pos():\n",
    "    from scipy import sparse\n",
    "    X_test_tf = vect.transform(df_test['combined'].values)\n",
    "    sparse.save_npz(f'{tfidfVectorizer}3000_test.npz', X_test_tf)\n",
    "    \n",
    "    y_test_binary = df_test['label_binaray']\n",
    "    y_test =  df_test['label']\n",
    "    np.save('y_test.npy', y_test)\n",
    "    np.save('y_test_binary.npy', y_test_binary)\n"
   ]
  },
  {
   "cell_type": "code",
   "execution_count": 42,
   "metadata": {
    "colab": {
     "base_uri": "https://localhost:8080/",
     "height": 68
    },
    "colab_type": "code",
    "id": "fQge7QVJgo-f",
    "outputId": "86b83c7b-f310-42bb-9aaa-fb9c26128305"
   },
   "outputs": [
    {
     "name": "stdout",
     "output_type": "stream",
     "text": [
      "here\n",
      "here\n",
      "here\n"
     ]
    }
   ],
   "source": [
    "p1 = Process(target=train_pos)\n",
    "p1.start()\n",
    "p3 = Process(target=valid_pos)\n",
    "p3.start()\n",
    "p5 = Process(target=test_pos)\n",
    "p5.start()\n",
    "print(\"here\")\n",
    "p1.join()\n",
    "p3.join()\n",
    "print(\"here\")\n",
    "p5.join()\n",
    "print(\"here\")"
   ]
  },
  {
   "cell_type": "code",
   "execution_count": 34,
   "metadata": {
    "colab": {},
    "colab_type": "code",
    "id": "aceI2Yu33HHq"
   },
   "outputs": [],
   "source": [
    "X_train_tf_pos = None\n",
    "\n",
    "X_valid_tf_pos = None\n",
    "\n",
    "X_test_tf_pos = None\n",
    "\n",
    "y_train = None\n",
    "y_valid = None\n",
    "y_train_binary = None\n",
    "y_valid_binary = None\n",
    "y_test = None\n",
    "y_test_binary = None\n",
    "\n",
    "\n",
    "from scipy import sparse\n",
    "\n",
    "if(os.path.exists(f'{tfidfVectorizer}3000_train.npz')):   \n",
    "    X_train_tf_pos = sparse.load_npz(f'{tfidfVectorizer}3000_train.npz')\n",
    "\n",
    "    y_train = np.load(f'{root_path}y_train.npy',allow_pickle=True)\n",
    "    y_train_binary = np.load(f'{root_path}y_train_binary.npy',allow_pickle=True)\n",
    "    \n",
    "        \n",
    "    \n",
    "if (os.path.exists(f'{tfidfVectorizer}3000_valid.npz')):  \n",
    "    X_valid_tf_pos = sparse.load_npz(f'{tfidfVectorizer}3000_valid.npz')\n",
    "    \n",
    "    y_valid = np.load(f'{root_path}y_valid.npy',allow_pickle=True)    \n",
    "    y_valid_binary = np.load(f'{root_path}y_valid_binary.npy',allow_pickle=True)\n",
    "    \n",
    "if (os.path.exists(f'{tfidfVectorizer}3000_test.npz')):  \n",
    "    X_test_tf_pos = sparse.load_npz(f'{tfidfVectorizer}3000_test.npz')\n",
    "    \n",
    "    y_test = np.load(f'{root_path}y_test.npy',allow_pickle=True)    \n",
    "    y_test_binary = np.load(f'{root_path}y_test_binary.npy',allow_pickle=True)\n",
    "    \n",
    "    \n"
   ]
  },
  {
   "cell_type": "markdown",
   "metadata": {
    "colab_type": "text",
    "id": "pOgUfX0dR-2g"
   },
   "source": [
    "# Combining the relevant columns"
   ]
  },
  {
   "cell_type": "code",
   "execution_count": 35,
   "metadata": {
    "colab": {},
    "colab_type": "code",
    "id": "BQsFYsZm36cL"
   },
   "outputs": [],
   "source": [
    "df_train_temp_pos = pd.DataFrame(X_train_tf_pos.toarray(),columns=vect.get_feature_names())\n",
    "\n",
    "df_valid_temp_pos = pd.DataFrame(X_valid_tf_pos.toarray(),columns=vect.get_feature_names())\n",
    "\n",
    "df_test_temp_pos = pd.DataFrame(X_test_tf_pos.toarray(),columns=vect.get_feature_names())\n"
   ]
  },
  {
   "cell_type": "code",
   "execution_count": 36,
   "metadata": {
    "colab": {},
    "colab_type": "code",
    "id": "Y49DK-WKRlwg"
   },
   "outputs": [],
   "source": [
    "final_cols = []\n",
    "for i in df_train.columns:\n",
    "    if i not in ['label','statement','subject','context','justification','combined','label_binaray']:\n",
    "        final_cols.append(i)"
   ]
  },
  {
   "cell_type": "code",
   "execution_count": 37,
   "metadata": {
    "colab": {
     "base_uri": "https://localhost:8080/",
     "height": 1000
    },
    "colab_type": "code",
    "id": "ut1g3X8cSthx",
    "outputId": "66ce19b2-fb51-4aa2-c412-9f1399a0155d"
   },
   "outputs": [
    {
     "data": {
      "text/plain": [
       "['speaker',\n",
       " 'speaker_job',\n",
       " 'state',\n",
       " 'party_affiliation',\n",
       " 'barely_true',\n",
       " 'false',\n",
       " 'half_true',\n",
       " 'mostly_true',\n",
       " 'pants_on_fire',\n",
       " 'sub_deficit',\n",
       " 'sub_islam',\n",
       " 'sub_social-security',\n",
       " 'sub_autism',\n",
       " 'sub_criminal-justice',\n",
       " 'sub_crime',\n",
       " 'sub_housing',\n",
       " 'sub_gambling',\n",
       " 'sub_oil-spill',\n",
       " 'sub_debates',\n",
       " 'sub_animals',\n",
       " 'sub_florida',\n",
       " 'sub_job-accomplishments',\n",
       " 'sub_baseball',\n",
       " 'sub_candidates-biography',\n",
       " 'sub_government-efficiency',\n",
       " 'sub_wealth',\n",
       " 'sub_fake-news',\n",
       " 'sub_lottery',\n",
       " 'sub_civil-rights',\n",
       " 'sub_city-budget',\n",
       " 'sub_diversity',\n",
       " 'sub_public-health',\n",
       " 'sub_public-service',\n",
       " 'sub_pop-culture',\n",
       " 'sub_county-budget',\n",
       " 'sub_public-safety',\n",
       " 'sub_infrastructure',\n",
       " 'sub_congressional-rules',\n",
       " 'sub_federal-budget',\n",
       " 'sub_obama-birth-certificate',\n",
       " 'sub_agriculture',\n",
       " 'sub_space',\n",
       " 'sub_ebola',\n",
       " 'sub_market-regulation',\n",
       " 'sub_campaign-advertising',\n",
       " 'sub_campaign-finance',\n",
       " 'sub_pensions',\n",
       " 'sub_supreme-court',\n",
       " 'sub_sports',\n",
       " 'sub_census',\n",
       " 'sub_ethics',\n",
       " 'sub_drugs',\n",
       " 'sub_sotomayor-nomination',\n",
       " 'sub_workers',\n",
       " 'sub_history',\n",
       " 'sub_military',\n",
       " 'sub_population',\n",
       " 'sub_kagan-nomination',\n",
       " 'sub_natural-disasters',\n",
       " 'sub_cap-and-trade',\n",
       " 'sub_10-news-tampa-bay',\n",
       " 'sub_death-penalty',\n",
       " 'sub_jobs',\n",
       " 'sub_patriotism',\n",
       " 'sub_technology',\n",
       " 'sub_families',\n",
       " 'sub_polls',\n",
       " 'sub_terrorism',\n",
       " 'sub_privacy',\n",
       " 'sub_colbert-report',\n",
       " 'sub_redistricting',\n",
       " 'sub_fires',\n",
       " 'sub_water',\n",
       " 'sub_stimulus',\n",
       " 'sub_florida-amendments',\n",
       " 'sub_after-the-fact',\n",
       " 'sub_immigration',\n",
       " 'sub_small-business',\n",
       " 'sub_science',\n",
       " 'sub_sexuality',\n",
       " 'sub_corporations',\n",
       " 'sub_retirement',\n",
       " 'sub_state-budget',\n",
       " 'sub_tourism',\n",
       " 'sub_bush-administration',\n",
       " 'sub_guns',\n",
       " 'sub_poverty',\n",
       " 'sub_occupy-wall-street',\n",
       " 'sub_human-rights',\n",
       " 'sub_bankruptcy',\n",
       " 'sub_homeland-security',\n",
       " 'sub_nuclear',\n",
       " 'sub_food',\n",
       " 'sub_economy',\n",
       " 'sub_climate-change',\n",
       " 'sub_environment',\n",
       " 'sub_Alcohol',\n",
       " 'sub_income',\n",
       " 'sub_states',\n",
       " 'sub_energy',\n",
       " 'sub_message-machine-2014',\n",
       " 'sub_taxes',\n",
       " 'sub_urban',\n",
       " 'sub_religion',\n",
       " 'sub_NA',\n",
       " 'sub_medicare',\n",
       " 'sub_foreign-policy',\n",
       " 'sub_abortion',\n",
       " 'sub_marijuana',\n",
       " 'sub_women',\n",
       " 'sub_financial-regulation',\n",
       " 'sub_unions',\n",
       " 'sub_recreation',\n",
       " 'sub_debt',\n",
       " 'sub_transportation',\n",
       " 'sub_message-machine-2012',\n",
       " 'sub_marriage',\n",
       " 'sub_children',\n",
       " 'sub_health-care',\n",
       " 'sub_welfare',\n",
       " 'sub_china',\n",
       " 'sub_education',\n",
       " 'sub_bipartisanship',\n",
       " 'sub_corrections-and-updates',\n",
       " 'sub_israel',\n",
       " 'sub_hunger',\n",
       " 'sub_government-regulation',\n",
       " 'sub_weather',\n",
       " 'sub_disability',\n",
       " 'sub_medicaid',\n",
       " 'sub_veterans',\n",
       " 'sub_gays-and-lesbians',\n",
       " 'sub_pundits',\n",
       " 'sub_city-government',\n",
       " 'sub_elections',\n",
       " 'sub_food-safety',\n",
       " 'sub_homeless',\n",
       " 'sub_county-government',\n",
       " 'sub_labor',\n",
       " 'sub_transparency',\n",
       " 'sub_iraq',\n",
       " 'sub_trade',\n",
       " 'sub_consumer-safety',\n",
       " 'sub_afghanistan',\n",
       " 'sub_congress',\n",
       " 'sub_abc-news-week',\n",
       " 'sub_state-finances',\n",
       " 'sub_legal-issues',\n",
       " 'sub_new-hampshire-2012',\n",
       " 'sub_gas-prices',\n",
       " 'sub_message-machine',\n",
       " 'sub_voting-record']"
      ]
     },
     "execution_count": 37,
     "metadata": {},
     "output_type": "execute_result"
    }
   ],
   "source": [
    "final_cols"
   ]
  },
  {
   "cell_type": "code",
   "execution_count": 38,
   "metadata": {
    "colab": {},
    "colab_type": "code",
    "id": "6i9r4Tx-TzTK"
   },
   "outputs": [],
   "source": [
    "df_train_temp = df_train[final_cols].copy()\n",
    "df_valid_temp = df_valid[final_cols].copy()\n",
    "df_test_temp = df_test[final_cols].copy()"
   ]
  },
  {
   "cell_type": "code",
   "execution_count": 39,
   "metadata": {
    "colab": {},
    "colab_type": "code",
    "id": "jrRUgwldgo-k"
   },
   "outputs": [],
   "source": [
    "df_train_final = pd.concat([df_train_temp_pos,df_train_temp], ignore_index=False, sort=False,axis=1)\n",
    "df_valid_final = pd.concat([df_valid_temp_pos,df_valid_temp], ignore_index=False, sort=False,axis=1)\n",
    "df_test_final = pd.concat([df_test_temp_pos,df_test_temp], ignore_index=False, sort=False,axis=1)"
   ]
  },
  {
   "cell_type": "code",
   "execution_count": 40,
   "metadata": {
    "colab": {},
    "colab_type": "code",
    "id": "AiBtn6W-Iesu"
   },
   "outputs": [],
   "source": [
    "df_train_final.drop(columns=['speaker','state'],inplace=True)\n",
    "df_valid_final.drop(columns=['speaker','state'],inplace=True)\n",
    "df_test_final.drop(columns=['speaker','state'],inplace=True)\n"
   ]
  },
  {
   "cell_type": "markdown",
   "metadata": {
    "colab_type": "text",
    "id": "yK_FQQ17SHhV"
   },
   "source": [
    "# Conversion to categorical variables and downtyping the columns for spatial efficiency"
   ]
  },
  {
   "cell_type": "code",
   "execution_count": 41,
   "metadata": {
    "colab": {},
    "colab_type": "code",
    "id": "23xbK748JP_8"
   },
   "outputs": [],
   "source": [
    "df_train_final['speaker'] = df_train['speaker'].astype('category')\n",
    "df_valid_final['speaker'] = df_valid['speaker']\n",
    "df_test_final['speaker'] = df_test['speaker']\n",
    "\n",
    "df_train_final['state'] = df_train['state'].astype('category')\n",
    "df_valid_final['state'] = df_valid['state']\n",
    "df_test_final['state'] = df_test['state']\n"
   ]
  },
  {
   "cell_type": "code",
   "execution_count": 42,
   "metadata": {
    "colab": {
     "base_uri": "https://localhost:8080/",
     "height": 372
    },
    "colab_type": "code",
    "id": "FEN2FYumT4kb",
    "outputId": "b84a58d2-eeb6-41c4-c0db-138276e6a10c"
   },
   "outputs": [
    {
     "data": {
      "text/html": [
       "<div>\n",
       "<style scoped>\n",
       "    .dataframe tbody tr th:only-of-type {\n",
       "        vertical-align: middle;\n",
       "    }\n",
       "\n",
       "    .dataframe tbody tr th {\n",
       "        vertical-align: top;\n",
       "    }\n",
       "\n",
       "    .dataframe thead th {\n",
       "        text-align: right;\n",
       "    }\n",
       "</style>\n",
       "<table border=\"1\" class=\"dataframe\">\n",
       "  <thead>\n",
       "    <tr style=\"text-align: right;\">\n",
       "      <th></th>\n",
       "      <th>speaker</th>\n",
       "      <th>speaker_job</th>\n",
       "      <th>state</th>\n",
       "      <th>party_affiliation</th>\n",
       "      <th>barely_true</th>\n",
       "      <th>false</th>\n",
       "      <th>false</th>\n",
       "      <th>half_true</th>\n",
       "      <th>mostly_true</th>\n",
       "      <th>pants_on_fire</th>\n",
       "      <th>...</th>\n",
       "      <th>sub_consumer-safety</th>\n",
       "      <th>sub_afghanistan</th>\n",
       "      <th>sub_congress</th>\n",
       "      <th>sub_abc-news-week</th>\n",
       "      <th>sub_state-finances</th>\n",
       "      <th>sub_legal-issues</th>\n",
       "      <th>sub_new-hampshire-2012</th>\n",
       "      <th>sub_gas-prices</th>\n",
       "      <th>sub_message-machine</th>\n",
       "      <th>sub_voting-record</th>\n",
       "    </tr>\n",
       "  </thead>\n",
       "  <tbody>\n",
       "    <tr>\n",
       "      <th>0</th>\n",
       "      <td>dwayne-bohac</td>\n",
       "      <td>State representative</td>\n",
       "      <td>Texas</td>\n",
       "      <td>republican</td>\n",
       "      <td>0.0</td>\n",
       "      <td>0.0</td>\n",
       "      <td>1.0</td>\n",
       "      <td>0.0</td>\n",
       "      <td>0.0</td>\n",
       "      <td>0.0</td>\n",
       "      <td>...</td>\n",
       "      <td>0</td>\n",
       "      <td>0</td>\n",
       "      <td>0</td>\n",
       "      <td>0</td>\n",
       "      <td>0</td>\n",
       "      <td>0</td>\n",
       "      <td>0</td>\n",
       "      <td>0</td>\n",
       "      <td>0</td>\n",
       "      <td>0</td>\n",
       "    </tr>\n",
       "    <tr>\n",
       "      <th>1</th>\n",
       "      <td>scott-surovell</td>\n",
       "      <td>State delegate</td>\n",
       "      <td>Virginia</td>\n",
       "      <td>democrat</td>\n",
       "      <td>0.0</td>\n",
       "      <td>0.0</td>\n",
       "      <td>0.0</td>\n",
       "      <td>1.0</td>\n",
       "      <td>1.0</td>\n",
       "      <td>0.0</td>\n",
       "      <td>...</td>\n",
       "      <td>0</td>\n",
       "      <td>0</td>\n",
       "      <td>0</td>\n",
       "      <td>0</td>\n",
       "      <td>0</td>\n",
       "      <td>0</td>\n",
       "      <td>0</td>\n",
       "      <td>0</td>\n",
       "      <td>0</td>\n",
       "      <td>0</td>\n",
       "    </tr>\n",
       "    <tr>\n",
       "      <th>2</th>\n",
       "      <td>barack-obama</td>\n",
       "      <td>President</td>\n",
       "      <td>Illinois</td>\n",
       "      <td>democrat</td>\n",
       "      <td>70.0</td>\n",
       "      <td>0.0</td>\n",
       "      <td>71.0</td>\n",
       "      <td>160.0</td>\n",
       "      <td>163.0</td>\n",
       "      <td>9.0</td>\n",
       "      <td>...</td>\n",
       "      <td>0</td>\n",
       "      <td>0</td>\n",
       "      <td>0</td>\n",
       "      <td>0</td>\n",
       "      <td>0</td>\n",
       "      <td>0</td>\n",
       "      <td>0</td>\n",
       "      <td>0</td>\n",
       "      <td>0</td>\n",
       "      <td>0</td>\n",
       "    </tr>\n",
       "    <tr>\n",
       "      <th>3</th>\n",
       "      <td>blog-posting</td>\n",
       "      <td>NA</td>\n",
       "      <td>NA</td>\n",
       "      <td>none</td>\n",
       "      <td>7.0</td>\n",
       "      <td>0.0</td>\n",
       "      <td>19.0</td>\n",
       "      <td>3.0</td>\n",
       "      <td>5.0</td>\n",
       "      <td>44.0</td>\n",
       "      <td>...</td>\n",
       "      <td>0</td>\n",
       "      <td>0</td>\n",
       "      <td>0</td>\n",
       "      <td>0</td>\n",
       "      <td>0</td>\n",
       "      <td>0</td>\n",
       "      <td>0</td>\n",
       "      <td>0</td>\n",
       "      <td>0</td>\n",
       "      <td>0</td>\n",
       "    </tr>\n",
       "    <tr>\n",
       "      <th>4</th>\n",
       "      <td>charlie-crist</td>\n",
       "      <td>NA</td>\n",
       "      <td>Florida</td>\n",
       "      <td>democrat</td>\n",
       "      <td>15.0</td>\n",
       "      <td>0.0</td>\n",
       "      <td>9.0</td>\n",
       "      <td>20.0</td>\n",
       "      <td>19.0</td>\n",
       "      <td>2.0</td>\n",
       "      <td>...</td>\n",
       "      <td>0</td>\n",
       "      <td>0</td>\n",
       "      <td>0</td>\n",
       "      <td>0</td>\n",
       "      <td>0</td>\n",
       "      <td>0</td>\n",
       "      <td>0</td>\n",
       "      <td>0</td>\n",
       "      <td>0</td>\n",
       "      <td>0</td>\n",
       "    </tr>\n",
       "  </tbody>\n",
       "</table>\n",
       "<p>5 rows × 153 columns</p>\n",
       "</div>"
      ],
      "text/plain": [
       "          speaker           speaker_job     state party_affiliation  \\\n",
       "0    dwayne-bohac  State representative     Texas        republican   \n",
       "1  scott-surovell        State delegate  Virginia          democrat   \n",
       "2    barack-obama             President  Illinois          democrat   \n",
       "3    blog-posting                    NA        NA              none   \n",
       "4   charlie-crist                    NA   Florida          democrat   \n",
       "\n",
       "   barely_true  false  false  half_true  mostly_true  pants_on_fire  \\\n",
       "0          0.0    0.0    1.0        0.0          0.0            0.0   \n",
       "1          0.0    0.0    0.0        1.0          1.0            0.0   \n",
       "2         70.0    0.0   71.0      160.0        163.0            9.0   \n",
       "3          7.0    0.0   19.0        3.0          5.0           44.0   \n",
       "4         15.0    0.0    9.0       20.0         19.0            2.0   \n",
       "\n",
       "         ...          sub_consumer-safety  sub_afghanistan  sub_congress  \\\n",
       "0        ...                            0                0             0   \n",
       "1        ...                            0                0             0   \n",
       "2        ...                            0                0             0   \n",
       "3        ...                            0                0             0   \n",
       "4        ...                            0                0             0   \n",
       "\n",
       "   sub_abc-news-week  sub_state-finances  sub_legal-issues  \\\n",
       "0                  0                   0                 0   \n",
       "1                  0                   0                 0   \n",
       "2                  0                   0                 0   \n",
       "3                  0                   0                 0   \n",
       "4                  0                   0                 0   \n",
       "\n",
       "   sub_new-hampshire-2012  sub_gas-prices  sub_message-machine  \\\n",
       "0                       0               0                    0   \n",
       "1                       0               0                    0   \n",
       "2                       0               0                    0   \n",
       "3                       0               0                    0   \n",
       "4                       0               0                    0   \n",
       "\n",
       "   sub_voting-record  \n",
       "0                  0  \n",
       "1                  0  \n",
       "2                  0  \n",
       "3                  0  \n",
       "4                  0  \n",
       "\n",
       "[5 rows x 153 columns]"
      ]
     },
     "execution_count": 42,
     "metadata": {},
     "output_type": "execute_result"
    }
   ],
   "source": [
    "df_train_final[final_cols].head()"
   ]
  },
  {
   "cell_type": "code",
   "execution_count": 43,
   "metadata": {
    "colab": {
     "base_uri": "https://localhost:8080/",
     "height": 51
    },
    "colab_type": "code",
    "id": "v132Oz64UKcx",
    "outputId": "157891ac-d397-45b4-f03c-fafb07bdbb9d"
   },
   "outputs": [
    {
     "name": "stdout",
     "output_type": "stream",
     "text": [
      "party_affiliation\n",
      "speaker_job\n"
     ]
    }
   ],
   "source": [
    "zz = ['party_affiliation',  'speaker_job']\n",
    "for col in zz:\n",
    "    print(col)\n",
    "    df_train_final[col] = df_train_final[col].astype('category')\n",
    "    #df_train_final[col] = df_train_final[col].apply(lambda x: x.cat.codes)\n",
    "    \n",
    "#     df_valid_final[col] = df_valid_final[col].astype('category')\n",
    "#     #df_train_final[col] = df_train_final[col].apply(lambda x: x.cat.codes)\n",
    "    \n",
    "#     df_test_final[col] = df_test_final[col].astype('category')\n",
    "#     #df_test_final[col] = df_test_final[col].apply(lambda x: x.cat.codes)"
   ]
  },
  {
   "cell_type": "code",
   "execution_count": 44,
   "metadata": {
    "colab": {},
    "colab_type": "code",
    "id": "UrFnKGQmWlS1"
   },
   "outputs": [],
   "source": [
    "# From FastAI\n",
    "def apply_cats(df, trn):\n",
    "    \"\"\"Changes any columns of strings in df into categorical variables using trn as\n",
    "    a template for the category codes.\n",
    "    Parameters:\n",
    "    -----------\n",
    "    df: A pandas dataframe. Any columns of strings will be changed to\n",
    "        categorical values. The category codes are determined by trn.\n",
    "    trn: A pandas dataframe. When creating a category for df, it looks up the\n",
    "        what the category's code were in trn and makes those the category codes\n",
    "        for df.\n",
    "        \"\"\"\n",
    "    for n,c in df.items():\n",
    "        if (n in trn.columns) and (trn[n].dtypes.name=='category'):\n",
    "            df[n] = c.astype('category').cat.as_ordered()\n",
    "            df[n].cat.set_categories(trn[n].cat.categories, ordered=True, inplace=True)\n"
   ]
  },
  {
   "cell_type": "code",
   "execution_count": 45,
   "metadata": {
    "colab": {},
    "colab_type": "code",
    "id": "4UuaCvpbW-mE"
   },
   "outputs": [],
   "source": [
    "apply_cats(df_valid_final,df_train_final)"
   ]
  },
  {
   "cell_type": "code",
   "execution_count": 46,
   "metadata": {
    "colab": {},
    "colab_type": "code",
    "id": "zTGHnlMmXHKT"
   },
   "outputs": [],
   "source": [
    "apply_cats(df_test_final,df_train_final)"
   ]
  },
  {
   "cell_type": "code",
   "execution_count": 47,
   "metadata": {
    "colab": {},
    "colab_type": "code",
    "id": "V8JWqij1KpAL"
   },
   "outputs": [],
   "source": [
    "final_cols[4:9]\n",
    "for col in final_cols[4:9]:\n",
    "  df_train_final[col] = df_train[col].astype(np.int16)\n",
    "\n",
    "  df_valid_final[col] = df_valid[col].astype(np.int16)\n",
    "\n",
    "  df_test_final[col] = df_test[col].astype(np.int16)\n",
    "  "
   ]
  },
  {
   "cell_type": "code",
   "execution_count": 48,
   "metadata": {
    "colab": {},
    "colab_type": "code",
    "id": "dfRZmeggLrOq"
   },
   "outputs": [],
   "source": [
    "for col in final_cols[9:]:\n",
    "  df_train_final[col] = df_train_final[col].astype(np.bool)\n",
    "\n",
    "  df_valid_final[col] = df_valid_final[col].astype(np.bool)\n",
    "\n",
    "  df_test_final[col] = df_test_final[col].astype(np.bool)\n",
    "  "
   ]
  },
  {
   "cell_type": "code",
   "execution_count": 49,
   "metadata": {
    "colab": {
     "base_uri": "https://localhost:8080/",
     "height": 34
    },
    "colab_type": "code",
    "id": "8KHROg3aX143",
    "outputId": "39ff59ae-1d90-4ece-aa4c-fda28b748f0d"
   },
   "outputs": [
    {
     "data": {
      "text/plain": [
       "(10240, 6150)"
      ]
     },
     "execution_count": 49,
     "metadata": {},
     "output_type": "execute_result"
    }
   ],
   "source": [
    "df_train_final.shape"
   ]
  },
  {
   "cell_type": "code",
   "execution_count": 50,
   "metadata": {
    "colab": {
     "base_uri": "https://localhost:8080/",
     "height": 163
    },
    "colab_type": "code",
    "id": "brnCZd69ZPmW",
    "outputId": "d3fe6a47-0bd2-42b8-ec47-240b21c98eaa"
   },
   "outputs": [
    {
     "data": {
      "text/plain": [
       "(1284, 6150)"
      ]
     },
     "execution_count": 50,
     "metadata": {},
     "output_type": "execute_result"
    }
   ],
   "source": [
    "df_valid_final.shape"
   ]
  },
  {
   "cell_type": "code",
   "execution_count": 51,
   "metadata": {
    "colab": {
     "base_uri": "https://localhost:8080/",
     "height": 34
    },
    "colab_type": "code",
    "id": "7QW5ULFLZVOe",
    "outputId": "375d0248-e93d-4348-a8ee-7566be27eeba"
   },
   "outputs": [
    {
     "data": {
      "text/plain": [
       "(1267, 6150)"
      ]
     },
     "execution_count": 51,
     "metadata": {},
     "output_type": "execute_result"
    }
   ],
   "source": [
    "df_test_final.shape"
   ]
  },
  {
   "cell_type": "markdown",
   "metadata": {
    "colab_type": "text",
    "id": "2P-ge0HbSYVx"
   },
   "source": [
    "# Removing duplicate columns created by the tfidf_pos and tfidf_neg vector and saving files to feather format for ease for quick reading from the disk"
   ]
  },
  {
   "cell_type": "code",
   "execution_count": 52,
   "metadata": {},
   "outputs": [],
   "source": [
    "cat_columns = df_train_final.select_dtypes(['category']).columns\n",
    "df_train_final[cat_columns] = df_train_final[cat_columns].apply(lambda x: x.cat.codes)\n",
    "\n",
    "df_valid_final[cat_columns] = df_valid_final[cat_columns].apply(lambda x: x.cat.codes)\n",
    "\n",
    "df_test_final[cat_columns] = df_test_final[cat_columns].apply(lambda x: x.cat.codes)"
   ]
  },
  {
   "cell_type": "code",
   "execution_count": 53,
   "metadata": {
    "colab": {},
    "colab_type": "code",
    "id": "6P3NXpxed4MC"
   },
   "outputs": [],
   "source": [
    "trial = df_train_final.loc[:,~df_train_final.columns.duplicated()]"
   ]
  },
  {
   "cell_type": "code",
   "execution_count": 54,
   "metadata": {
    "colab": {
     "base_uri": "https://localhost:8080/",
     "height": 34
    },
    "colab_type": "code",
    "id": "Vsh3EIbwemg4",
    "outputId": "53a970b0-44f7-4874-94a6-ce9bc5bd4b92"
   },
   "outputs": [
    {
     "data": {
      "text/plain": [
       "(10240, 6149)"
      ]
     },
     "execution_count": 54,
     "metadata": {},
     "output_type": "execute_result"
    }
   ],
   "source": [
    "trial.shape"
   ]
  },
  {
   "cell_type": "code",
   "execution_count": 55,
   "metadata": {
    "colab": {},
    "colab_type": "code",
    "id": "LoNgdbg6g5Ke"
   },
   "outputs": [],
   "source": [
    "trial.to_feather(f'{root_path}train')"
   ]
  },
  {
   "cell_type": "code",
   "execution_count": 56,
   "metadata": {
    "colab": {},
    "colab_type": "code",
    "id": "F9iIHJxNgg5R"
   },
   "outputs": [],
   "source": [
    "trial = df_valid_final.loc[:,~df_valid_final.columns.duplicated()]"
   ]
  },
  {
   "cell_type": "code",
   "execution_count": 57,
   "metadata": {
    "colab": {
     "base_uri": "https://localhost:8080/",
     "height": 34
    },
    "colab_type": "code",
    "id": "Zqh84Pq9gmwx",
    "outputId": "c7e89537-24ce-4e70-e3aa-87ee70404047"
   },
   "outputs": [
    {
     "data": {
      "text/plain": [
       "(1284, 6149)"
      ]
     },
     "execution_count": 57,
     "metadata": {},
     "output_type": "execute_result"
    }
   ],
   "source": [
    "trial.shape"
   ]
  },
  {
   "cell_type": "code",
   "execution_count": 58,
   "metadata": {
    "colab": {},
    "colab_type": "code",
    "id": "FOjCkbH5hLjm"
   },
   "outputs": [],
   "source": [
    "trial.to_feather(f'{root_path}valid')"
   ]
  },
  {
   "cell_type": "code",
   "execution_count": 59,
   "metadata": {
    "colab": {},
    "colab_type": "code",
    "id": "DdArzYpsgwVq"
   },
   "outputs": [],
   "source": [
    "trial = df_test_final.loc[:,~df_test_final.columns.duplicated()]"
   ]
  },
  {
   "cell_type": "code",
   "execution_count": 60,
   "metadata": {
    "colab": {
     "base_uri": "https://localhost:8080/",
     "height": 34
    },
    "colab_type": "code",
    "id": "t3N8X2YTgwsE",
    "outputId": "867d7b87-703a-4203-94cd-e1b5b88cea9d"
   },
   "outputs": [
    {
     "data": {
      "text/plain": [
       "(1267, 6149)"
      ]
     },
     "execution_count": 60,
     "metadata": {},
     "output_type": "execute_result"
    }
   ],
   "source": [
    "trial.shape"
   ]
  },
  {
   "cell_type": "code",
   "execution_count": 61,
   "metadata": {
    "colab": {},
    "colab_type": "code",
    "id": "Ck7EaeaThPvr"
   },
   "outputs": [],
   "source": [
    "trial.to_feather(f'{root_path}test')"
   ]
  },
  {
   "cell_type": "code",
   "execution_count": 5,
   "metadata": {},
   "outputs": [],
   "source": [
    "import feather"
   ]
  },
  {
   "cell_type": "markdown",
   "metadata": {
    "colab_type": "text",
    "id": "Sqy5Zfs0hveS"
   },
   "source": [
    "# Hyperparameter tuning and reporting results"
   ]
  },
  {
   "cell_type": "code",
   "execution_count": 6,
   "metadata": {
    "colab": {},
    "colab_type": "code",
    "id": "KULXcbgslSr6"
   },
   "outputs": [],
   "source": [
    "df_train = feather.read_dataframe(f'{root_path}train')\n",
    "df_valid = feather.read_dataframe(f'{root_path}valid')\n",
    "df_test = feather.read_dataframe(f'{root_path}test')\n",
    "\n",
    "\n",
    "y_train = np.load(f'{root_path}y_train.npy',allow_pickle=True)\n",
    "y_train_binary = np.load(f'{root_path}y_train_binary.npy',allow_pickle=True)\n",
    "\n",
    "y_valid = np.load(f'{root_path}y_valid.npy',allow_pickle=True)    \n",
    "y_valid_binary = np.load(f'{root_path}y_valid_binary.npy',allow_pickle=True)\n",
    "\n",
    "\n",
    "y_test = np.load(f'{root_path}y_test.npy',allow_pickle=True)    \n",
    "y_test_binary = np.load(f'{root_path}y_test_binary.npy',allow_pickle=True)\n",
    "    \n",
    "    "
   ]
  },
  {
   "cell_type": "code",
   "execution_count": 7,
   "metadata": {
    "colab": {},
    "colab_type": "code",
    "id": "nY5PcaBMjVEX"
   },
   "outputs": [],
   "source": [
    "def calc_accuracy(y_actual, y_pred, thresh=0.5):\n",
    "    # this function calculates the accuracy with probability threshold at thresh\n",
    "    return (sum((y_pred > thresh) & (y_actual == 1.0))+sum((y_pred < thresh) & (y_actual == 0.0))) /len(y_actual)\n",
    "\n",
    "def calc_recall(y_actual, y_pred, thresh=0.5):\n",
    "    # calculates the recall\n",
    "    if sum(y_actual)==0.0:\n",
    "        return 0.0\n",
    "    return sum((y_pred > thresh) & (y_actual == 1.0)) /(sum(y_actual))\n",
    "\n",
    "def calc_precision(y_actual, y_pred, thresh=0.5):\n",
    "    # calculates the precision\n",
    "    if sum(y_pred > thresh)==0:\n",
    "        return 0.0\n",
    "    return sum((y_pred > thresh) & (y_actual == 1.0)) /(sum(y_pred > thresh))\n",
    "\n",
    "def calc_specificity(y_actual, y_pred, thresh=0.5):\n",
    "    # calculates specificity\n",
    "    if sum(y_actual ==0)==0.0:\n",
    "        return 0.0\n",
    "    return sum((y_pred < thresh) & (y_actual == 0.0)) /(sum(y_actual ==0.0))\n",
    "\n",
    "def calc_prevalence(y_actual):\n",
    "    # calculates prevalence\n",
    "    return sum((y_actual == 1.0)) /len(y_actual)\n",
    "  \n",
    "def calc_f1(y_actual, y_pred, thresh=0.5):\n",
    "    # calculates the recall\n",
    "    precision = calc_precision(y_actual, y_pred, thresh)\n",
    "    #print('precsion',precision)\n",
    "    recall = calc_recall(y_actual, y_pred, thresh)\n",
    "    #print('recall',recall)\n",
    "    if precision + recall ==0.0:\n",
    "      return 0.0\n",
    "    f1 = float(2*precision*recall)/float(precision+recall)\n",
    "    return f1\n"
   ]
  },
  {
   "cell_type": "code",
   "execution_count": 8,
   "metadata": {
    "colab": {},
    "colab_type": "code",
    "id": "AlMdg0EchuPy"
   },
   "outputs": [],
   "source": [
    "from sklearn.metrics import roc_curve\n",
    "from sklearn.metrics import roc_auc_score\n",
    "\n",
    "def print_metrics(y_actual_first, y_pred_first, name_first='Valid',thresh=0.5):#, y_actual_second, y_pred_second, name_second):\n",
    "  fpr_first, tpr_first, thresholds_first = roc_curve(y_actual_first, y_pred_first)\n",
    "  #fpr_second, tpr_second, thresholds_second = roc_curve(y_actual_second, y_pred_second)\n",
    "\n",
    "\n",
    "  \n",
    "  auc_first = roc_auc_score(y_actual_first, y_pred_first)\n",
    "  #auc_second = roc_auc_score(y_actual_second, y_pred_second)\n",
    "  \n",
    "  print(name_first, 'AUC:%.3f'%auc_first)\n",
    "  #print(name_second, 'AUC:%.3f'%auc_second)\n",
    "\n",
    "  print(name_first, 'accuracy:%.3f'%calc_accuracy(y_actual_first, y_pred_first, thresh))\n",
    "  #print(name_second, 'accuracy:%.3f'%calc_accuracy(y_actual_second, y_pred_second, thresh))\n",
    "\n",
    "  print(name_first, 'recall:%.3f'%calc_recall(y_actual_first, y_pred_first, thresh))\n",
    "  #print(name_second, 'recall:%.3f'%calc_recall(y_actual_second, y_pred_second, thresh))\n",
    "  \n",
    "  print(name_first, 'precision:%.3f'%calc_precision(y_actual_first, y_pred_first, thresh))\n",
    "  #print(name_second, 'precision:%.3f'%calc_precision(y_actual_second, y_pred_second, thresh))\n",
    "  \n",
    "  print(name_first, 'F1:%.3f'%calc_f1(y_actual_first, y_pred_first, thresh))\n",
    "  #print(name_second, 'precision:%.3f'%calc_precision(y_actual_second, y_pred_second, thresh))\n",
    "  \n",
    "  print(name_first, 'specificity:%.3f'%calc_specificity(y_actual_first, y_pred_first, thresh))\n",
    "  #print(name_second, 'specificity:%.3f'%calc_specificity(y_actual_second, y_pred_second, thresh))\n",
    "  \n",
    "  print(name_first, 'prevalence:%.3f'%calc_prevalence(y_actual_first))\n",
    "  #print(name_second, 'prevalence:%.3f'%calc_prevalence(y_actual_second))\n",
    "  \n",
    "  \n",
    "  plt.plot(fpr_first, tpr_first,'r-', label = name_first + ' AUC: %.2f'%auc_first)\n",
    "  #plt.plot(fpr_second, tpr_second,'b-',label = name_second + ' AUC: %.2f'%auc_second)\n",
    "  plt.plot([0,1],[0,1],'-k')\n",
    "  plt.xlabel('False Positive Rate')\n",
    "  plt.ylabel('True Positive Rate')\n",
    "  plt.legend()\n",
    "  plt.show()"
   ]
  },
  {
   "cell_type": "code",
   "execution_count": 9,
   "metadata": {
    "colab": {},
    "colab_type": "code",
    "id": "vlDp7OBLkhMT"
   },
   "outputs": [],
   "source": [
    "from sklearn.linear_model import LogisticRegression\n",
    "from sklearn.ensemble.forest import RandomForestClassifier\n",
    "from sklearn.neural_network import MLPClassifier\n"
   ]
  },
  {
   "cell_type": "code",
   "execution_count": 67,
   "metadata": {
    "colab": {
     "base_uri": "https://localhost:8080/",
     "height": 34
    },
    "colab_type": "code",
    "id": "UwxS6qLbmEmU",
    "outputId": "8bcaa505-7c33-4bfd-9448-e815b5d2dd53"
   },
   "outputs": [
    {
     "data": {
      "text/plain": [
       "(10240, 6149)"
      ]
     },
     "execution_count": 67,
     "metadata": {},
     "output_type": "execute_result"
    }
   ],
   "source": [
    "df_train.shape"
   ]
  },
  {
   "cell_type": "code",
   "execution_count": 68,
   "metadata": {
    "colab": {},
    "colab_type": "code",
    "id": "_4JfuKdnmiY0"
   },
   "outputs": [],
   "source": [
    "n_jobs=-1"
   ]
  },
  {
   "cell_type": "markdown",
   "metadata": {
    "colab_type": "text",
    "id": "OMYHY4ssksew"
   },
   "source": [
    "# Logistic Regression Hyper Parameter Tuning and evaluation"
   ]
  },
  {
   "cell_type": "code",
   "execution_count": 72,
   "metadata": {
    "colab": {
     "base_uri": "https://localhost:8080/",
     "height": 1000
    },
    "colab_type": "code",
    "id": "2JfIjvo9kunV",
    "outputId": "53d2fdbc-3746-442f-c90e-331891a549ad"
   },
   "outputs": [
    {
     "name": "stdout",
     "output_type": "stream",
     "text": [
      "\n",
      " C: 0.002\n",
      "valid AUC:0.658\n",
      "valid accuracy:0.607\n",
      "valid recall:0.525\n",
      "valid precision:0.651\n",
      "valid F1:0.582\n",
      "valid specificity:0.695\n",
      "valid prevalence:0.520\n",
      "valid AUC:0.655\n",
      "valid accuracy:0.618\n",
      "valid recall:0.666\n",
      "valid precision:0.625\n",
      "valid F1:0.645\n",
      "valid specificity:0.567\n",
      "valid prevalence:0.520\n"
     ]
    },
    {
     "data": {
      "image/png": "[encoded data removed]",
      "text/plain": [
       "<Figure size 432x288 with 1 Axes>"
      ]
     },
     "metadata": {
      "needs_background": "light"
     },
     "output_type": "display_data"
    },
    {
     "name": "stdout",
     "output_type": "stream",
     "text": [
      "\n",
      " C: 0.005\n",
      "valid AUC:0.675\n",
      "valid accuracy:0.632\n",
      "valid recall:0.750\n",
      "valid precision:0.622\n",
      "valid F1:0.680\n",
      "valid specificity:0.505\n",
      "valid prevalence:0.520\n"
     ]
    },
    {
     "data": {
      "image/png": "[encoded data removed]",
      "text/plain": [
       "<Figure size 432x288 with 1 Axes>"
      ]
     },
     "metadata": {
      "needs_background": "light"
     },
     "output_type": "display_data"
    },
    {
     "name": "stdout",
     "output_type": "stream",
     "text": [
      "\n",
      " C: 0.01\n",
      "valid AUC:0.660\n",
      "valid accuracy:0.612\n",
      "valid recall:0.488\n",
      "valid precision:0.676\n",
      "valid F1:0.567\n",
      "valid specificity:0.747\n",
      "valid prevalence:0.520\n"
     ]
    },
    {
     "data": {
      "image/png": "[encoded data removed]",
      "text/plain": [
       "<Figure size 432x288 with 1 Axes>"
      ]
     },
     "metadata": {
      "needs_background": "light"
     },
     "output_type": "display_data"
    },
    {
     "name": "stdout",
     "output_type": "stream",
     "text": [
      "\n",
      " C: 0.02\n",
      "valid AUC:0.659\n",
      "valid accuracy:0.611\n",
      "valid recall:0.513\n",
      "valid precision:0.662\n",
      "valid F1:0.578\n",
      "valid specificity:0.716\n",
      "valid prevalence:0.520\n"
     ]
    },
    {
     "data": {
      "image/png": "[encoded data removed]",
      "text/plain": [
       "<Figure size 432x288 with 1 Axes>"
      ]
     },
     "metadata": {
      "needs_background": "light"
     },
     "output_type": "display_data"
    },
    {
     "name": "stdout",
     "output_type": "stream",
     "text": [
      "\n",
      " C: 0.03\n",
      "valid AUC:0.656\n",
      "valid accuracy:0.607\n",
      "valid recall:0.708\n",
      "valid precision:0.605\n",
      "valid F1:0.652\n",
      "valid specificity:0.498\n",
      "valid prevalence:0.520\n"
     ]
    },
    {
     "data": {
      "image/png": "[encoded data removed]",
      "text/plain": [
       "<Figure size 432x288 with 1 Axes>"
      ]
     },
     "metadata": {
      "needs_background": "light"
     },
     "output_type": "display_data"
    },
    {
     "name": "stdout",
     "output_type": "stream",
     "text": [
      "\n",
      " C: 0.05\n",
      "valid AUC:0.644\n",
      "valid accuracy:0.589\n",
      "valid recall:0.828\n",
      "valid precision:0.572\n",
      "valid F1:0.677\n",
      "valid specificity:0.330\n",
      "valid prevalence:0.520\n"
     ]
    },
    {
     "data": {
      "image/png": "[encoded data removed]",
      "text/plain": [
       "<Figure size 432x288 with 1 Axes>"
      ]
     },
     "metadata": {
      "needs_background": "light"
     },
     "output_type": "display_data"
    },
    {
     "name": "stdout",
     "output_type": "stream",
     "text": [
      "\n",
      " C: 0.1\n",
      "valid AUC:0.664\n",
      "valid accuracy:0.618\n",
      "valid recall:0.522\n",
      "valid precision:0.670\n",
      "valid F1:0.587\n",
      "valid specificity:0.721\n",
      "valid prevalence:0.520\n"
     ]
    },
    {
     "data": {
      "image/png": "[encoded data removed]",
      "text/plain": [
       "<Figure size 432x288 with 1 Axes>"
      ]
     },
     "metadata": {
      "needs_background": "light"
     },
     "output_type": "display_data"
    },
    {
     "name": "stdout",
     "output_type": "stream",
     "text": [
      "\n",
      " C: 0.2\n",
      "valid AUC:0.668\n",
      "valid accuracy:0.616\n",
      "valid recall:0.671\n",
      "valid precision:0.621\n",
      "valid F1:0.645\n",
      "valid specificity:0.557\n",
      "valid prevalence:0.520\n"
     ]
    },
    {
     "data": {
      "image/png": "[encoded data removed]",
      "text/plain": [
       "<Figure size 432x288 with 1 Axes>"
      ]
     },
     "metadata": {
      "needs_background": "light"
     },
     "output_type": "display_data"
    },
    {
     "name": "stdout",
     "output_type": "stream",
     "text": [
      "\n",
      " C: 0.5\n",
      "valid AUC:0.658\n",
      "valid accuracy:0.616\n",
      "valid recall:0.639\n",
      "valid precision:0.629\n",
      "valid F1:0.634\n",
      "valid specificity:0.591\n",
      "valid prevalence:0.520\n"
     ]
    },
    {
     "data": {
      "image/png": "[encoded data removed]",
      "text/plain": [
       "<Figure size 432x288 with 1 Axes>"
      ]
     },
     "metadata": {
      "needs_background": "light"
     },
     "output_type": "display_data"
    },
    {
     "name": "stdout",
     "output_type": "stream",
     "text": [
      "\n",
      " C: 1.0\n",
      "valid AUC:0.654\n",
      "valid accuracy:0.603\n",
      "valid recall:0.850\n",
      "valid precision:0.581\n",
      "valid F1:0.690\n",
      "valid specificity:0.334\n",
      "valid prevalence:0.520\n"
     ]
    },
    {
     "data": {
      "image/png": "[encoded data removed]",
      "text/plain": [
       "<Figure size 432x288 with 1 Axes>"
      ]
     },
     "metadata": {
      "needs_background": "light"
     },
     "output_type": "display_data"
    }
   ],
   "source": [
    "from sklearn.linear_model import LogisticRegression\n",
    "\n",
    "Cs = [0.002,0.003,0.005,0.01,0.02,0.03,0.05,0.1,0.2,0.5,1.0]\n",
    "train_aucs = np.zeros(len(Cs))\n",
    "valid_aucs = np.zeros(len(Cs))\n",
    "\n",
    "train_acc = np.zeros(len(Cs))\n",
    "valid_acc = np.zeros(len(Cs))\n",
    "\n",
    "train_precision = np.zeros(len(Cs))\n",
    "valid_precision = np.zeros(len(Cs))\n",
    "\n",
    "train_recall = np.zeros(len(Cs))\n",
    "valid_recall = np.zeros(len(Cs))\n",
    "\n",
    "train_f1 = np.zeros(len(Cs))\n",
    "valid_f1 = np.zeros(len(Cs))\n",
    "\n",
    "train_spec = np.zeros(len(Cs))\n",
    "valid_spec = np.zeros(len(Cs))\n",
    "\n",
    "\n",
    "for ii in range(len(Cs)):\n",
    "    C = Cs[ii]\n",
    "    print('\\n C:', C)\n",
    "    \n",
    "    # logistic regression\n",
    "    \n",
    "    clf=LogisticRegression(C = C, penalty = 'l2', solver='lbfgs', random_state = 42,max_iter=150,n_jobs=n_jobs)\n",
    "    clf.fit(df_train, y_train_binary)\n",
    "\n",
    "    model = clf\n",
    "    y_train_preds = model.predict_proba(df_train)[:,1]\n",
    "    y_valid_preds = model.predict_proba(df_valid)[:,1]\n",
    "\n",
    "    auc_train = roc_auc_score(y_train_binary, y_train_preds)\n",
    "    auc_valid = roc_auc_score(y_valid_binary, y_valid_preds)\n",
    "    \n",
    "    print_metrics(y_valid_binary, y_valid_preds, name_first='valid',thresh = 0.5)\n",
    "    \n",
    "    train_aucs[ii] = auc_train\n",
    "    valid_aucs[ii] = auc_valid\n",
    "    \n",
    "    train_acc[ii] = calc_accuracy(y_train_binary, y_train_preds)\n",
    "    valid_acc[ii] = calc_accuracy(y_valid_binary, y_valid_preds)\n",
    "    \n",
    "    train_precision[ii] = calc_precision(y_train_binary, y_train_preds)\n",
    "    valid_precision[ii] = calc_precision(y_valid_binary, y_valid_preds)\n",
    "    \n",
    "    train_recall[ii] = calc_recall(y_train_binary, y_train_preds)\n",
    "    valid_recall[ii] = calc_recall(y_valid_binary, y_valid_preds)\n",
    "    \n",
    "    train_f1[ii] = calc_f1(y_train_binary, y_train_preds)\n",
    "    valid_f1[ii] = calc_f1(y_valid_binary, y_valid_preds)\n",
    "    \n",
    "    train_spec[ii] = calc_specificity(y_train_binary, y_train_preds)\n",
    "    valid_spec[ii] = calc_specificity(y_valid_binary, y_valid_preds)\n",
    "    \n",
    "    "
   ]
  },
  {
   "cell_type": "code",
   "execution_count": 73,
   "metadata": {},
   "outputs": [],
   "source": [
    "lr_results=pd.DataFrame({'C':Cs,'valid-auc':valid_aucs,'valid-acc':valid_acc,'valid-precision':valid_precision,'valid-recall':valid_recall,'valid_f1':valid_f1})"
   ]
  },
  {
   "cell_type": "code",
   "execution_count": 76,
   "metadata": {},
   "outputs": [
    {
     "data": {
      "text/html": [
       "<div>\n",
       "<style scoped>\n",
       "    .dataframe tbody tr th:only-of-type {\n",
       "        vertical-align: middle;\n",
       "    }\n",
       "\n",
       "    .dataframe tbody tr th {\n",
       "        vertical-align: top;\n",
       "    }\n",
       "\n",
       "    .dataframe thead th {\n",
       "        text-align: right;\n",
       "    }\n",
       "</style>\n",
       "<table border=\"1\" class=\"dataframe\">\n",
       "  <thead>\n",
       "    <tr style=\"text-align: right;\">\n",
       "      <th></th>\n",
       "      <th>C</th>\n",
       "      <th>valid-auc</th>\n",
       "      <th>valid-acc</th>\n",
       "      <th>valid-precision</th>\n",
       "      <th>valid-recall</th>\n",
       "      <th>valid_f1</th>\n",
       "    </tr>\n",
       "  </thead>\n",
       "  <tbody>\n",
       "    <tr>\n",
       "      <th>0</th>\n",
       "      <td>0.002</td>\n",
       "      <td>0.657963</td>\n",
       "      <td>0.606698</td>\n",
       "      <td>0.651206</td>\n",
       "      <td>0.525449</td>\n",
       "      <td>0.581607</td>\n",
       "    </tr>\n",
       "    <tr>\n",
       "      <th>1</th>\n",
       "      <td>0.003</td>\n",
       "      <td>0.654751</td>\n",
       "      <td>0.618380</td>\n",
       "      <td>0.625000</td>\n",
       "      <td>0.666168</td>\n",
       "      <td>0.644928</td>\n",
       "    </tr>\n",
       "    <tr>\n",
       "      <th>2</th>\n",
       "      <td>0.005</td>\n",
       "      <td>0.675176</td>\n",
       "      <td>0.632399</td>\n",
       "      <td>0.621588</td>\n",
       "      <td>0.750000</td>\n",
       "      <td>0.679783</td>\n",
       "    </tr>\n",
       "    <tr>\n",
       "      <th>3</th>\n",
       "      <td>0.010</td>\n",
       "      <td>0.659599</td>\n",
       "      <td>0.612150</td>\n",
       "      <td>0.676349</td>\n",
       "      <td>0.488024</td>\n",
       "      <td>0.566957</td>\n",
       "    </tr>\n",
       "    <tr>\n",
       "      <th>4</th>\n",
       "      <td>0.020</td>\n",
       "      <td>0.659191</td>\n",
       "      <td>0.610592</td>\n",
       "      <td>0.662162</td>\n",
       "      <td>0.513473</td>\n",
       "      <td>0.578415</td>\n",
       "    </tr>\n",
       "    <tr>\n",
       "      <th>5</th>\n",
       "      <td>0.030</td>\n",
       "      <td>0.656204</td>\n",
       "      <td>0.607477</td>\n",
       "      <td>0.604859</td>\n",
       "      <td>0.708084</td>\n",
       "      <td>0.652414</td>\n",
       "    </tr>\n",
       "    <tr>\n",
       "      <th>6</th>\n",
       "      <td>0.050</td>\n",
       "      <td>0.644315</td>\n",
       "      <td>0.588785</td>\n",
       "      <td>0.572464</td>\n",
       "      <td>0.827844</td>\n",
       "      <td>0.676867</td>\n",
       "    </tr>\n",
       "    <tr>\n",
       "      <th>7</th>\n",
       "      <td>0.100</td>\n",
       "      <td>0.663502</td>\n",
       "      <td>0.617601</td>\n",
       "      <td>0.669866</td>\n",
       "      <td>0.522455</td>\n",
       "      <td>0.587048</td>\n",
       "    </tr>\n",
       "    <tr>\n",
       "      <th>8</th>\n",
       "      <td>0.200</td>\n",
       "      <td>0.667869</td>\n",
       "      <td>0.616044</td>\n",
       "      <td>0.621359</td>\n",
       "      <td>0.670659</td>\n",
       "      <td>0.645068</td>\n",
       "    </tr>\n",
       "    <tr>\n",
       "      <th>9</th>\n",
       "      <td>0.500</td>\n",
       "      <td>0.658308</td>\n",
       "      <td>0.616044</td>\n",
       "      <td>0.628866</td>\n",
       "      <td>0.639222</td>\n",
       "      <td>0.634001</td>\n",
       "    </tr>\n",
       "    <tr>\n",
       "      <th>10</th>\n",
       "      <td>1.000</td>\n",
       "      <td>0.654104</td>\n",
       "      <td>0.602804</td>\n",
       "      <td>0.580777</td>\n",
       "      <td>0.850299</td>\n",
       "      <td>0.690158</td>\n",
       "    </tr>\n",
       "  </tbody>\n",
       "</table>\n",
       "</div>"
      ],
      "text/plain": [
       "        C  valid-auc  valid-acc  valid-precision  valid-recall  valid_f1\n",
       "0   0.002   0.657963   0.606698         0.651206      0.525449  0.581607\n",
       "1   0.003   0.654751   0.618380         0.625000      0.666168  0.644928\n",
       "2   0.005   0.675176   0.632399         0.621588      0.750000  0.679783\n",
       "3   0.010   0.659599   0.612150         0.676349      0.488024  0.566957\n",
       "4   0.020   0.659191   0.610592         0.662162      0.513473  0.578415\n",
       "5   0.030   0.656204   0.607477         0.604859      0.708084  0.652414\n",
       "6   0.050   0.644315   0.588785         0.572464      0.827844  0.676867\n",
       "7   0.100   0.663502   0.617601         0.669866      0.522455  0.587048\n",
       "8   0.200   0.667869   0.616044         0.621359      0.670659  0.645068\n",
       "9   0.500   0.658308   0.616044         0.628866      0.639222  0.634001\n",
       "10  1.000   0.654104   0.602804         0.580777      0.850299  0.690158"
      ]
     },
     "execution_count": 76,
     "metadata": {},
     "output_type": "execute_result"
    }
   ],
   "source": [
    "lr_results"
   ]
  },
  {
   "cell_type": "code",
   "execution_count": null,
   "metadata": {},
   "outputs": [],
   "source": [
    "clf=LogisticRegression(C = 0.005\"\"\"Cs[np.argmax(valid_acc)]\"\"\", penalty = 'l2', solver='lbfgs', random_state = 42,max_iter=150,n_jobs=n_jobs)\n",
    "clf.fit(df_train, y_train_binary)\n",
    "\n",
    "model = clf\n",
    "y_train_preds = model.predict_proba(df_train)[:,1]\n",
    "y_test_preds = model.predict_proba(df_test)[:,1]\n",
    "\n",
    "print_metrics(y_test_binary, y_test_preds, name_first='test',thresh = 0.5)\n"
   ]
  },
  {
   "cell_type": "code",
   "execution_count": 75,
   "metadata": {},
   "outputs": [
    {
     "name": "stdout",
     "output_type": "stream",
     "text": [
      "test AUC:0.653\n",
      "test accuracy:0.611\n",
      "test recall:0.718\n",
      "test precision:0.637\n",
      "test F1:0.675\n",
      "test specificity:0.472\n",
      "test prevalence:0.564\n"
     ]
    },
    {
     "data": {
      "image/png": "[encoded data removed]",
      "text/plain": [
       "<Figure size 432x288 with 1 Axes>"
      ]
     },
     "metadata": {
      "needs_background": "light"
     },
     "output_type": "display_data"
    }
   ],
   "source": [
    "print_metrics(y_test_binary, y_test_preds, name_first='test',thresh = 0.5)\n"
   ]
  },
  {
   "cell_type": "code",
   "execution_count": 52,
   "metadata": {
    "colab": {
     "base_uri": "https://localhost:8080/",
     "height": 156
    },
    "colab_type": "code",
    "id": "rpkj2GgFYGbf",
    "outputId": "a00789d1-42be-4a3d-b4d9-0ee19348da42"
   },
   "outputs": [
    {
     "name": "stderr",
     "output_type": "stream",
     "text": [
      "/usr/lib/python3.6/site-packages/sklearn/linear_model/sag.py:334: ConvergenceWarning: The max_iter was reached which means the coef_ did not converge\n",
      "  \"the coef_ did not converge\", ConvergenceWarning)\n"
     ]
    },
    {
     "data": {
      "text/plain": [
       "LogisticRegression(C=0.0048828125, class_weight=None, dual=False,\n",
       "          fit_intercept=True, intercept_scaling=1, max_iter=150,\n",
       "          multi_class='multinomial', n_jobs=-1, penalty='l2',\n",
       "          random_state=None, solver='saga', tol=0.0001, verbose=0,\n",
       "          warm_start=False)"
      ]
     },
     "execution_count": 52,
     "metadata": {},
     "output_type": "execute_result"
    }
   ],
   "source": [
    "clf1 = LogisticRegression(C=50. / len(df_train),\n",
    "                         multi_class='multinomial',\n",
    "                         penalty='l2', solver='saga',n_jobs=-1,max_iter=150)\n",
    "clf1.fit(df_train, y_train)"
   ]
  },
  {
   "cell_type": "code",
   "execution_count": 54,
   "metadata": {
    "colab": {
     "base_uri": "https://localhost:8080/",
     "height": 34
    },
    "colab_type": "code",
    "id": "qFYAKuJoYien",
    "outputId": "1f3e753b-f461-4c8c-db75-ff8757de8d8b"
   },
   "outputs": [
    {
     "data": {
      "text/plain": [
       "0.29127725856697817"
      ]
     },
     "execution_count": 54,
     "metadata": {},
     "output_type": "execute_result"
    }
   ],
   "source": [
    "score = clf1.score(df_valid, y_valid)\n",
    "score"
   ]
  },
  {
   "cell_type": "code",
   "execution_count": 55,
   "metadata": {},
   "outputs": [
    {
     "data": {
      "text/plain": [
       "0.26361483820047354"
      ]
     },
     "execution_count": 55,
     "metadata": {},
     "output_type": "execute_result"
    }
   ],
   "source": [
    "score = clf1.score(df_test, y_test)\n",
    "score"
   ]
  },
  {
   "cell_type": "code",
   "execution_count": 78,
   "metadata": {},
   "outputs": [],
   "source": [
    "y_test_preds = clf1.predict(df_test)"
   ]
  },
  {
   "cell_type": "code",
   "execution_count": 80,
   "metadata": {},
   "outputs": [
    {
     "name": "stdout",
     "output_type": "stream",
     "text": [
      "              precision    recall  f1-score   support\n",
      "\n",
      "        true       0.26      0.18      0.22       212\n",
      "       false       0.23      0.73      0.35       249\n",
      "   half-true       0.35      0.18      0.24       265\n",
      "  pants-fire       0.31      0.20      0.24       241\n",
      " barely-true       0.49      0.18      0.27        92\n",
      " mostly-true       0.00      0.00      0.00       208\n",
      "\n",
      "   micro avg       0.26      0.26      0.26      1267\n",
      "   macro avg       0.27      0.25      0.22      1267\n",
      "weighted avg       0.26      0.26      0.22      1267\n",
      "\n"
     ]
    },
    {
     "name": "stderr",
     "output_type": "stream",
     "text": [
      "/usr/lib/python3.6/site-packages/sklearn/metrics/classification.py:1143: UndefinedMetricWarning: Precision and F-score are ill-defined and being set to 0.0 in labels with no predicted samples.\n",
      "  'precision', 'predicted', average, warn_for)\n"
     ]
    }
   ],
   "source": [
    "from sklearn import metrics\n",
    "print(metrics.classification_report(y_test, y_test_preds, target_names=pd.DataFrame({'target':y_test})['target'].unique()))"
   ]
  },
  {
   "cell_type": "markdown",
   "metadata": {},
   "source": [
    "# Random Forest Hyper-parameter tuning and evaluation"
   ]
  },
  {
   "cell_type": "code",
   "execution_count": 15,
   "metadata": {},
   "outputs": [
    {
     "name": "stdout",
     "output_type": "stream",
     "text": [
      "valid AUC:0.821\n",
      "valid accuracy:0.717\n",
      "valid recall:0.862\n",
      "valid precision:0.679\n",
      "valid F1:0.760\n",
      "valid specificity:0.558\n",
      "valid prevalence:0.520\n"
     ]
    },
    {
     "data": {
      "image/png": "[encoded data removed]",
      "text/plain": [
       "<Figure size 432x288 with 1 Axes>"
      ]
     },
     "metadata": {
      "needs_background": "light"
     },
     "output_type": "display_data"
    },
    {
     "name": "stdout",
     "output_type": "stream",
     "text": [
      "test AUC:0.809\n",
      "test accuracy:0.727\n",
      "test recall:0.873\n",
      "test precision:0.710\n",
      "test F1:0.783\n",
      "test specificity:0.539\n",
      "test prevalence:0.564\n"
     ]
    },
    {
     "data": {
      "image/png": "[encoded data removed]",
      "text/plain": [
       "<Figure size 432x288 with 1 Axes>"
      ]
     },
     "metadata": {
      "needs_background": "light"
     },
     "output_type": "display_data"
    }
   ],
   "source": [
    "clf = RandomForestClassifier(max_features=0.6,max_depth = 23,min_samples_leaf = 13,min_samples_split = 13,n_estimators = 70 , criterion = 'entropy', random_state = 42,n_jobs=-1)\n",
    "clf.fit(df_train, y_train_binary)\n",
    "model=clf\n",
    "y_train_preds = model.predict_proba(df_train)[:,1]\n",
    "y_test_preds = model.predict_proba(df_test)[:,1]\n",
    "y_valid_preds = model.predict_proba(df_valid)[:,1]\n",
    "print_metrics(y_valid_binary, y_valid_preds, name_first='valid',thresh = 0.5) \n",
    "print_metrics(y_test_binary, y_test_preds, name_first='test',thresh = 0.5)"
   ]
  },
  {
   "cell_type": "code",
   "execution_count": 87,
   "metadata": {},
   "outputs": [
    {
     "name": "stdout",
     "output_type": "stream",
     "text": [
      "valid AUC:0.819\n",
      "valid accuracy:0.708\n",
      "valid recall:0.853\n",
      "valid precision:0.673\n",
      "valid F1:0.752\n",
      "valid specificity:0.550\n",
      "valid prevalence:0.520\n"
     ]
    },
    {
     "data": {
      "image/png": "[encoded data removed]",
      "text/plain": [
       "<Figure size 432x288 with 1 Axes>"
      ]
     },
     "metadata": {
      "needs_background": "light"
     },
     "output_type": "display_data"
    },
    {
     "name": "stdout",
     "output_type": "stream",
     "text": [
      "test AUC:0.810\n",
      "test accuracy:0.725\n",
      "test recall:0.880\n",
      "test precision:0.705\n",
      "test F1:0.783\n",
      "test specificity:0.524\n",
      "test prevalence:0.564\n"
     ]
    },
    {
     "data": {
      "image/png": "[encoded data removed]",
      "text/plain": [
       "<Figure size 432x288 with 1 Axes>"
      ]
     },
     "metadata": {
      "needs_background": "light"
     },
     "output_type": "display_data"
    }
   ],
   "source": [
    "clf = RandomForestClassifier(max_features=0.6,max_depth = 23,min_samples_leaf = 13,min_samples_split = 13,n_estimators = 70 , criterion = 'gini', random_state = 42,n_jobs=-1)\n",
    "clf.fit(df_train, y_train_binary)\n",
    "model=clf\n",
    "y_train_preds = model.predict_proba(df_train)[:,1]\n",
    "y_test_preds = model.predict_proba(df_test)[:,1]\n",
    "y_valid_preds = model.predict_proba(df_valid)[:,1]\n",
    "print_metrics(y_valid_binary, y_valid_preds, name_first='valid',thresh = 0.5) \n",
    "print_metrics(y_test_binary, y_test_preds, name_first='test',thresh = 0.5)"
   ]
  },
  {
   "cell_type": "code",
   "execution_count": 17,
   "metadata": {},
   "outputs": [
    {
     "data": {
      "text/plain": [
       "RandomForestClassifier(bootstrap=True, class_weight=None, criterion='gini',\n",
       "            max_depth=23, max_features=0.6, max_leaf_nodes=None,\n",
       "            min_impurity_decrease=0.0, min_impurity_split=None,\n",
       "            min_samples_leaf=13, min_samples_split=13,\n",
       "            min_weight_fraction_leaf=0.0, n_estimators=70, n_jobs=-1,\n",
       "            oob_score=False, random_state=42, verbose=0, warm_start=False)"
      ]
     },
     "execution_count": 17,
     "metadata": {},
     "output_type": "execute_result"
    }
   ],
   "source": [
    "clf = RandomForestClassifier(max_features=0.6,max_depth = 23,min_samples_leaf = 13,min_samples_split = 13,n_estimators = 70 , criterion = 'gini', random_state = 42,n_jobs=-1)\n",
    "clf.fit(df_train, y_train)\n",
    "\n"
   ]
  },
  {
   "cell_type": "code",
   "execution_count": 18,
   "metadata": {},
   "outputs": [],
   "source": [
    "y_test_pred = clf.predict(df_test)"
   ]
  },
  {
   "cell_type": "code",
   "execution_count": 49,
   "metadata": {},
   "outputs": [
    {
     "data": {
      "image/png": "[encoded data removed]",
      "text/plain": [
       "<Figure size 576x576 with 2 Axes>"
      ]
     },
     "metadata": {
      "needs_background": "light"
     },
     "output_type": "display_data"
    }
   ],
   "source": [
    "import seaborn as sns\n",
    "from sklearn.metrics import confusion_matrix\n",
    "conf_mat = confusion_matrix(y_test, y_test_pred)\n",
    "fig, ax = plt.subplots(figsize=(8,8))\n",
    "sns.heatmap(conf_mat, annot=True, fmt='d',square=True,cmap=\"YlGnBu\",robust=True,\n",
    "            xticklabels=pd.DataFrame({'target':y_test})['target'].unique(), yticklabels=pd.DataFrame({'target':y_test})['target'].unique())\n",
    "plt.ylabel('Actual')\n",
    "plt.xlabel('Predicted')\n",
    "plt.tight_layout()\n",
    "plt.savefig('cm_single.png')\n",
    "plt.show()"
   ]
  },
  {
   "cell_type": "code",
   "execution_count": 51,
   "metadata": {},
   "outputs": [
    {
     "data": {
      "text/plain": [
       "0.4159431728492502"
      ]
     },
     "execution_count": 51,
     "metadata": {},
     "output_type": "execute_result"
    }
   ],
   "source": [
    "score = clf.score(df_test, y_test)\n",
    "score"
   ]
  },
  {
   "cell_type": "code",
   "execution_count": 50,
   "metadata": {},
   "outputs": [
    {
     "name": "stdout",
     "output_type": "stream",
     "text": [
      "              precision    recall  f1-score   support\n",
      "\n",
      "        true       0.58      0.27      0.37       212\n",
      "       false       0.46      0.47      0.46       249\n",
      "   half-true       0.35      0.55      0.43       265\n",
      "  pants-fire       0.36      0.49      0.41       241\n",
      " barely-true       0.48      0.50      0.49        92\n",
      " mostly-true       0.61      0.20      0.30       208\n",
      "\n",
      "   micro avg       0.42      0.42      0.42      1267\n",
      "   macro avg       0.47      0.41      0.41      1267\n",
      "weighted avg       0.46      0.42      0.41      1267\n",
      "\n"
     ]
    }
   ],
   "source": [
    "from sklearn import metrics\n",
    "print(metrics.classification_report(y_test, y_test_pred, target_names=pd.DataFrame({'target':y_test})['target'].unique()))"
   ]
  },
  {
   "cell_type": "code",
   "execution_count": 74,
   "metadata": {},
   "outputs": [],
   "source": [
    "l = []\n",
    "for i,feature in enumerate(clf.feature_importances_):\n",
    "    l.append((df_train.columns[i],feature))"
   ]
  },
  {
   "cell_type": "code",
   "execution_count": 75,
   "metadata": {},
   "outputs": [],
   "source": [
    "from operator import itemgetter\n",
    "l.sort( key = lambda x: x[1])"
   ]
  },
  {
   "cell_type": "code",
   "execution_count": 76,
   "metadata": {},
   "outputs": [],
   "source": [
    "l.reverse()\n"
   ]
  },
  {
   "cell_type": "code",
   "execution_count": 77,
   "metadata": {},
   "outputs": [
    {
     "data": {
      "text/plain": [
       "[('mostly_true', 0.15748638921774724),\n",
       " ('barely_true', 0.15069448382699413),\n",
       " ('false', 0.13155558175442872),\n",
       " ('half_true', 0.12720486736909176),\n",
       " ('pants_on_fire', 0.1072074017347963),\n",
       " ('say', 0.03644245383514859),\n",
       " ('speaker', 0.020153955028225357),\n",
       " ('s', 0.019760206053632493),\n",
       " ('speaker_job', 0.014731357371784265),\n",
       " ('party_affiliation', 0.013282341479401053),\n",
       " ('state', 0.012332398527883632),\n",
       " ('year', 0.008587447327145227),\n",
       " ('percent', 0.007916944913792303),\n",
       " ('interview', 0.006403714001362206),\n",
       " ('campaign', 0.004234163103859688),\n",
       " ('obama', 0.004173722633339087),\n",
       " ('ad', 0.003992265992370272),\n",
       " ('statement', 0.0032203657804916424),\n",
       " ('speech', 0.003114936949444101),\n",
       " ('vote', 0.003079296689501714),\n",
       " ('number', 0.0030134102375236342),\n",
       " ('people', 0.0029616707393217046),\n",
       " ('time', 0.002924581963334265),\n",
       " ('republican', 0.0027931593511019317),\n",
       " ('sub_health-care', 0.0024729513367777165),\n",
       " ('support', 0.0023997728029140283),\n",
       " ('t', 0.002292167044847377),\n",
       " ('use', 0.002160750716559507),\n",
       " ('new', 0.002138436364757333),\n",
       " ('law', 0.0021099835310546275),\n",
       " ('point', 0.002058327746300442),\n",
       " ('debate', 0.0018981618052180548),\n",
       " ('job', 0.0018421567343658383),\n",
       " ('news', 0.0017968099190008786),\n",
       " ('high', 0.0017922596958655438),\n",
       " ('million', 0.0016635396726961994),\n",
       " ('president', 0.0016445649918800803),\n",
       " ('press', 0.001621623177526341),\n",
       " ('u', 0.0016150609707493858),\n",
       " ('federal', 0.001593798977186722),\n",
       " ('come', 0.0015223149719038216),\n",
       " ('release', 0.0015133299383045754),\n",
       " ('u s', 0.0015111933452475255),\n",
       " ('government', 0.001496913319632594),\n",
       " ('pay', 0.0014511608339580237),\n",
       " ('health', 0.0014425955687216152),\n",
       " ('american', 0.0014311135067432343),\n",
       " ('include', 0.001409301697919377),\n",
       " ('case', 0.0013716867464353766),\n",
       " ('tax', 0.0013432520028194873),\n",
       " ('care', 0.0012841634521359058),\n",
       " ('billion', 0.0012677313381932015),\n",
       " ('rate', 0.0012597662060643547),\n",
       " ('right', 0.0012447507399681616),\n",
       " ('budget', 0.001194817627004154),\n",
       " ('increase', 0.0011199427254399118),\n",
       " ('cut', 0.0010764836541209207),\n",
       " ('country', 0.0010143397063478964),\n",
       " ('post', 0.000994908579216032),\n",
       " ('house', 0.0009853564346656387),\n",
       " ('chain', 0.0009512671902267061),\n",
       " ('worker', 0.0009189752395815654),\n",
       " ('senate', 0.0008969284490303284),\n",
       " ('clinton', 0.0008836601546952908),\n",
       " ('presidential', 0.0008714308179326181),\n",
       " ('fund', 0.0008700312458346232),\n",
       " ('democrat', 0.0008351639605130527),\n",
       " ('taxis', 0.0008285697643609779),\n",
       " ('reduce', 0.0008139553988322754),\n",
       " ('just', 0.000803043428933209),\n",
       " ('comment', 0.0007964560510993885),\n",
       " ('texas', 0.0007875611245807098),\n",
       " ('plan', 0.0007782583155713264),\n",
       " ('correct', 0.0007761978680250422),\n",
       " ('leave', 0.0007687178081156278),\n",
       " ('today', 0.0007623323127746018),\n",
       " ('change', 0.0007369079362755723),\n",
       " ('ad say', 0.0007185975039837989),\n",
       " ('sub_economy', 0.0007137507423271798),\n",
       " ('spending', 0.0007128764140025883),\n",
       " ('fact', 0.0007068017493045767),\n",
       " ('national', 0.0006699830763703922),\n",
       " ('sub_elections', 0.000659445814697738),\n",
       " ('facebook', 0.0006507048695775233),\n",
       " ('tv', 0.0006348433541442459),\n",
       " ('report', 0.0006248405375436232),\n",
       " ('cost', 0.0006114267443920768),\n",
       " ('radio', 0.0006065550107781575),\n",
       " ('act', 0.0006041774325729905),\n",
       " ('know', 0.0005988878406620326),\n",
       " ('clear', 0.0005949133316459296),\n",
       " ('presidential debate', 0.0005784915199285658),\n",
       " ('hillary', 0.000574033340463161),\n",
       " ('large', 0.0005685143640284554),\n",
       " ('far', 0.0005675572151425307),\n",
       " ('work', 0.0005561022852011581),\n",
       " ('accord', 0.0005525036594564735),\n",
       " ('georgia', 0.0005428658401042437),\n",
       " ('governor', 0.0005385237939632788),\n",
       " ('suggest', 0.0005196151763069884)]"
      ]
     },
     "execution_count": 77,
     "metadata": {},
     "output_type": "execute_result"
    }
   ],
   "source": [
    "l[:100]"
   ]
  },
  {
   "cell_type": "code",
   "execution_count": null,
   "metadata": {},
   "outputs": [],
   "source": []
  }
 ],
 "metadata": {
  "accelerator": "GPU",
  "colab": {
   "collapsed_sections": [],
   "name": "Raj_Intern_Fast_AI_ML (2).ipynb",
   "provenance": [],
   "toc_visible": true,
   "version": "0.3.2"
  },
  "kernelspec": {
   "display_name": "Python 3",
   "language": "python",
   "name": "python3"
  },
  "language_info": {
   "codemirror_mode": {
    "name": "ipython",
    "version": 3
   },
   "file_extension": ".py",
   "mimetype": "text/x-python",
   "name": "python",
   "nbconvert_exporter": "python",
   "pygments_lexer": "ipython3",
   "version": "3.6.7"
  }
 },
 "nbformat": 4,
 "nbformat_minor": 1
}
